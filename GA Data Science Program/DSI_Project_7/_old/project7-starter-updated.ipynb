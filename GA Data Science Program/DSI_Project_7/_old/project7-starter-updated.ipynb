{
 "cells": [
  {
   "cell_type": "markdown",
   "metadata": {
    "focus": true,
    "id": "d21ca30e-294e-4146-8e4f-a5c331f7a36e"
   },
   "source": [
    "### Project 7 \n",
    "\n",
    "In this project, you will implement the the clustering techniques that you've learned this week. \n",
    "\n",
    "#### Step 1: Load the python libraries that you will need for this project "
   ]
  },
  {
   "cell_type": "code",
   "execution_count": 56,
   "metadata": {
    "collapsed": true,
    "focus": false,
    "id": "78c3bb3f-f513-437b-94f8-bc363b6e7a8b"
   },
   "outputs": [],
   "source": [
    "import pandas as pd \n",
    "import matplotlib as plt\n",
    "import numpy as np\n",
    "import sklearn as sk \n",
    "import seaborn as sb\n",
    "\n",
    "pd.set_option('display.max_columns', None)\n",
    "\n",
    "%matplotlib inline\n"
   ]
  },
  {
   "cell_type": "markdown",
   "metadata": {
    "focus": false,
    "id": "2c6f52ae-e694-463c-87d8-1974726c2e7a"
   },
   "source": [
    "#### Step 2: Examine your data "
   ]
  },
  {
   "cell_type": "code",
   "execution_count": 34,
   "metadata": {
    "collapsed": false,
    "focus": false,
    "id": "0f64db5a-e176-46a1-a10b-8c7db09437bc"
   },
   "outputs": [],
   "source": [
    "df_raw = pd.read_csv(\"assets/airport_cancellations.csv\")\n",
    "df = df_raw.dropna() \n"
   ]
  },
  {
   "cell_type": "code",
   "execution_count": 35,
   "metadata": {
    "collapsed": false
   },
   "outputs": [
    {
     "name": "stdout",
     "output_type": "stream",
     "text": [
      "<class 'pandas.core.frame.DataFrame'>\n",
      "Int64Index: 805 entries, 0 to 804\n",
      "Data columns (total 6 columns):\n",
      "Airport                    805 non-null object\n",
      "Year                       805 non-null float64\n",
      "Departure Cancellations    805 non-null float64\n",
      "Arrival Cancellations      805 non-null float64\n",
      "Departure Diversions       805 non-null float64\n",
      "Arrival Diversions         805 non-null float64\n",
      "dtypes: float64(5), object(1)\n",
      "memory usage: 44.0+ KB\n"
     ]
    }
   ],
   "source": [
    "df.info()"
   ]
  },
  {
   "cell_type": "code",
   "execution_count": 36,
   "metadata": {
    "collapsed": false
   },
   "outputs": [
    {
     "data": {
      "text/html": [
       "<div>\n",
       "<table border=\"1\" class=\"dataframe\">\n",
       "  <thead>\n",
       "    <tr style=\"text-align: right;\">\n",
       "      <th></th>\n",
       "      <th>Year</th>\n",
       "      <th>Departure Cancellations</th>\n",
       "      <th>Arrival Cancellations</th>\n",
       "      <th>Departure Diversions</th>\n",
       "      <th>Arrival Diversions</th>\n",
       "    </tr>\n",
       "  </thead>\n",
       "  <tbody>\n",
       "    <tr>\n",
       "      <th>Year</th>\n",
       "      <td>1.000000</td>\n",
       "      <td>-0.069382</td>\n",
       "      <td>-0.065905</td>\n",
       "      <td>-0.014727</td>\n",
       "      <td>-0.030503</td>\n",
       "    </tr>\n",
       "    <tr>\n",
       "      <th>Departure Cancellations</th>\n",
       "      <td>-0.069382</td>\n",
       "      <td>1.000000</td>\n",
       "      <td>0.997469</td>\n",
       "      <td>0.796852</td>\n",
       "      <td>0.792645</td>\n",
       "    </tr>\n",
       "    <tr>\n",
       "      <th>Arrival Cancellations</th>\n",
       "      <td>-0.065905</td>\n",
       "      <td>0.997469</td>\n",
       "      <td>1.000000</td>\n",
       "      <td>0.814804</td>\n",
       "      <td>0.794165</td>\n",
       "    </tr>\n",
       "    <tr>\n",
       "      <th>Departure Diversions</th>\n",
       "      <td>-0.014727</td>\n",
       "      <td>0.796852</td>\n",
       "      <td>0.814804</td>\n",
       "      <td>1.000000</td>\n",
       "      <td>0.840629</td>\n",
       "    </tr>\n",
       "    <tr>\n",
       "      <th>Arrival Diversions</th>\n",
       "      <td>-0.030503</td>\n",
       "      <td>0.792645</td>\n",
       "      <td>0.794165</td>\n",
       "      <td>0.840629</td>\n",
       "      <td>1.000000</td>\n",
       "    </tr>\n",
       "  </tbody>\n",
       "</table>\n",
       "</div>"
      ],
      "text/plain": [
       "                             Year  Departure Cancellations  \\\n",
       "Year                     1.000000                -0.069382   \n",
       "Departure Cancellations -0.069382                 1.000000   \n",
       "Arrival Cancellations   -0.065905                 0.997469   \n",
       "Departure Diversions    -0.014727                 0.796852   \n",
       "Arrival Diversions      -0.030503                 0.792645   \n",
       "\n",
       "                         Arrival Cancellations  Departure Diversions  \\\n",
       "Year                                 -0.065905             -0.014727   \n",
       "Departure Cancellations               0.997469              0.796852   \n",
       "Arrival Cancellations                 1.000000              0.814804   \n",
       "Departure Diversions                  0.814804              1.000000   \n",
       "Arrival Diversions                    0.794165              0.840629   \n",
       "\n",
       "                         Arrival Diversions  \n",
       "Year                              -0.030503  \n",
       "Departure Cancellations            0.792645  \n",
       "Arrival Cancellations              0.794165  \n",
       "Departure Diversions               0.840629  \n",
       "Arrival Diversions                 1.000000  "
      ]
     },
     "execution_count": 36,
     "metadata": {},
     "output_type": "execute_result"
    }
   ],
   "source": [
    "df.corr()"
   ]
  },
  {
   "cell_type": "code",
   "execution_count": 37,
   "metadata": {
    "collapsed": false
   },
   "outputs": [
    {
     "data": {
      "text/html": [
       "<div>\n",
       "<table border=\"1\" class=\"dataframe\">\n",
       "  <thead>\n",
       "    <tr style=\"text-align: right;\">\n",
       "      <th></th>\n",
       "      <th>Year</th>\n",
       "      <th>Departure Cancellations</th>\n",
       "      <th>Arrival Cancellations</th>\n",
       "      <th>Departure Diversions</th>\n",
       "      <th>Arrival Diversions</th>\n",
       "    </tr>\n",
       "  </thead>\n",
       "  <tbody>\n",
       "    <tr>\n",
       "      <th>count</th>\n",
       "      <td>805.000000</td>\n",
       "      <td>805.000000</td>\n",
       "      <td>805.000000</td>\n",
       "      <td>805.000000</td>\n",
       "      <td>805.000000</td>\n",
       "    </tr>\n",
       "    <tr>\n",
       "      <th>mean</th>\n",
       "      <td>2008.986335</td>\n",
       "      <td>1292.038509</td>\n",
       "      <td>1333.124224</td>\n",
       "      <td>173.315528</td>\n",
       "      <td>169.413665</td>\n",
       "    </tr>\n",
       "    <tr>\n",
       "      <th>std</th>\n",
       "      <td>3.158116</td>\n",
       "      <td>1835.961943</td>\n",
       "      <td>1975.224868</td>\n",
       "      <td>172.345539</td>\n",
       "      <td>228.521615</td>\n",
       "    </tr>\n",
       "    <tr>\n",
       "      <th>min</th>\n",
       "      <td>2004.000000</td>\n",
       "      <td>0.000000</td>\n",
       "      <td>0.000000</td>\n",
       "      <td>0.000000</td>\n",
       "      <td>0.000000</td>\n",
       "    </tr>\n",
       "    <tr>\n",
       "      <th>25%</th>\n",
       "      <td>2006.000000</td>\n",
       "      <td>349.000000</td>\n",
       "      <td>314.000000</td>\n",
       "      <td>62.000000</td>\n",
       "      <td>41.000000</td>\n",
       "    </tr>\n",
       "    <tr>\n",
       "      <th>50%</th>\n",
       "      <td>2009.000000</td>\n",
       "      <td>663.000000</td>\n",
       "      <td>642.000000</td>\n",
       "      <td>110.000000</td>\n",
       "      <td>84.000000</td>\n",
       "    </tr>\n",
       "    <tr>\n",
       "      <th>75%</th>\n",
       "      <td>2012.000000</td>\n",
       "      <td>1472.000000</td>\n",
       "      <td>1523.000000</td>\n",
       "      <td>236.000000</td>\n",
       "      <td>190.000000</td>\n",
       "    </tr>\n",
       "    <tr>\n",
       "      <th>max</th>\n",
       "      <td>2014.000000</td>\n",
       "      <td>16618.000000</td>\n",
       "      <td>17571.000000</td>\n",
       "      <td>1064.000000</td>\n",
       "      <td>1948.000000</td>\n",
       "    </tr>\n",
       "  </tbody>\n",
       "</table>\n",
       "</div>"
      ],
      "text/plain": [
       "              Year  Departure Cancellations  Arrival Cancellations  \\\n",
       "count   805.000000               805.000000             805.000000   \n",
       "mean   2008.986335              1292.038509            1333.124224   \n",
       "std       3.158116              1835.961943            1975.224868   \n",
       "min    2004.000000                 0.000000               0.000000   \n",
       "25%    2006.000000               349.000000             314.000000   \n",
       "50%    2009.000000               663.000000             642.000000   \n",
       "75%    2012.000000              1472.000000            1523.000000   \n",
       "max    2014.000000             16618.000000           17571.000000   \n",
       "\n",
       "       Departure Diversions  Arrival Diversions  \n",
       "count            805.000000          805.000000  \n",
       "mean             173.315528          169.413665  \n",
       "std              172.345539          228.521615  \n",
       "min                0.000000            0.000000  \n",
       "25%               62.000000           41.000000  \n",
       "50%              110.000000           84.000000  \n",
       "75%              236.000000          190.000000  \n",
       "max             1064.000000         1948.000000  "
      ]
     },
     "execution_count": 37,
     "metadata": {},
     "output_type": "execute_result"
    }
   ],
   "source": [
    "df.describe()"
   ]
  },
  {
   "cell_type": "code",
   "execution_count": 38,
   "metadata": {
    "collapsed": false
   },
   "outputs": [
    {
     "data": {
      "text/plain": [
       "Year                       9.973694e+00\n",
       "Departure Cancellations    3.370756e+06\n",
       "Arrival Cancellations      3.901513e+06\n",
       "Departure Diversions       2.970298e+04\n",
       "Arrival Diversions         5.222213e+04\n",
       "dtype: float64"
      ]
     },
     "execution_count": 38,
     "metadata": {},
     "output_type": "execute_result"
    }
   ],
   "source": [
    "df.var()"
   ]
  },
  {
   "cell_type": "code",
   "execution_count": 39,
   "metadata": {
    "collapsed": true
   },
   "outputs": [],
   "source": [
    "df.rename(columns=lambda x: x.replace(' ', '_').lower(), inplace=True)"
   ]
  },
  {
   "cell_type": "code",
   "execution_count": 40,
   "metadata": {
    "collapsed": false
   },
   "outputs": [
    {
     "data": {
      "text/html": [
       "<div>\n",
       "<table border=\"1\" class=\"dataframe\">\n",
       "  <thead>\n",
       "    <tr style=\"text-align: right;\">\n",
       "      <th></th>\n",
       "      <th>airport</th>\n",
       "      <th>year</th>\n",
       "      <th>departure_cancellations</th>\n",
       "      <th>arrival_cancellations</th>\n",
       "      <th>departure_diversions</th>\n",
       "      <th>arrival_diversions</th>\n",
       "    </tr>\n",
       "  </thead>\n",
       "  <tbody>\n",
       "    <tr>\n",
       "      <th>0</th>\n",
       "      <td>ABQ</td>\n",
       "      <td>2004.0</td>\n",
       "      <td>242.0</td>\n",
       "      <td>235.0</td>\n",
       "      <td>71.0</td>\n",
       "      <td>46.0</td>\n",
       "    </tr>\n",
       "  </tbody>\n",
       "</table>\n",
       "</div>"
      ],
      "text/plain": [
       "  airport    year  departure_cancellations  arrival_cancellations  \\\n",
       "0     ABQ  2004.0                    242.0                  235.0   \n",
       "\n",
       "   departure_diversions  arrival_diversions  \n",
       "0                  71.0                46.0  "
      ]
     },
     "execution_count": 40,
     "metadata": {},
     "output_type": "execute_result"
    }
   ],
   "source": [
    "df.head(1)"
   ]
  },
  {
   "cell_type": "code",
   "execution_count": 41,
   "metadata": {
    "collapsed": false
   },
   "outputs": [
    {
     "data": {
      "text/plain": [
       "74"
      ]
     },
     "execution_count": 41,
     "metadata": {},
     "output_type": "execute_result"
    }
   ],
   "source": [
    "df['airport'].nunique()"
   ]
  },
  {
   "cell_type": "code",
   "execution_count": 42,
   "metadata": {
    "collapsed": false
   },
   "outputs": [],
   "source": [
    "df_raw2 = pd.read_csv(\"assets/airport_operations.csv\")\n",
    "df2 = df_raw2.dropna() \n",
    "df2.rename(columns=lambda x: x.replace(' ', '_').lower(), inplace=True)"
   ]
  },
  {
   "cell_type": "code",
   "execution_count": 43,
   "metadata": {
    "collapsed": false
   },
   "outputs": [
    {
     "data": {
      "text/html": [
       "<div>\n",
       "<table border=\"1\" class=\"dataframe\">\n",
       "  <thead>\n",
       "    <tr style=\"text-align: right;\">\n",
       "      <th></th>\n",
       "      <th>airport</th>\n",
       "      <th>year</th>\n",
       "      <th>departures_for_metric_computation</th>\n",
       "      <th>arrivals_for_metric_computation</th>\n",
       "      <th>percent_on-time_gate_departures</th>\n",
       "      <th>percent_on-time_airport_departures</th>\n",
       "      <th>percent_on-time_gate_arrivals</th>\n",
       "      <th>average_gate_departure_delay</th>\n",
       "      <th>average_taxi_out_time</th>\n",
       "      <th>average_taxi_out_delay</th>\n",
       "      <th>average_airport_departure_delay</th>\n",
       "      <th>average_airborne_delay</th>\n",
       "      <th>average_taxi_in_delay</th>\n",
       "      <th>average_block_delay</th>\n",
       "      <th>average_gate_arrival_delay</th>\n",
       "    </tr>\n",
       "  </thead>\n",
       "  <tbody>\n",
       "    <tr>\n",
       "      <th>0</th>\n",
       "      <td>ABQ</td>\n",
       "      <td>2004</td>\n",
       "      <td>53971</td>\n",
       "      <td>53818</td>\n",
       "      <td>0.803</td>\n",
       "      <td>0.7809</td>\n",
       "      <td>0.7921</td>\n",
       "      <td>10.38</td>\n",
       "      <td>9.89</td>\n",
       "      <td>2.43</td>\n",
       "      <td>12.1</td>\n",
       "      <td>2.46</td>\n",
       "      <td>0.83</td>\n",
       "      <td>2.55</td>\n",
       "      <td>10.87</td>\n",
       "    </tr>\n",
       "  </tbody>\n",
       "</table>\n",
       "</div>"
      ],
      "text/plain": [
       "  airport  year  departures_for_metric_computation  \\\n",
       "0     ABQ  2004                              53971   \n",
       "\n",
       "   arrivals_for_metric_computation  percent_on-time_gate_departures  \\\n",
       "0                            53818                            0.803   \n",
       "\n",
       "   percent_on-time_airport_departures  percent_on-time_gate_arrivals  \\\n",
       "0                              0.7809                         0.7921   \n",
       "\n",
       "   average_gate_departure_delay  average_taxi_out_time  \\\n",
       "0                         10.38                   9.89   \n",
       "\n",
       "   average_taxi_out_delay  average_airport_departure_delay  \\\n",
       "0                    2.43                             12.1   \n",
       "\n",
       "   average_airborne_delay  average_taxi_in_delay  average_block_delay  \\\n",
       "0                    2.46                   0.83                 2.55   \n",
       "\n",
       "   average_gate_arrival_delay  \n",
       "0                       10.87  "
      ]
     },
     "execution_count": 43,
     "metadata": {},
     "output_type": "execute_result"
    }
   ],
   "source": [
    "df2.head(1)"
   ]
  },
  {
   "cell_type": "code",
   "execution_count": 44,
   "metadata": {
    "collapsed": false
   },
   "outputs": [
    {
     "name": "stdout",
     "output_type": "stream",
     "text": [
      "<class 'pandas.core.frame.DataFrame'>\n",
      "Int64Index: 841 entries, 0 to 840\n",
      "Data columns (total 15 columns):\n",
      "airport                               841 non-null object\n",
      "year                                  841 non-null int64\n",
      "departures_for_metric_computation     841 non-null int64\n",
      "arrivals_for_metric_computation       841 non-null int64\n",
      "percent_on-time_gate_departures       841 non-null float64\n",
      "percent_on-time_airport_departures    841 non-null float64\n",
      "percent_on-time_gate_arrivals         841 non-null float64\n",
      "average_gate_departure_delay          841 non-null float64\n",
      "average_taxi_out_time                 841 non-null float64\n",
      "average_taxi_out_delay                841 non-null float64\n",
      "average_airport_departure_delay       841 non-null float64\n",
      "average_airborne_delay                841 non-null float64\n",
      "average_taxi_in_delay                 841 non-null float64\n",
      "average_block_delay                   841 non-null float64\n",
      "average_gate_arrival_delay            841 non-null float64\n",
      "dtypes: float64(11), int64(3), object(1)\n",
      "memory usage: 105.1+ KB\n"
     ]
    }
   ],
   "source": [
    "df2.info()"
   ]
  },
  {
   "cell_type": "code",
   "execution_count": 45,
   "metadata": {
    "collapsed": false
   },
   "outputs": [
    {
     "data": {
      "text/html": [
       "<div>\n",
       "<table border=\"1\" class=\"dataframe\">\n",
       "  <thead>\n",
       "    <tr style=\"text-align: right;\">\n",
       "      <th></th>\n",
       "      <th>year</th>\n",
       "      <th>departure_cancellations</th>\n",
       "      <th>arrival_cancellations</th>\n",
       "      <th>departure_diversions</th>\n",
       "      <th>arrival_diversions</th>\n",
       "    </tr>\n",
       "  </thead>\n",
       "  <tbody>\n",
       "    <tr>\n",
       "      <th>count</th>\n",
       "      <td>805.000000</td>\n",
       "      <td>805.000000</td>\n",
       "      <td>805.000000</td>\n",
       "      <td>805.000000</td>\n",
       "      <td>805.000000</td>\n",
       "    </tr>\n",
       "    <tr>\n",
       "      <th>mean</th>\n",
       "      <td>2008.986335</td>\n",
       "      <td>1292.038509</td>\n",
       "      <td>1333.124224</td>\n",
       "      <td>173.315528</td>\n",
       "      <td>169.413665</td>\n",
       "    </tr>\n",
       "    <tr>\n",
       "      <th>std</th>\n",
       "      <td>3.158116</td>\n",
       "      <td>1835.961943</td>\n",
       "      <td>1975.224868</td>\n",
       "      <td>172.345539</td>\n",
       "      <td>228.521615</td>\n",
       "    </tr>\n",
       "    <tr>\n",
       "      <th>min</th>\n",
       "      <td>2004.000000</td>\n",
       "      <td>0.000000</td>\n",
       "      <td>0.000000</td>\n",
       "      <td>0.000000</td>\n",
       "      <td>0.000000</td>\n",
       "    </tr>\n",
       "    <tr>\n",
       "      <th>25%</th>\n",
       "      <td>2006.000000</td>\n",
       "      <td>349.000000</td>\n",
       "      <td>314.000000</td>\n",
       "      <td>62.000000</td>\n",
       "      <td>41.000000</td>\n",
       "    </tr>\n",
       "    <tr>\n",
       "      <th>50%</th>\n",
       "      <td>2009.000000</td>\n",
       "      <td>663.000000</td>\n",
       "      <td>642.000000</td>\n",
       "      <td>110.000000</td>\n",
       "      <td>84.000000</td>\n",
       "    </tr>\n",
       "    <tr>\n",
       "      <th>75%</th>\n",
       "      <td>2012.000000</td>\n",
       "      <td>1472.000000</td>\n",
       "      <td>1523.000000</td>\n",
       "      <td>236.000000</td>\n",
       "      <td>190.000000</td>\n",
       "    </tr>\n",
       "    <tr>\n",
       "      <th>max</th>\n",
       "      <td>2014.000000</td>\n",
       "      <td>16618.000000</td>\n",
       "      <td>17571.000000</td>\n",
       "      <td>1064.000000</td>\n",
       "      <td>1948.000000</td>\n",
       "    </tr>\n",
       "  </tbody>\n",
       "</table>\n",
       "</div>"
      ],
      "text/plain": [
       "              year  departure_cancellations  arrival_cancellations  \\\n",
       "count   805.000000               805.000000             805.000000   \n",
       "mean   2008.986335              1292.038509            1333.124224   \n",
       "std       3.158116              1835.961943            1975.224868   \n",
       "min    2004.000000                 0.000000               0.000000   \n",
       "25%    2006.000000               349.000000             314.000000   \n",
       "50%    2009.000000               663.000000             642.000000   \n",
       "75%    2012.000000              1472.000000            1523.000000   \n",
       "max    2014.000000             16618.000000           17571.000000   \n",
       "\n",
       "       departure_diversions  arrival_diversions  \n",
       "count            805.000000          805.000000  \n",
       "mean             173.315528          169.413665  \n",
       "std              172.345539          228.521615  \n",
       "min                0.000000            0.000000  \n",
       "25%               62.000000           41.000000  \n",
       "50%              110.000000           84.000000  \n",
       "75%              236.000000          190.000000  \n",
       "max             1064.000000         1948.000000  "
      ]
     },
     "execution_count": 45,
     "metadata": {},
     "output_type": "execute_result"
    }
   ],
   "source": [
    "df.describe()"
   ]
  },
  {
   "cell_type": "code",
   "execution_count": 46,
   "metadata": {
    "collapsed": false
   },
   "outputs": [
    {
     "data": {
      "text/plain": [
       "year                       9.973694e+00\n",
       "departure_cancellations    3.370756e+06\n",
       "arrival_cancellations      3.901513e+06\n",
       "departure_diversions       2.970298e+04\n",
       "arrival_diversions         5.222213e+04\n",
       "dtype: float64"
      ]
     },
     "execution_count": 46,
     "metadata": {},
     "output_type": "execute_result"
    }
   ],
   "source": [
    "df.var()"
   ]
  },
  {
   "cell_type": "code",
   "execution_count": 47,
   "metadata": {
    "collapsed": false
   },
   "outputs": [
    {
     "data": {
      "text/plain": [
       "77"
      ]
     },
     "execution_count": 47,
     "metadata": {},
     "output_type": "execute_result"
    }
   ],
   "source": [
    "df2['airport'].nunique()"
   ]
  },
  {
   "cell_type": "code",
   "execution_count": 48,
   "metadata": {
    "collapsed": false
   },
   "outputs": [],
   "source": [
    "df_raw3 = pd.read_csv('assets/airports.csv')\n",
    "df3 = df_raw3.dropna()\n",
    "df3.rename(columns=lambda x: x.replace(' ', '_').lower(), inplace=True)"
   ]
  },
  {
   "cell_type": "code",
   "execution_count": 49,
   "metadata": {
    "collapsed": false,
    "scrolled": true
   },
   "outputs": [
    {
     "data": {
      "text/html": [
       "<div>\n",
       "<table border=\"1\" class=\"dataframe\">\n",
       "  <thead>\n",
       "    <tr style=\"text-align: right;\">\n",
       "      <th></th>\n",
       "      <th>key</th>\n",
       "      <th>locid</th>\n",
       "      <th>ap_name</th>\n",
       "      <th>alias</th>\n",
       "      <th>facility_type</th>\n",
       "      <th>faa_region</th>\n",
       "      <th>county</th>\n",
       "      <th>city</th>\n",
       "      <th>state</th>\n",
       "      <th>ap_type</th>\n",
       "      <th>latitude</th>\n",
       "      <th>longitude</th>\n",
       "      <th>boundary_data_available</th>\n",
       "    </tr>\n",
       "  </thead>\n",
       "  <tbody>\n",
       "    <tr>\n",
       "      <th>0</th>\n",
       "      <td>3443.0</td>\n",
       "      <td>STX</td>\n",
       "      <td>HENRY E ROHLSEN</td>\n",
       "      <td>Henry E Rohlsen Int'l Airport</td>\n",
       "      <td>Airport</td>\n",
       "      <td>ASO</td>\n",
       "      <td>-VIRGIN ISLANDS-</td>\n",
       "      <td>CHRISTIANSTED</td>\n",
       "      <td>VI</td>\n",
       "      <td>Public Use</td>\n",
       "      <td>17.701556</td>\n",
       "      <td>-64.801722</td>\n",
       "      <td>Yes</td>\n",
       "    </tr>\n",
       "  </tbody>\n",
       "</table>\n",
       "</div>"
      ],
      "text/plain": [
       "      key locid          ap_name                          alias facility_type  \\\n",
       "0  3443.0   STX  HENRY E ROHLSEN  Henry E Rohlsen Int'l Airport       Airport   \n",
       "\n",
       "  faa_region            county           city state     ap_type   latitude  \\\n",
       "0        ASO  -VIRGIN ISLANDS-  CHRISTIANSTED    VI  Public Use  17.701556   \n",
       "\n",
       "   longitude boundary_data_available  \n",
       "0 -64.801722                     Yes  "
      ]
     },
     "execution_count": 49,
     "metadata": {},
     "output_type": "execute_result"
    }
   ],
   "source": [
    "df3.head(1)"
   ]
  },
  {
   "cell_type": "code",
   "execution_count": 50,
   "metadata": {
    "collapsed": true
   },
   "outputs": [],
   "source": [
    "df3.rename(columns={'locid':'airport'}, inplace=True)"
   ]
  },
  {
   "cell_type": "code",
   "execution_count": 51,
   "metadata": {
    "collapsed": false
   },
   "outputs": [],
   "source": [
    "# time to merge the dataframes\n",
    "df4 = df.merge(df2, on=['airport', 'year'])"
   ]
  },
  {
   "cell_type": "code",
   "execution_count": 52,
   "metadata": {
    "collapsed": false
   },
   "outputs": [],
   "source": [
    "df4 = df4.merge(df3, on='airport')"
   ]
  },
  {
   "cell_type": "code",
   "execution_count": 53,
   "metadata": {
    "collapsed": false
   },
   "outputs": [
    {
     "data": {
      "text/html": [
       "<div>\n",
       "<table border=\"1\" class=\"dataframe\">\n",
       "  <thead>\n",
       "    <tr style=\"text-align: right;\">\n",
       "      <th></th>\n",
       "      <th>airport</th>\n",
       "      <th>year</th>\n",
       "      <th>departure_cancellations</th>\n",
       "      <th>arrival_cancellations</th>\n",
       "      <th>departure_diversions</th>\n",
       "      <th>arrival_diversions</th>\n",
       "      <th>departures_for_metric_computation</th>\n",
       "      <th>arrivals_for_metric_computation</th>\n",
       "      <th>percent_on-time_gate_departures</th>\n",
       "      <th>percent_on-time_airport_departures</th>\n",
       "      <th>percent_on-time_gate_arrivals</th>\n",
       "      <th>average_gate_departure_delay</th>\n",
       "      <th>average_taxi_out_time</th>\n",
       "      <th>average_taxi_out_delay</th>\n",
       "      <th>average_airport_departure_delay</th>\n",
       "      <th>average_airborne_delay</th>\n",
       "      <th>average_taxi_in_delay</th>\n",
       "      <th>average_block_delay</th>\n",
       "      <th>average_gate_arrival_delay</th>\n",
       "      <th>key</th>\n",
       "      <th>ap_name</th>\n",
       "      <th>alias</th>\n",
       "      <th>facility_type</th>\n",
       "      <th>faa_region</th>\n",
       "      <th>county</th>\n",
       "      <th>city</th>\n",
       "      <th>state</th>\n",
       "      <th>ap_type</th>\n",
       "      <th>latitude</th>\n",
       "      <th>longitude</th>\n",
       "      <th>boundary_data_available</th>\n",
       "    </tr>\n",
       "  </thead>\n",
       "  <tbody>\n",
       "    <tr>\n",
       "      <th>0</th>\n",
       "      <td>ABQ</td>\n",
       "      <td>2004.0</td>\n",
       "      <td>242.0</td>\n",
       "      <td>235.0</td>\n",
       "      <td>71.0</td>\n",
       "      <td>46.0</td>\n",
       "      <td>53971</td>\n",
       "      <td>53818</td>\n",
       "      <td>0.803</td>\n",
       "      <td>0.7809</td>\n",
       "      <td>0.7921</td>\n",
       "      <td>10.38</td>\n",
       "      <td>9.89</td>\n",
       "      <td>2.43</td>\n",
       "      <td>12.1</td>\n",
       "      <td>2.46</td>\n",
       "      <td>0.83</td>\n",
       "      <td>2.55</td>\n",
       "      <td>10.87</td>\n",
       "      <td>2348.0</td>\n",
       "      <td>ALBUQUERQUE INTL SUNPORT</td>\n",
       "      <td>Albuquerque Int'l Sunport</td>\n",
       "      <td>Airport</td>\n",
       "      <td>ASW</td>\n",
       "      <td>BERNALILLO</td>\n",
       "      <td>ALBUQUERQUE</td>\n",
       "      <td>NM</td>\n",
       "      <td>Federalized/Commercial</td>\n",
       "      <td>35.040194</td>\n",
       "      <td>-106.609194</td>\n",
       "      <td>Yes</td>\n",
       "    </tr>\n",
       "  </tbody>\n",
       "</table>\n",
       "</div>"
      ],
      "text/plain": [
       "  airport    year  departure_cancellations  arrival_cancellations  \\\n",
       "0     ABQ  2004.0                    242.0                  235.0   \n",
       "\n",
       "   departure_diversions  arrival_diversions  \\\n",
       "0                  71.0                46.0   \n",
       "\n",
       "   departures_for_metric_computation  arrivals_for_metric_computation  \\\n",
       "0                              53971                            53818   \n",
       "\n",
       "   percent_on-time_gate_departures  percent_on-time_airport_departures  \\\n",
       "0                            0.803                              0.7809   \n",
       "\n",
       "   percent_on-time_gate_arrivals  average_gate_departure_delay  \\\n",
       "0                         0.7921                         10.38   \n",
       "\n",
       "   average_taxi_out_time  average_taxi_out_delay  \\\n",
       "0                   9.89                    2.43   \n",
       "\n",
       "   average_airport_departure_delay  average_airborne_delay  \\\n",
       "0                             12.1                    2.46   \n",
       "\n",
       "   average_taxi_in_delay  average_block_delay  average_gate_arrival_delay  \\\n",
       "0                   0.83                 2.55                       10.87   \n",
       "\n",
       "      key                   ap_name                      alias facility_type  \\\n",
       "0  2348.0  ALBUQUERQUE INTL SUNPORT  Albuquerque Int'l Sunport       Airport   \n",
       "\n",
       "  faa_region      county         city state                 ap_type  \\\n",
       "0        ASW  BERNALILLO  ALBUQUERQUE    NM  Federalized/Commercial   \n",
       "\n",
       "    latitude   longitude boundary_data_available  \n",
       "0  35.040194 -106.609194                     Yes  "
      ]
     },
     "execution_count": 53,
     "metadata": {},
     "output_type": "execute_result"
    }
   ],
   "source": [
    "df4.head(1)"
   ]
  },
  {
   "cell_type": "code",
   "execution_count": 57,
   "metadata": {
    "collapsed": false
   },
   "outputs": [
    {
     "data": {
      "text/html": [
       "<div>\n",
       "<table border=\"1\" class=\"dataframe\">\n",
       "  <thead>\n",
       "    <tr style=\"text-align: right;\">\n",
       "      <th></th>\n",
       "      <th>year</th>\n",
       "      <th>departure_cancellations</th>\n",
       "      <th>arrival_cancellations</th>\n",
       "      <th>departure_diversions</th>\n",
       "      <th>arrival_diversions</th>\n",
       "      <th>departures_for_metric_computation</th>\n",
       "      <th>arrivals_for_metric_computation</th>\n",
       "      <th>percent_on-time_gate_departures</th>\n",
       "      <th>percent_on-time_airport_departures</th>\n",
       "      <th>percent_on-time_gate_arrivals</th>\n",
       "      <th>average_gate_departure_delay</th>\n",
       "      <th>average_taxi_out_time</th>\n",
       "      <th>average_taxi_out_delay</th>\n",
       "      <th>average_airport_departure_delay</th>\n",
       "      <th>average_airborne_delay</th>\n",
       "      <th>average_taxi_in_delay</th>\n",
       "      <th>average_block_delay</th>\n",
       "      <th>average_gate_arrival_delay</th>\n",
       "      <th>key</th>\n",
       "      <th>latitude</th>\n",
       "      <th>longitude</th>\n",
       "    </tr>\n",
       "  </thead>\n",
       "  <tbody>\n",
       "    <tr>\n",
       "      <th>count</th>\n",
       "      <td>799.000000</td>\n",
       "      <td>799.000000</td>\n",
       "      <td>799.000000</td>\n",
       "      <td>799.000000</td>\n",
       "      <td>799.000000</td>\n",
       "      <td>799.000000</td>\n",
       "      <td>799.000000</td>\n",
       "      <td>799.000000</td>\n",
       "      <td>799.000000</td>\n",
       "      <td>799.000000</td>\n",
       "      <td>799.000000</td>\n",
       "      <td>799.000000</td>\n",
       "      <td>799.000000</td>\n",
       "      <td>799.000000</td>\n",
       "      <td>799.000000</td>\n",
       "      <td>799.000000</td>\n",
       "      <td>799.000000</td>\n",
       "      <td>799.000000</td>\n",
       "      <td>799.000000</td>\n",
       "      <td>799.000000</td>\n",
       "      <td>799.000000</td>\n",
       "    </tr>\n",
       "    <tr>\n",
       "      <th>mean</th>\n",
       "      <td>2009.016270</td>\n",
       "      <td>1299.314143</td>\n",
       "      <td>1341.068836</td>\n",
       "      <td>174.250313</td>\n",
       "      <td>170.256571</td>\n",
       "      <td>113471.568210</td>\n",
       "      <td>113003.959950</td>\n",
       "      <td>0.779123</td>\n",
       "      <td>0.726958</td>\n",
       "      <td>0.766864</td>\n",
       "      <td>12.890250</td>\n",
       "      <td>13.872879</td>\n",
       "      <td>3.683292</td>\n",
       "      <td>15.703504</td>\n",
       "      <td>2.875532</td>\n",
       "      <td>1.414155</td>\n",
       "      <td>3.290826</td>\n",
       "      <td>13.428811</td>\n",
       "      <td>1714.484355</td>\n",
       "      <td>36.448807</td>\n",
       "      <td>-94.899998</td>\n",
       "    </tr>\n",
       "    <tr>\n",
       "      <th>std</th>\n",
       "      <td>3.150126</td>\n",
       "      <td>1840.877193</td>\n",
       "      <td>1980.459892</td>\n",
       "      <td>172.638408</td>\n",
       "      <td>229.162686</td>\n",
       "      <td>98059.144667</td>\n",
       "      <td>97705.308115</td>\n",
       "      <td>0.052279</td>\n",
       "      <td>0.076027</td>\n",
       "      <td>0.050502</td>\n",
       "      <td>3.036474</td>\n",
       "      <td>3.806217</td>\n",
       "      <td>2.337325</td>\n",
       "      <td>4.364217</td>\n",
       "      <td>1.169739</td>\n",
       "      <td>0.854702</td>\n",
       "      <td>0.989275</td>\n",
       "      <td>3.251647</td>\n",
       "      <td>1005.059201</td>\n",
       "      <td>6.686781</td>\n",
       "      <td>20.644996</td>\n",
       "    </tr>\n",
       "    <tr>\n",
       "      <th>min</th>\n",
       "      <td>2004.000000</td>\n",
       "      <td>0.000000</td>\n",
       "      <td>0.000000</td>\n",
       "      <td>0.000000</td>\n",
       "      <td>0.000000</td>\n",
       "      <td>731.000000</td>\n",
       "      <td>717.000000</td>\n",
       "      <td>0.529900</td>\n",
       "      <td>0.380800</td>\n",
       "      <td>0.513600</td>\n",
       "      <td>5.350000</td>\n",
       "      <td>7.240000</td>\n",
       "      <td>0.100000</td>\n",
       "      <td>6.290000</td>\n",
       "      <td>0.950000</td>\n",
       "      <td>0.020000</td>\n",
       "      <td>1.330000</td>\n",
       "      <td>6.330000</td>\n",
       "      <td>246.000000</td>\n",
       "      <td>18.439295</td>\n",
       "      <td>-157.922429</td>\n",
       "    </tr>\n",
       "    <tr>\n",
       "      <th>25%</th>\n",
       "      <td>2006.000000</td>\n",
       "      <td>349.000000</td>\n",
       "      <td>314.500000</td>\n",
       "      <td>62.000000</td>\n",
       "      <td>41.000000</td>\n",
       "      <td>42064.000000</td>\n",
       "      <td>42006.500000</td>\n",
       "      <td>0.753100</td>\n",
       "      <td>0.691800</td>\n",
       "      <td>0.742150</td>\n",
       "      <td>10.830000</td>\n",
       "      <td>11.475000</td>\n",
       "      <td>2.300000</td>\n",
       "      <td>12.890000</td>\n",
       "      <td>2.035000</td>\n",
       "      <td>0.845000</td>\n",
       "      <td>2.615000</td>\n",
       "      <td>11.270000</td>\n",
       "      <td>770.000000</td>\n",
       "      <td>32.896828</td>\n",
       "      <td>-111.977773</td>\n",
       "    </tr>\n",
       "    <tr>\n",
       "      <th>50%</th>\n",
       "      <td>2009.000000</td>\n",
       "      <td>670.000000</td>\n",
       "      <td>653.000000</td>\n",
       "      <td>111.000000</td>\n",
       "      <td>84.000000</td>\n",
       "      <td>79489.000000</td>\n",
       "      <td>79750.000000</td>\n",
       "      <td>0.784100</td>\n",
       "      <td>0.740200</td>\n",
       "      <td>0.770500</td>\n",
       "      <td>12.540000</td>\n",
       "      <td>12.940000</td>\n",
       "      <td>3.050000</td>\n",
       "      <td>15.130000</td>\n",
       "      <td>2.620000</td>\n",
       "      <td>1.140000</td>\n",
       "      <td>3.130000</td>\n",
       "      <td>12.970000</td>\n",
       "      <td>1531.000000</td>\n",
       "      <td>37.618972</td>\n",
       "      <td>-87.897068</td>\n",
       "    </tr>\n",
       "    <tr>\n",
       "      <th>75%</th>\n",
       "      <td>2012.000000</td>\n",
       "      <td>1483.500000</td>\n",
       "      <td>1542.000000</td>\n",
       "      <td>237.000000</td>\n",
       "      <td>190.000000</td>\n",
       "      <td>166469.500000</td>\n",
       "      <td>165560.500000</td>\n",
       "      <td>0.810700</td>\n",
       "      <td>0.773700</td>\n",
       "      <td>0.797600</td>\n",
       "      <td>14.620000</td>\n",
       "      <td>15.745000</td>\n",
       "      <td>4.220000</td>\n",
       "      <td>17.555000</td>\n",
       "      <td>3.550000</td>\n",
       "      <td>1.775000</td>\n",
       "      <td>3.815000</td>\n",
       "      <td>14.935000</td>\n",
       "      <td>2502.000000</td>\n",
       "      <td>40.795250</td>\n",
       "      <td>-80.152741</td>\n",
       "    </tr>\n",
       "    <tr>\n",
       "      <th>max</th>\n",
       "      <td>2014.000000</td>\n",
       "      <td>16618.000000</td>\n",
       "      <td>17571.000000</td>\n",
       "      <td>1064.000000</td>\n",
       "      <td>1948.000000</td>\n",
       "      <td>491826.000000</td>\n",
       "      <td>486799.000000</td>\n",
       "      <td>0.909700</td>\n",
       "      <td>0.897400</td>\n",
       "      <td>0.880300</td>\n",
       "      <td>25.840000</td>\n",
       "      <td>35.760000</td>\n",
       "      <td>18.940000</td>\n",
       "      <td>40.510000</td>\n",
       "      <td>7.820000</td>\n",
       "      <td>6.180000</td>\n",
       "      <td>7.520000</td>\n",
       "      <td>27.780000</td>\n",
       "      <td>3575.000000</td>\n",
       "      <td>61.174083</td>\n",
       "      <td>-66.002004</td>\n",
       "    </tr>\n",
       "  </tbody>\n",
       "</table>\n",
       "</div>"
      ],
      "text/plain": [
       "              year  departure_cancellations  arrival_cancellations  \\\n",
       "count   799.000000               799.000000             799.000000   \n",
       "mean   2009.016270              1299.314143            1341.068836   \n",
       "std       3.150126              1840.877193            1980.459892   \n",
       "min    2004.000000                 0.000000               0.000000   \n",
       "25%    2006.000000               349.000000             314.500000   \n",
       "50%    2009.000000               670.000000             653.000000   \n",
       "75%    2012.000000              1483.500000            1542.000000   \n",
       "max    2014.000000             16618.000000           17571.000000   \n",
       "\n",
       "       departure_diversions  arrival_diversions  \\\n",
       "count            799.000000          799.000000   \n",
       "mean             174.250313          170.256571   \n",
       "std              172.638408          229.162686   \n",
       "min                0.000000            0.000000   \n",
       "25%               62.000000           41.000000   \n",
       "50%              111.000000           84.000000   \n",
       "75%              237.000000          190.000000   \n",
       "max             1064.000000         1948.000000   \n",
       "\n",
       "       departures_for_metric_computation  arrivals_for_metric_computation  \\\n",
       "count                         799.000000                       799.000000   \n",
       "mean                       113471.568210                    113003.959950   \n",
       "std                         98059.144667                     97705.308115   \n",
       "min                           731.000000                       717.000000   \n",
       "25%                         42064.000000                     42006.500000   \n",
       "50%                         79489.000000                     79750.000000   \n",
       "75%                        166469.500000                    165560.500000   \n",
       "max                        491826.000000                    486799.000000   \n",
       "\n",
       "       percent_on-time_gate_departures  percent_on-time_airport_departures  \\\n",
       "count                       799.000000                          799.000000   \n",
       "mean                          0.779123                            0.726958   \n",
       "std                           0.052279                            0.076027   \n",
       "min                           0.529900                            0.380800   \n",
       "25%                           0.753100                            0.691800   \n",
       "50%                           0.784100                            0.740200   \n",
       "75%                           0.810700                            0.773700   \n",
       "max                           0.909700                            0.897400   \n",
       "\n",
       "       percent_on-time_gate_arrivals  average_gate_departure_delay  \\\n",
       "count                     799.000000                    799.000000   \n",
       "mean                        0.766864                     12.890250   \n",
       "std                         0.050502                      3.036474   \n",
       "min                         0.513600                      5.350000   \n",
       "25%                         0.742150                     10.830000   \n",
       "50%                         0.770500                     12.540000   \n",
       "75%                         0.797600                     14.620000   \n",
       "max                         0.880300                     25.840000   \n",
       "\n",
       "       average_taxi_out_time  average_taxi_out_delay  \\\n",
       "count             799.000000              799.000000   \n",
       "mean               13.872879                3.683292   \n",
       "std                 3.806217                2.337325   \n",
       "min                 7.240000                0.100000   \n",
       "25%                11.475000                2.300000   \n",
       "50%                12.940000                3.050000   \n",
       "75%                15.745000                4.220000   \n",
       "max                35.760000               18.940000   \n",
       "\n",
       "       average_airport_departure_delay  average_airborne_delay  \\\n",
       "count                       799.000000              799.000000   \n",
       "mean                         15.703504                2.875532   \n",
       "std                           4.364217                1.169739   \n",
       "min                           6.290000                0.950000   \n",
       "25%                          12.890000                2.035000   \n",
       "50%                          15.130000                2.620000   \n",
       "75%                          17.555000                3.550000   \n",
       "max                          40.510000                7.820000   \n",
       "\n",
       "       average_taxi_in_delay  average_block_delay  average_gate_arrival_delay  \\\n",
       "count             799.000000           799.000000                  799.000000   \n",
       "mean                1.414155             3.290826                   13.428811   \n",
       "std                 0.854702             0.989275                    3.251647   \n",
       "min                 0.020000             1.330000                    6.330000   \n",
       "25%                 0.845000             2.615000                   11.270000   \n",
       "50%                 1.140000             3.130000                   12.970000   \n",
       "75%                 1.775000             3.815000                   14.935000   \n",
       "max                 6.180000             7.520000                   27.780000   \n",
       "\n",
       "               key    latitude   longitude  \n",
       "count   799.000000  799.000000  799.000000  \n",
       "mean   1714.484355   36.448807  -94.899998  \n",
       "std    1005.059201    6.686781   20.644996  \n",
       "min     246.000000   18.439295 -157.922429  \n",
       "25%     770.000000   32.896828 -111.977773  \n",
       "50%    1531.000000   37.618972  -87.897068  \n",
       "75%    2502.000000   40.795250  -80.152741  \n",
       "max    3575.000000   61.174083  -66.002004  "
      ]
     },
     "execution_count": 57,
     "metadata": {},
     "output_type": "execute_result"
    }
   ],
   "source": [
    "df4.describe()"
   ]
  },
  {
   "cell_type": "code",
   "execution_count": 77,
   "metadata": {
    "collapsed": false
   },
   "outputs": [
    {
     "name": "stdout",
     "output_type": "stream",
     "text": [
      "<class 'pandas.core.frame.DataFrame'>\n",
      "Int64Index: 799 entries, 0 to 798\n",
      "Data columns (total 31 columns):\n",
      "airport                               799 non-null object\n",
      "year                                  799 non-null float64\n",
      "departure_cancellations               799 non-null float64\n",
      "arrival_cancellations                 799 non-null float64\n",
      "departure_diversions                  799 non-null float64\n",
      "arrival_diversions                    799 non-null float64\n",
      "departures_for_metric_computation     799 non-null int64\n",
      "arrivals_for_metric_computation       799 non-null int64\n",
      "percent_on-time_gate_departures       799 non-null float64\n",
      "percent_on-time_airport_departures    799 non-null float64\n",
      "percent_on-time_gate_arrivals         799 non-null float64\n",
      "average_gate_departure_delay          799 non-null float64\n",
      "average_taxi_out_time                 799 non-null float64\n",
      "average_taxi_out_delay                799 non-null float64\n",
      "average_airport_departure_delay       799 non-null float64\n",
      "average_airborne_delay                799 non-null float64\n",
      "average_taxi_in_delay                 799 non-null float64\n",
      "average_block_delay                   799 non-null float64\n",
      "average_gate_arrival_delay            799 non-null float64\n",
      "key                                   799 non-null float64\n",
      "ap_name                               799 non-null object\n",
      "alias                                 799 non-null object\n",
      "facility_type                         799 non-null object\n",
      "faa_region                            799 non-null object\n",
      "county                                799 non-null object\n",
      "city                                  799 non-null object\n",
      "state                                 799 non-null object\n",
      "ap_type                               799 non-null object\n",
      "latitude                              799 non-null float64\n",
      "longitude                             799 non-null float64\n",
      "boundary_data_available               799 non-null object\n",
      "dtypes: float64(19), int64(2), object(10)\n",
      "memory usage: 199.8+ KB\n"
     ]
    }
   ],
   "source": [
    "df4.info()"
   ]
  },
  {
   "cell_type": "code",
   "execution_count": 90,
   "metadata": {
    "collapsed": false
   },
   "outputs": [],
   "source": [
    "column_list = list(df4.select_dtypes(include=['float64', 'int64']).columns)"
   ]
  },
  {
   "cell_type": "code",
   "execution_count": 92,
   "metadata": {
    "collapsed": false
   },
   "outputs": [],
   "source": [
    "X = df4[column_list]"
   ]
  },
  {
   "cell_type": "code",
   "execution_count": 95,
   "metadata": {
    "collapsed": false
   },
   "outputs": [],
   "source": [
    "from sklearn.preprocessing import StandardScaler\n",
    "X = StandardScaler().fit_transform(X)"
   ]
  },
  {
   "cell_type": "code",
   "execution_count": 98,
   "metadata": {
    "collapsed": false
   },
   "outputs": [],
   "source": [
    "df5 = pd.DataFrame(X)"
   ]
  },
  {
   "cell_type": "code",
   "execution_count": null,
   "metadata": {
    "collapsed": false
   },
   "outputs": [],
   "source": []
  },
  {
   "cell_type": "code",
   "execution_count": null,
   "metadata": {
    "collapsed": true
   },
   "outputs": [],
   "source": []
  },
  {
   "cell_type": "code",
   "execution_count": null,
   "metadata": {
    "collapsed": true
   },
   "outputs": [],
   "source": []
  },
  {
   "cell_type": "code",
   "execution_count": 58,
   "metadata": {
    "collapsed": false
   },
   "outputs": [],
   "source": [
    "plot_df = df4[['departure_cancellations', 'arrival_cancellations']]"
   ]
  },
  {
   "cell_type": "code",
   "execution_count": 59,
   "metadata": {
    "collapsed": false
   },
   "outputs": [
    {
     "data": {
      "text/plain": [
       "<seaborn.axisgrid.PairGrid at 0x1160b14d0>"
      ]
     },
     "execution_count": 59,
     "metadata": {},
     "output_type": "execute_result"
    },
    {
     "data": {
      "image/png": "[encoded data removed]",
      "text/plain": [
       "<matplotlib.figure.Figure at 0x1160b1050>"
      ]
     },
     "metadata": {},
     "output_type": "display_data"
    }
   ],
   "source": [
    "sns.pairplot(plot_df)"
   ]
  },
  {
   "cell_type": "markdown",
   "metadata": {
    "focus": false,
    "id": "3690c265-ac0f-484d-ac79-f42da341e4cd"
   },
   "source": [
    "### Intro: Write a problem statement / aim for this project"
   ]
  },
  {
   "cell_type": "markdown",
   "metadata": {
    "focus": false,
    "id": "58297e17-aa21-4d1d-a46b-a36a4b92aac7"
   },
   "source": [
    "We want to understand the behavior of flight cancellations\n",
    "Answer: How are we going to do this?"
   ]
  },
  {
   "cell_type": "markdown",
   "metadata": {
    "focus": false,
    "id": "a3cccc0e-8531-4dfe-bb23-8c632aa7404e"
   },
   "source": [
    "### Part 1: Create a SQLite database "
   ]
  },
  {
   "cell_type": "markdown",
   "metadata": {
    "focus": false,
    "id": "b51ca850-aa85-43e1-b7cd-627af62f5fe8"
   },
   "source": [
    "#### 1. Let's create a database where we can house our airport data"
   ]
  },
  {
   "cell_type": "code",
   "execution_count": 28,
   "metadata": {
    "collapsed": true,
    "focus": false,
    "id": "5d1b5e84-b49a-4bad-b961-abcb8e6f2751"
   },
   "outputs": [],
   "source": [
    "import pandas as pd\n",
    "from pandas.io import sql\n",
    "\n",
    "import sqlite3\n",
    "sqlite_db = 'stop_calling_me_shirley.sqlite'\n",
    "conn = sqlite3.connect(sqlite_db)\n"
   ]
  },
  {
   "cell_type": "markdown",
   "metadata": {
    "focus": false,
    "id": "b40e2d2b-5535-42c6-94d6-083b3e428b14"
   },
   "source": [
    "Load our csv files into tables"
   ]
  },
  {
   "cell_type": "code",
   "execution_count": 29,
   "metadata": {
    "collapsed": false,
    "focus": false,
    "id": "5cb41423-7467-4005-964c-9b423c3af977"
   },
   "outputs": [],
   "source": [
    "airport_df.to_sql('airports',con=conn,if_exists='replace',index=False)\n",
    "# pd.read_csv('path/to/file',encoding='utf-8').to_sql('table_name',con=conn,if_exists='replace',index=False)"
   ]
  },
  {
   "cell_type": "code",
   "execution_count": 30,
   "metadata": {
    "collapsed": true
   },
   "outputs": [],
   "source": [
    "airport_cancellations_df.to_sql('airport_cancels',con=conn,if_exists='replace',index=False)"
   ]
  },
  {
   "cell_type": "code",
   "execution_count": 31,
   "metadata": {
    "collapsed": true
   },
   "outputs": [],
   "source": [
    "airport_operations_df.to_sql('airport_cancels',con=conn,if_exists='replace',index=False)"
   ]
  },
  {
   "cell_type": "code",
   "execution_count": null,
   "metadata": {
    "collapsed": false
   },
   "outputs": [],
   "source": []
  },
  {
   "cell_type": "markdown",
   "metadata": {
    "focus": false,
    "id": "a0ca5023-4860-4d86-ae40-218d120ece17"
   },
   "source": [
    "Join airport_cancellations.csv and airports.csv into one table (try to do it with both pandas and SQLite)"
   ]
  },
  {
   "cell_type": "code",
   "execution_count": 21,
   "metadata": {
    "collapsed": false
   },
   "outputs": [
    {
     "data": {
      "text/plain": [
       "'Aeropuerto Antonio Rivera Rodr\\xef\\xbf\\xbdguez'"
      ]
     },
     "execution_count": 21,
     "metadata": {},
     "output_type": "execute_result"
    }
   ],
   "source": [
    "airport_df = pd.read_csv('assets/airports.csv')\n",
    "airport_df['ALIAS'].iloc[3]"
   ]
  },
  {
   "cell_type": "code",
   "execution_count": 22,
   "metadata": {
    "collapsed": false
   },
   "outputs": [],
   "source": [
    "def conv_to_utf(a):\n",
    "    return str(a).decode('utf-8')\n",
    "\n",
    "airport_df['ALIAS'] = airport_df['ALIAS'].apply(conv_to_utf)"
   ]
  },
  {
   "cell_type": "code",
   "execution_count": null,
   "metadata": {
    "collapsed": false
   },
   "outputs": [],
   "source": []
  },
  {
   "cell_type": "code",
   "execution_count": null,
   "metadata": {
    "collapsed": true
   },
   "outputs": [],
   "source": []
  },
  {
   "cell_type": "code",
   "execution_count": 9,
   "metadata": {
    "collapsed": true
   },
   "outputs": [],
   "source": [
    "# LocID in airports.csv \n",
    "# is the same as Airport in airport_cancellations.csv\n",
    "# so these are what you would join on ...\n",
    "\n",
    "\n",
    "joined_df = pd.merge(airport_cancellations_df,airport_df,\n",
    "                     left_on = 'Airport', right_on = 'LocID')\n"
   ]
  },
  {
   "cell_type": "code",
   "execution_count": 13,
   "metadata": {
    "collapsed": false
   },
   "outputs": [
    {
     "data": {
      "text/html": [
       "<div>\n",
       "<table border=\"1\" class=\"dataframe\">\n",
       "  <thead>\n",
       "    <tr style=\"text-align: right;\">\n",
       "      <th></th>\n",
       "      <th>Airport</th>\n",
       "      <th>Year</th>\n",
       "      <th>Departure Cancellations</th>\n",
       "      <th>Arrival Cancellations</th>\n",
       "      <th>Departure Diversions</th>\n",
       "      <th>Arrival Diversions</th>\n",
       "      <th>Key</th>\n",
       "      <th>LocID</th>\n",
       "      <th>AP_NAME</th>\n",
       "      <th>ALIAS</th>\n",
       "      <th>Facility Type</th>\n",
       "      <th>FAA REGION</th>\n",
       "      <th>COUNTY</th>\n",
       "      <th>CITY</th>\n",
       "      <th>STATE</th>\n",
       "      <th>AP Type</th>\n",
       "      <th>Latitude</th>\n",
       "      <th>Longitude</th>\n",
       "      <th>Boundary Data Available</th>\n",
       "    </tr>\n",
       "  </thead>\n",
       "  <tbody>\n",
       "    <tr>\n",
       "      <th>0</th>\n",
       "      <td>ABQ</td>\n",
       "      <td>2004.0</td>\n",
       "      <td>242.0</td>\n",
       "      <td>235.0</td>\n",
       "      <td>71.0</td>\n",
       "      <td>46.0</td>\n",
       "      <td>2348.0</td>\n",
       "      <td>ABQ</td>\n",
       "      <td>ALBUQUERQUE INTL SUNPORT</td>\n",
       "      <td>Albuquerque Int'l Sunport</td>\n",
       "      <td>Airport</td>\n",
       "      <td>ASW</td>\n",
       "      <td>BERNALILLO</td>\n",
       "      <td>ALBUQUERQUE</td>\n",
       "      <td>NM</td>\n",
       "      <td>Federalized/Commercial</td>\n",
       "      <td>35.040194</td>\n",
       "      <td>-106.609194</td>\n",
       "      <td>Yes</td>\n",
       "    </tr>\n",
       "    <tr>\n",
       "      <th>1</th>\n",
       "      <td>ABQ</td>\n",
       "      <td>2005.0</td>\n",
       "      <td>221.0</td>\n",
       "      <td>190.0</td>\n",
       "      <td>61.0</td>\n",
       "      <td>33.0</td>\n",
       "      <td>2348.0</td>\n",
       "      <td>ABQ</td>\n",
       "      <td>ALBUQUERQUE INTL SUNPORT</td>\n",
       "      <td>Albuquerque Int'l Sunport</td>\n",
       "      <td>Airport</td>\n",
       "      <td>ASW</td>\n",
       "      <td>BERNALILLO</td>\n",
       "      <td>ALBUQUERQUE</td>\n",
       "      <td>NM</td>\n",
       "      <td>Federalized/Commercial</td>\n",
       "      <td>35.040194</td>\n",
       "      <td>-106.609194</td>\n",
       "      <td>Yes</td>\n",
       "    </tr>\n",
       "    <tr>\n",
       "      <th>2</th>\n",
       "      <td>ABQ</td>\n",
       "      <td>2006.0</td>\n",
       "      <td>392.0</td>\n",
       "      <td>329.0</td>\n",
       "      <td>71.0</td>\n",
       "      <td>124.0</td>\n",
       "      <td>2348.0</td>\n",
       "      <td>ABQ</td>\n",
       "      <td>ALBUQUERQUE INTL SUNPORT</td>\n",
       "      <td>Albuquerque Int'l Sunport</td>\n",
       "      <td>Airport</td>\n",
       "      <td>ASW</td>\n",
       "      <td>BERNALILLO</td>\n",
       "      <td>ALBUQUERQUE</td>\n",
       "      <td>NM</td>\n",
       "      <td>Federalized/Commercial</td>\n",
       "      <td>35.040194</td>\n",
       "      <td>-106.609194</td>\n",
       "      <td>Yes</td>\n",
       "    </tr>\n",
       "  </tbody>\n",
       "</table>\n",
       "</div>"
      ],
      "text/plain": [
       "  Airport    Year  Departure Cancellations  Arrival Cancellations  \\\n",
       "0     ABQ  2004.0                    242.0                  235.0   \n",
       "1     ABQ  2005.0                    221.0                  190.0   \n",
       "2     ABQ  2006.0                    392.0                  329.0   \n",
       "\n",
       "   Departure Diversions  Arrival Diversions     Key LocID  \\\n",
       "0                  71.0                46.0  2348.0   ABQ   \n",
       "1                  61.0                33.0  2348.0   ABQ   \n",
       "2                  71.0               124.0  2348.0   ABQ   \n",
       "\n",
       "                    AP_NAME                      ALIAS Facility Type  \\\n",
       "0  ALBUQUERQUE INTL SUNPORT  Albuquerque Int'l Sunport       Airport   \n",
       "1  ALBUQUERQUE INTL SUNPORT  Albuquerque Int'l Sunport       Airport   \n",
       "2  ALBUQUERQUE INTL SUNPORT  Albuquerque Int'l Sunport       Airport   \n",
       "\n",
       "  FAA REGION      COUNTY         CITY STATE                 AP Type  \\\n",
       "0        ASW  BERNALILLO  ALBUQUERQUE    NM  Federalized/Commercial   \n",
       "1        ASW  BERNALILLO  ALBUQUERQUE    NM  Federalized/Commercial   \n",
       "2        ASW  BERNALILLO  ALBUQUERQUE    NM  Federalized/Commercial   \n",
       "\n",
       "    Latitude   Longitude Boundary Data Available  \n",
       "0  35.040194 -106.609194                     Yes  \n",
       "1  35.040194 -106.609194                     Yes  \n",
       "2  35.040194 -106.609194                     Yes  "
      ]
     },
     "execution_count": 13,
     "metadata": {},
     "output_type": "execute_result"
    }
   ],
   "source": [
    "joined_df[:3]"
   ]
  },
  {
   "cell_type": "markdown",
   "metadata": {
    "focus": false,
    "id": "a5fa5f85-1cd6-4ab6-b936-93e9c951e1b7"
   },
   "source": [
    "Query the database for our intial data"
   ]
  },
  {
   "cell_type": "code",
   "execution_count": 10,
   "metadata": {
    "collapsed": false,
    "focus": false,
    "id": "385da01a-0b74-47bc-9757-447e46fa194a"
   },
   "outputs": [],
   "source": [
    "#cur = conn.cursor()\n",
    "#cur.execute(\"\"\"SELECT * FROM mydb\"\"\")\n",
    "#ap = cur.fetchall()\n",
    "#print ap"
   ]
  },
  {
   "cell_type": "markdown",
   "metadata": {
    "focus": false,
    "id": "0b511b59-41ea-478f-bf2d-7e392dc9edaa"
   },
   "source": [
    "#### 1.2 What are the risks and assumptions of our data? "
   ]
  },
  {
   "cell_type": "markdown",
   "metadata": {
    "focus": false,
    "id": "0936ff6a-6919-4436-9fc1-d6ef90d5ba9e"
   },
   "source": []
  },
  {
   "cell_type": "markdown",
   "metadata": {
    "focus": false,
    "id": "e97b4707-0f0e-4f6a-90ab-fbb634c2305d"
   },
   "source": [
    "### Part 2: Exploratory Data Analysis"
   ]
  },
  {
   "cell_type": "markdown",
   "metadata": {
    "focus": false,
    "id": "6be9cf88-1b92-4360-b424-a495d5e2d4ba"
   },
   "source": [
    "#### 2.1 Plot and Describe the Data"
   ]
  },
  {
   "cell_type": "code",
   "execution_count": 11,
   "metadata": {
    "collapsed": false,
    "focus": false,
    "id": "41ff90a9-0d50-4a8e-97c4-fe429fffc1f7"
   },
   "outputs": [],
   "source": [
    "#ap.head()\n",
    "#ap.describe()\n"
   ]
  },
  {
   "cell_type": "markdown",
   "metadata": {
    "focus": false,
    "id": "3d12188d-3aa9-4d47-a0e8-b5d6e8f071de"
   },
   "source": [
    "#### Are there any unique values? "
   ]
  },
  {
   "cell_type": "code",
   "execution_count": null,
   "metadata": {
    "collapsed": true,
    "focus": false,
    "id": "d76cfc84-4d16-4f6f-aca8-3dc77d3b8f5c"
   },
   "outputs": [],
   "source": []
  },
  {
   "cell_type": "markdown",
   "metadata": {
    "focus": false,
    "id": "e2ddc27c-94d6-4ab1-95ef-1093bb2726b0"
   },
   "source": [
    "### Part 3: Data Mining"
   ]
  },
  {
   "cell_type": "markdown",
   "metadata": {
    "focus": false,
    "id": "a746fd8c-fdb0-45c3-9e17-ad4c89360055"
   },
   "source": [
    "#### 3.1 Create Dummy Variables"
   ]
  },
  {
   "cell_type": "code",
   "execution_count": null,
   "metadata": {
    "collapsed": true,
    "focus": false,
    "id": "eae97f78-3695-4777-91c5-f282dfd26e96"
   },
   "outputs": [],
   "source": []
  },
  {
   "cell_type": "markdown",
   "metadata": {
    "focus": false,
    "id": "c9b12f39-5410-42d7-aff9-859c0b2ccb70"
   },
   "source": [
    "#### 3.2 Format and Clean the Data"
   ]
  },
  {
   "cell_type": "code",
   "execution_count": null,
   "metadata": {
    "collapsed": true,
    "focus": false,
    "id": "c2f083d5-edf1-4380-a245-13c77315daa7"
   },
   "outputs": [],
   "source": []
  },
  {
   "cell_type": "markdown",
   "metadata": {
    "focus": false,
    "id": "27db8e3b-27d2-4420-bbab-1ddbba3dc3e5"
   },
   "source": [
    "### Part 4: Define the Data"
   ]
  },
  {
   "cell_type": "markdown",
   "metadata": {
    "focus": false,
    "id": "9bcb3ba6-8c35-470c-a821-47d7ba6a32f2"
   },
   "source": [
    "#### 4.1 Confirm that the dataset has a normal distribution. How can you tell? "
   ]
  },
  {
   "cell_type": "code",
   "execution_count": null,
   "metadata": {
    "collapsed": true,
    "focus": false,
    "id": "9c365cbd-7b6d-46bf-b4e4-b0e2e7bd5ff6"
   },
   "outputs": [],
   "source": []
  },
  {
   "cell_type": "markdown",
   "metadata": {
    "focus": false,
    "id": "17457da4-1175-4348-b10a-99f41f7a24dd"
   },
   "source": [
    "#### 4.2 Find correlations in the data"
   ]
  },
  {
   "cell_type": "code",
   "execution_count": null,
   "metadata": {
    "collapsed": true,
    "focus": false,
    "id": "78003f34-c0d8-40f6-bafe-e0892df3f1ca"
   },
   "outputs": [],
   "source": []
  },
  {
   "cell_type": "markdown",
   "metadata": {
    "focus": false,
    "id": "886b49bf-d7fa-41b0-b94c-740345580d88"
   },
   "source": [
    "#### 4.3 What is the value of understanding correlations before PCA? "
   ]
  },
  {
   "cell_type": "markdown",
   "metadata": {
    "focus": false,
    "id": "192df272-c2b1-46da-bcfa-c2b02d7445a8"
   },
   "source": [
    "Answer: "
   ]
  },
  {
   "cell_type": "markdown",
   "metadata": {
    "focus": false,
    "id": "904cda18-4a60-4b05-8502-139beb44c1f0"
   },
   "source": [
    "#### 4.4 Validate your findings using statistical analysis"
   ]
  },
  {
   "cell_type": "code",
   "execution_count": null,
   "metadata": {
    "collapsed": true,
    "focus": false,
    "id": "d2f5bd48-a2c8-4511-b3c6-fcb4889db4a7"
   },
   "outputs": [],
   "source": []
  },
  {
   "cell_type": "markdown",
   "metadata": {
    "focus": false,
    "id": "87689b59-fda0-4a07-a9d3-95936deaf8ee"
   },
   "source": [
    "#### 4.5 How can you improve your overall analysis? "
   ]
  },
  {
   "cell_type": "markdown",
   "metadata": {
    "focus": false,
    "id": "000bc40d-e033-4621-82a4-e09717947fb3"
   },
   "source": [
    "Answer: "
   ]
  },
  {
   "cell_type": "markdown",
   "metadata": {
    "focus": false,
    "id": "cea5d879-f180-448a-bd50-b30b2b7d6d28"
   },
   "source": [
    "### Part 5: Perform a PCA and Present Findings"
   ]
  },
  {
   "cell_type": "markdown",
   "metadata": {
    "focus": false,
    "id": "27c1212c-3490-45ff-a6da-501075f3eee5"
   },
   "source": [
    "#### 5.1 Conduct the PCA"
   ]
  },
  {
   "cell_type": "code",
   "execution_count": 12,
   "metadata": {
    "collapsed": true,
    "focus": false,
    "id": "a8e7ac46-ba4f-47a8-99f8-b67a7f7e108e"
   },
   "outputs": [],
   "source": []
  },
  {
   "cell_type": "code",
   "execution_count": null,
   "metadata": {
    "collapsed": true,
    "focus": false,
    "id": "98fd6a42-89e0-4621-a70d-1e2c8c4bb975"
   },
   "outputs": [],
   "source": []
  },
  {
   "cell_type": "markdown",
   "metadata": {
    "focus": false,
    "id": "023d9120-1eb3-4f20-b083-5a8fa1605f06"
   },
   "source": [
    "#### 5.2 Write an analysis plan of your findings "
   ]
  },
  {
   "cell_type": "markdown",
   "metadata": {
    "focus": false,
    "id": "dc0ce0b7-c246-4d76-a01d-88fa0d37fe95"
   },
   "source": [
    "Create a writeup on the interpretation of findings including an executive summary with conclusions and next steps"
   ]
  },
  {
   "cell_type": "code",
   "execution_count": null,
   "metadata": {
    "collapsed": true,
    "focus": false,
    "id": "b6fece51-aa23-4572-8d1d-c9c83701899d"
   },
   "outputs": [],
   "source": []
  }
 ],
 "metadata": {
  "anaconda-cloud": {},
  "kernelspec": {
   "display_name": "Python [Root]",
   "language": "python",
   "name": "Python [Root]"
  },
  "language_info": {
   "codemirror_mode": {
    "name": "ipython",
    "version": 2
   },
   "file_extension": ".py",
   "mimetype": "text/x-python",
   "name": "python",
   "nbconvert_exporter": "python",
   "pygments_lexer": "ipython2",
   "version": "2.7.12"
  }
 },
 "nbformat": 4,
 "nbformat_minor": 0
}
