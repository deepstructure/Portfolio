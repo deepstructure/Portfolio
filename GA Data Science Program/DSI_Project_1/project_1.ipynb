{
 "cells": [
  {
   "cell_type": "markdown",
   "metadata": {},
   "source": [
    "# Project 1\n",
    "\n",
    "## Step 1: Open the `sat_scores.csv` file. Investigate the data, and answer the questions below.\n"
   ]
  },
  {
   "cell_type": "markdown",
   "metadata": {},
   "source": [
    "##### 1. What does the data describe?"
   ]
  },
  {
   "cell_type": "markdown",
   "metadata": {},
   "source": [
    "The data describes SAT data for each state, plus the District of Columbia. Specifically, three measurements are given:\n",
    "    1. Rate: the percentage of the student body that took the SAT\n",
    "    2. Math: the average math score for the state\n",
    "    3. Verbal: the average verbal score for the state "
   ]
  },
  {
   "cell_type": "markdown",
   "metadata": {},
   "source": [
    "##### 2. Does the data look complete? Are there any obvious issues with the observations?"
   ]
  },
  {
   "cell_type": "markdown",
   "metadata": {},
   "source": [
    "The data has an additional \"ALL\" entry for what appears to be the average of the values for the entire US. There's also an empty entry at the end of the file."
   ]
  },
  {
   "cell_type": "markdown",
   "metadata": {},
   "source": [
    "##### 3. Create a data dictionary for the dataset."
   ]
  },
  {
   "cell_type": "markdown",
   "metadata": {
    "collapsed": false
   },
   "source": [
    "### Abstract\n",
    "The SAT is a standardized test widely used for college admissions in the United States. It was first introduced in 1926, and its name and scoring have changed several times, being originally called the Scholastic Aptitude Test, then the Scholastic Assessment Test, then the SAT I: Reasoning Test, then the SAT Reasoning Test, and now simply the SAT.\n",
    "\n",
    "The current SAT, introduced in 2016, takes 3 hours to finish. Possible scores on the SAT range from 400 to 1600, combining test results from two 800-point sections: Mathematics (\"Math\"), and Critical reading and Writing (\"Verbal\").\n",
    "\n",
    "### Summary\n",
    "Data were collected per state on the average score over one year for both sections of the SAT, plus the percentage of students taking the SAT.\n",
    "\n",
    "### Data types\n",
    "The complete data types collected are as follows:\n",
    "\n",
    "| Data Type |                     Description                    |\n",
    "|:---------:|:--------------------------------------------------:|\n",
    "| State     | Name of state                                      |\n",
    "| Rate      | Percentage of student population that took the SAT |\n",
    "| Math      | State average for the math section                 |\n",
    "| Verbal    | State average for the verbal section               |"
   ]
  },
  {
   "cell_type": "markdown",
   "metadata": {},
   "source": [
    "## Step 2: Load the data."
   ]
  },
  {
   "cell_type": "markdown",
   "metadata": {},
   "source": [
    "##### 4. Load the data into a list of lists"
   ]
  },
  {
   "cell_type": "code",
   "execution_count": 1,
   "metadata": {
    "collapsed": false
   },
   "outputs": [],
   "source": [
    "l = []\n",
    "\n",
    "with open('data/sat_scores.csv') as f:\n",
    "    for line in f:\n",
    "        l.append(line.strip().split(','))\n"
   ]
  },
  {
   "cell_type": "markdown",
   "metadata": {},
   "source": [
    "##### 5. Print the data"
   ]
  },
  {
   "cell_type": "code",
   "execution_count": 2,
   "metadata": {
    "collapsed": false
   },
   "outputs": [
    {
     "name": "stdout",
     "output_type": "stream",
     "text": [
      "[['State', 'Rate', 'Verbal', 'Math'], ['CT', '82', '509', '510'], ['NJ', '81', '499', '513'], ['MA', '79', '511', '515'], ['NY', '77', '495', '505'], ['NH', '72', '520', '516'], ['RI', '71', '501', '499'], ['PA', '71', '500', '499'], ['VT', '69', '511', '506'], ['ME', '69', '506', '500'], ['VA', '68', '510', '501'], ['DE', '67', '501', '499'], ['MD', '65', '508', '510'], ['NC', '65', '493', '499'], ['GA', '63', '491', '489'], ['IN', '60', '499', '501'], ['SC', '57', '486', '488'], ['DC', '56', '482', '474'], ['OR', '55', '526', '526'], ['FL', '54', '498', '499'], ['WA', '53', '527', '527'], ['TX', '53', '493', '499'], ['HI', '52', '485', '515'], ['AK', '51', '514', '510'], ['CA', '51', '498', '517'], ['AZ', '34', '523', '525'], ['NV', '33', '509', '515'], ['CO', '31', '539', '542'], ['OH', '26', '534', '439'], ['MT', '23', '539', '539'], ['WV', '18', '527', '512'], ['ID', '17', '543', '542'], ['TN', '13', '562', '553'], ['NM', '13', '551', '542'], ['IL', '12', '576', '589'], ['KY', '12', '550', '550'], ['WY', '11', '547', '545'], ['MI', '11', '561', '572'], ['MN', '9', '580', '589'], ['KS', '9', '577', '580'], ['AL', '9', '559', '554'], ['NE', '8', '562', '568'], ['OK', '8', '567', '561'], ['MO', '8', '577', '577'], ['LA', '7', '564', '562'], ['WI', '6', '584', '596'], ['AR', '6', '562', '550'], ['UT', '5', '575', '570'], ['IA', '5', '593', '603'], ['SD', '4', '577', '582'], ['ND', '4', '592', '599'], ['MS', '4', '566', '551'], ['All', '45', '506', '514']]\n"
     ]
    }
   ],
   "source": [
    "print l"
   ]
  },
  {
   "cell_type": "markdown",
   "metadata": {
    "collapsed": true
   },
   "source": [
    "##### 6. Extract a list of the labels from the data, and remove them from the data."
   ]
  },
  {
   "cell_type": "code",
   "execution_count": 3,
   "metadata": {
    "collapsed": false
   },
   "outputs": [
    {
     "name": "stdout",
     "output_type": "stream",
     "text": [
      "[['CT', '82', '509', '510'], ['NJ', '81', '499', '513'], ['MA', '79', '511', '515'], ['NY', '77', '495', '505'], ['NH', '72', '520', '516'], ['RI', '71', '501', '499'], ['PA', '71', '500', '499'], ['VT', '69', '511', '506'], ['ME', '69', '506', '500'], ['VA', '68', '510', '501'], ['DE', '67', '501', '499'], ['MD', '65', '508', '510'], ['NC', '65', '493', '499'], ['GA', '63', '491', '489'], ['IN', '60', '499', '501'], ['SC', '57', '486', '488'], ['DC', '56', '482', '474'], ['OR', '55', '526', '526'], ['FL', '54', '498', '499'], ['WA', '53', '527', '527'], ['TX', '53', '493', '499'], ['HI', '52', '485', '515'], ['AK', '51', '514', '510'], ['CA', '51', '498', '517'], ['AZ', '34', '523', '525'], ['NV', '33', '509', '515'], ['CO', '31', '539', '542'], ['OH', '26', '534', '439'], ['MT', '23', '539', '539'], ['WV', '18', '527', '512'], ['ID', '17', '543', '542'], ['TN', '13', '562', '553'], ['NM', '13', '551', '542'], ['IL', '12', '576', '589'], ['KY', '12', '550', '550'], ['WY', '11', '547', '545'], ['MI', '11', '561', '572'], ['MN', '9', '580', '589'], ['KS', '9', '577', '580'], ['AL', '9', '559', '554'], ['NE', '8', '562', '568'], ['OK', '8', '567', '561'], ['MO', '8', '577', '577'], ['LA', '7', '564', '562'], ['WI', '6', '584', '596'], ['AR', '6', '562', '550'], ['UT', '5', '575', '570'], ['IA', '5', '593', '603'], ['SD', '4', '577', '582'], ['ND', '4', '592', '599'], ['MS', '4', '566', '551']]\n",
      "\n",
      "['All', '45', '506', '514']\n",
      "\n",
      "['State', 'Rate', 'Verbal', 'Math']\n"
     ]
    }
   ],
   "source": [
    "label_list = l[0]\n",
    "del l[0]  # remove header\n",
    "all_list = l[(len(l)-1)] # copy ALL entry for possible future use\n",
    "l.pop()  # remove the ALL entry\n",
    "print l\n",
    "print \"\"\n",
    "print all_list\n",
    "print \"\"\n",
    "print label_list"
   ]
  },
  {
   "cell_type": "markdown",
   "metadata": {},
   "source": [
    "#### 7. Create a list of State names extracted from the data."
   ]
  },
  {
   "cell_type": "code",
   "execution_count": 4,
   "metadata": {
    "collapsed": false
   },
   "outputs": [
    {
     "name": "stdout",
     "output_type": "stream",
     "text": [
      "['CT', 'NJ', 'MA', 'NY', 'NH', 'RI', 'PA', 'VT', 'ME', 'VA', 'DE', 'MD', 'NC', 'GA', 'IN', 'SC', 'DC', 'OR', 'FL', 'WA', 'TX', 'HI', 'AK', 'CA', 'AZ', 'NV', 'CO', 'OH', 'MT', 'WV', 'ID', 'TN', 'NM', 'IL', 'KY', 'WY', 'MI', 'MN', 'KS', 'AL', 'NE', 'OK', 'MO', 'LA', 'WI', 'AR', 'UT', 'IA', 'SD', 'ND', 'MS']\n"
     ]
    }
   ],
   "source": [
    "state_names = []\n",
    "for i in l:\n",
    "    state_names.append(i[0])\n",
    "\n",
    "print state_names"
   ]
  },
  {
   "cell_type": "markdown",
   "metadata": {},
   "source": [
    "##### 8. Print the types of each column"
   ]
  },
  {
   "cell_type": "code",
   "execution_count": 5,
   "metadata": {
    "collapsed": false
   },
   "outputs": [
    {
     "name": "stdout",
     "output_type": "stream",
     "text": [
      "CT = <type 'str'>\n",
      "82 = <type 'str'>\n",
      "509 = <type 'str'>\n",
      "510 = <type 'str'>\n",
      "\n",
      "NJ = <type 'str'>\n",
      "81 = <type 'str'>\n",
      "499 = <type 'str'>\n",
      "513 = <type 'str'>\n",
      "\n",
      "MA = <type 'str'>\n",
      "79 = <type 'str'>\n",
      "511 = <type 'str'>\n",
      "515 = <type 'str'>\n",
      "\n"
     ]
    }
   ],
   "source": [
    "for i in l[0:3]:\n",
    "    print i[0], '=',type(i[0])\n",
    "    print i[1], '=',type(i[0])\n",
    "    print i[2], '=',type(i[0])\n",
    "    print i[3], '=',type(i[0])\n",
    "    print ''\n",
    "    "
   ]
  },
  {
   "cell_type": "markdown",
   "metadata": {},
   "source": [
    "##### 9. Do any types need to be reassigned? If so, go ahead and do it."
   ]
  },
  {
   "cell_type": "code",
   "execution_count": 6,
   "metadata": {
    "collapsed": false
   },
   "outputs": [
    {
     "name": "stdout",
     "output_type": "stream",
     "text": [
      "[['CT', 82, 509, 510], ['NJ', 81, 499, 513], ['MA', 79, 511, 515], ['NY', 77, 495, 505], ['NH', 72, 520, 516], ['RI', 71, 501, 499], ['PA', 71, 500, 499], ['VT', 69, 511, 506], ['ME', 69, 506, 500], ['VA', 68, 510, 501], ['DE', 67, 501, 499], ['MD', 65, 508, 510], ['NC', 65, 493, 499], ['GA', 63, 491, 489], ['IN', 60, 499, 501], ['SC', 57, 486, 488], ['DC', 56, 482, 474], ['OR', 55, 526, 526], ['FL', 54, 498, 499], ['WA', 53, 527, 527], ['TX', 53, 493, 499], ['HI', 52, 485, 515], ['AK', 51, 514, 510], ['CA', 51, 498, 517], ['AZ', 34, 523, 525], ['NV', 33, 509, 515], ['CO', 31, 539, 542], ['OH', 26, 534, 439], ['MT', 23, 539, 539], ['WV', 18, 527, 512], ['ID', 17, 543, 542], ['TN', 13, 562, 553], ['NM', 13, 551, 542], ['IL', 12, 576, 589], ['KY', 12, 550, 550], ['WY', 11, 547, 545], ['MI', 11, 561, 572], ['MN', 9, 580, 589], ['KS', 9, 577, 580], ['AL', 9, 559, 554], ['NE', 8, 562, 568], ['OK', 8, 567, 561], ['MO', 8, 577, 577], ['LA', 7, 564, 562], ['WI', 6, 584, 596], ['AR', 6, 562, 550], ['UT', 5, 575, 570], ['IA', 5, 593, 603], ['SD', 4, 577, 582], ['ND', 4, 592, 599], ['MS', 4, 566, 551]]\n"
     ]
    }
   ],
   "source": [
    "for strings in l:\n",
    "    for i in range(1,4):\n",
    "        strings[i] = int(strings[i])\n",
    "\n",
    "print l\n"
   ]
  },
  {
   "cell_type": "markdown",
   "metadata": {},
   "source": [
    "##### 10. Create a dictionary for each column mapping the State to its respective value for that column. "
   ]
  },
  {
   "cell_type": "code",
   "execution_count": 7,
   "metadata": {
    "collapsed": false
   },
   "outputs": [
    {
     "name": "stdout",
     "output_type": "stream",
     "text": [
      "[('WA', 53), ('DE', 67), ('DC', 56), ('WI', 6), ('WV', 18), ('HI', 52), ('FL', 54), ('WY', 11), ('NH', 72), ('NJ', 81), ('NM', 13), ('TX', 53), ('LA', 7), ('NC', 65), ('ND', 4), ('NE', 8), ('TN', 13), ('NY', 77), ('PA', 71), ('RI', 71), ('NV', 33), ('VA', 68), ('CO', 31), ('AK', 51), ('AL', 9), ('AR', 6), ('VT', 69), ('IL', 12), ('GA', 63), ('IN', 60), ('IA', 5), ('OK', 8), ('AZ', 34), ('CA', 51), ('ID', 17), ('CT', 82), ('ME', 69), ('MD', 65), ('MA', 79), ('OH', 26), ('UT', 5), ('MO', 8), ('MN', 9), ('MI', 11), ('KS', 9), ('MT', 23), ('MS', 4), ('SC', 57), ('KY', 12), ('OR', 55), ('SD', 4)]\n",
      "\n",
      "[('WA', 527), ('DE', 501), ('DC', 482), ('WI', 584), ('WV', 527), ('HI', 485), ('FL', 498), ('WY', 547), ('NH', 520), ('NJ', 499), ('NM', 551), ('TX', 493), ('LA', 564), ('NC', 493), ('ND', 592), ('NE', 562), ('TN', 562), ('NY', 495), ('PA', 500), ('RI', 501), ('NV', 509), ('VA', 510), ('CO', 539), ('AK', 514), ('AL', 559), ('AR', 562), ('VT', 511), ('IL', 576), ('GA', 491), ('IN', 499), ('IA', 593), ('OK', 567), ('AZ', 523), ('CA', 498), ('ID', 543), ('CT', 509), ('ME', 506), ('MD', 508), ('MA', 511), ('OH', 534), ('UT', 575), ('MO', 577), ('MN', 580), ('MI', 561), ('KS', 577), ('MT', 539), ('MS', 566), ('SC', 486), ('KY', 550), ('OR', 526), ('SD', 577)]\n",
      "\n",
      "[('WA', 527), ('DE', 499), ('DC', 474), ('WI', 596), ('WV', 512), ('HI', 515), ('FL', 499), ('WY', 545), ('NH', 516), ('NJ', 513), ('NM', 542), ('TX', 499), ('LA', 562), ('NC', 499), ('ND', 599), ('NE', 568), ('TN', 553), ('NY', 505), ('PA', 499), ('RI', 499), ('NV', 515), ('VA', 501), ('CO', 542), ('AK', 510), ('AL', 554), ('AR', 550), ('VT', 506), ('IL', 589), ('GA', 489), ('IN', 501), ('IA', 603), ('OK', 561), ('AZ', 525), ('CA', 517), ('ID', 542), ('CT', 510), ('ME', 500), ('MD', 510), ('MA', 515), ('OH', 439), ('UT', 570), ('MO', 577), ('MN', 589), ('MI', 572), ('KS', 580), ('MT', 539), ('MS', 551), ('SC', 488), ('KY', 550), ('OR', 526), ('SD', 582)]\n"
     ]
    }
   ],
   "source": [
    "state_rate = {}\n",
    "state_verbal = {}\n",
    "state_math = {}\n",
    "for entry in l:\n",
    "    state_rate[entry[0]] = entry[1]\n",
    "    state_verbal[entry[0]] = entry[2]\n",
    "    state_math[entry[0]] = entry[3]\n",
    "\n",
    "print state_rate.items()\n",
    "print \"\"\n",
    "print state_verbal.items()\n",
    "print \"\"\n",
    "print state_math.items()\n"
   ]
  },
  {
   "cell_type": "markdown",
   "metadata": {},
   "source": [
    "##### 11. Create a dictionary with the values for each of the numeric columns"
   ]
  },
  {
   "cell_type": "code",
   "execution_count": 8,
   "metadata": {
    "collapsed": false
   },
   "outputs": [
    {
     "name": "stdout",
     "output_type": "stream",
     "text": [
      "[('WA', [53, 527, 527]), ('DE', [67, 501, 499]), ('DC', [56, 482, 474]), ('WI', [6, 584, 596]), ('WV', [18, 527, 512]), ('HI', [52, 485, 515]), ('FL', [54, 498, 499]), ('WY', [11, 547, 545]), ('NH', [72, 520, 516]), ('NJ', [81, 499, 513]), ('NM', [13, 551, 542]), ('TX', [53, 493, 499]), ('LA', [7, 564, 562]), ('NC', [65, 493, 499]), ('ND', [4, 592, 599]), ('NE', [8, 562, 568]), ('TN', [13, 562, 553]), ('NY', [77, 495, 505]), ('PA', [71, 500, 499]), ('RI', [71, 501, 499]), ('NV', [33, 509, 515]), ('VA', [68, 510, 501]), ('CO', [31, 539, 542]), ('AK', [51, 514, 510]), ('AL', [9, 559, 554]), ('AR', [6, 562, 550]), ('VT', [69, 511, 506]), ('IL', [12, 576, 589]), ('GA', [63, 491, 489]), ('IN', [60, 499, 501]), ('IA', [5, 593, 603]), ('OK', [8, 567, 561]), ('AZ', [34, 523, 525]), ('CA', [51, 498, 517]), ('ID', [17, 543, 542]), ('CT', [82, 509, 510]), ('ME', [69, 506, 500]), ('MD', [65, 508, 510]), ('MA', [79, 511, 515]), ('OH', [26, 534, 439]), ('UT', [5, 575, 570]), ('MO', [8, 577, 577]), ('MN', [9, 580, 589]), ('MI', [11, 561, 572]), ('KS', [9, 577, 580]), ('MT', [23, 539, 539]), ('MS', [4, 566, 551]), ('SC', [57, 486, 488]), ('KY', [12, 550, 550]), ('OR', [55, 526, 526]), ('SD', [4, 577, 582])]\n"
     ]
    }
   ],
   "source": [
    "state_values = {}\n",
    "for entry in l:\n",
    "    value_list = []\n",
    "    for i in range(1,4):\n",
    "        value_list.append(entry[i])\n",
    "    state_values[entry[0]] = value_list\n",
    "print state_values.items()"
   ]
  },
  {
   "cell_type": "markdown",
   "metadata": {},
   "source": [
    "## Step 3: Describe the data"
   ]
  },
  {
   "cell_type": "markdown",
   "metadata": {},
   "source": [
    "##### 12. Print the min and max of each column"
   ]
  },
  {
   "cell_type": "code",
   "execution_count": 9,
   "metadata": {
    "collapsed": false
   },
   "outputs": [
    {
     "name": "stdout",
     "output_type": "stream",
     "text": [
      "RATE\n",
      "[4, 4, 4, 5, 5, 6, 6, 7, 8, 8, 8, 9, 9, 9, 11, 11, 12, 12, 13, 13, 17, 18, 23, 26, 31, 33, 34, 51, 51, 52, 53, 53, 54, 55, 56, 57, 60, 63, 65, 65, 67, 68, 69, 69, 71, 71, 72, 77, 79, 81, 82]\n",
      "Min value =  4\n",
      "Max value =  82\n",
      "\n",
      "MATH\n",
      "[439, 474, 488, 489, 499, 499, 499, 499, 499, 499, 500, 501, 501, 505, 506, 510, 510, 510, 512, 513, 515, 515, 515, 516, 517, 525, 526, 527, 539, 542, 542, 542, 545, 550, 550, 551, 553, 554, 561, 562, 568, 570, 572, 577, 580, 582, 589, 589, 596, 599, 603]\n",
      "Min value =  439\n",
      "Max value =  603\n",
      "\n",
      "VERBAL\n",
      "[482, 485, 486, 491, 493, 493, 495, 498, 498, 499, 499, 500, 501, 501, 506, 508, 509, 509, 510, 511, 511, 514, 520, 523, 526, 527, 527, 534, 539, 539, 543, 547, 550, 551, 559, 561, 562, 562, 562, 564, 566, 567, 575, 576, 577, 577, 577, 580, 584, 592, 593]\n",
      "Min value =  482\n",
      "Max value =  593\n"
     ]
    }
   ],
   "source": [
    "rate_list = []\n",
    "verbal_list = []\n",
    "math_list = []\n",
    "\n",
    "for i in l:\n",
    "    rate_list.append(i[1])\n",
    "    verbal_list.append(i[2])\n",
    "    math_list.append(i[3])\n",
    "    \n",
    "print 'RATE'\n",
    "print sorted(rate_list)\n",
    "print 'Min value = ', min(rate_list)\n",
    "print 'Max value = ', max(rate_list)\n",
    "print \"\"\n",
    "print 'MATH'\n",
    "print sorted(math_list)\n",
    "print 'Min value = ', min(math_list)\n",
    "print 'Max value = ', max(math_list)\n",
    "print \"\"\n",
    "print \"VERBAL\"\n",
    "print sorted(verbal_list)\n",
    "print 'Min value = ', min(verbal_list)\n",
    "print 'Max value = ', max(verbal_list)\n"
   ]
  },
  {
   "cell_type": "markdown",
   "metadata": {},
   "source": [
    "##### 13. Write a function using only list comprehensions, no loops, to compute Standard Deviation. Print the Standard Deviation of each numeric column."
   ]
  },
  {
   "cell_type": "code",
   "execution_count": 10,
   "metadata": {
    "collapsed": false,
    "scrolled": true
   },
   "outputs": [
    {
     "name": "stdout",
     "output_type": "stream",
     "text": [
      "27.2792386761\n",
      "35.9298731731\n",
      "33.0319826842\n"
     ]
    }
   ],
   "source": [
    "def std(num_list):\n",
    "    y = sum(num_list)/float(len(num_list))\n",
    "    deviation_list = [abs(n - y) ** 2 for n in num_list]\n",
    "    deviation = (sum(deviation_list)/float(len(deviation_list))) ** .5\n",
    "    return deviation\n",
    "\n",
    "print std(rate_list)\n",
    "print std(math_list)\n",
    "print std(verbal_list)"
   ]
  },
  {
   "cell_type": "markdown",
   "metadata": {},
   "source": [
    "## Step 4: Visualize the data"
   ]
  },
  {
   "cell_type": "markdown",
   "metadata": {
    "collapsed": true
   },
   "source": [
    "##### 14. Using MatPlotLib and PyPlot, plot the distribution of the Rate using histograms."
   ]
  },
  {
   "cell_type": "code",
   "execution_count": 11,
   "metadata": {
    "collapsed": false
   },
   "outputs": [
    {
     "data": {
      "text/plain": [
       "<matplotlib.axes._subplots.AxesSubplot at 0x110f23110>"
      ]
     },
     "execution_count": 11,
     "metadata": {},
     "output_type": "execute_result"
    },
    {
     "data": {
      "image/png": "[encoded data removed]",
      "text/plain": [
       "<matplotlib.figure.Figure at 0x110f07a90>"
      ]
     },
     "metadata": {},
     "output_type": "display_data"
    }
   ],
   "source": [
    "import pandas as pd\n",
    "import matplotlib\n",
    "%matplotlib inline\n",
    "\n",
    "df = pd.DataFrame(l, columns = ['State', 'Rate', 'Verbal', 'Math'])\n",
    "df['Rate'].hist()"
   ]
  },
  {
   "cell_type": "markdown",
   "metadata": {},
   "source": [
    "##### 15. Plot the Math distribution"
   ]
  },
  {
   "cell_type": "code",
   "execution_count": 12,
   "metadata": {
    "collapsed": false
   },
   "outputs": [
    {
     "data": {
      "text/plain": [
       "<matplotlib.axes._subplots.AxesSubplot at 0x111824a10>"
      ]
     },
     "execution_count": 12,
     "metadata": {},
     "output_type": "execute_result"
    },
    {
     "data": {
      "image/png": "[encoded data removed]",
      "text/plain": [
       "<matplotlib.figure.Figure at 0x102dd93d0>"
      ]
     },
     "metadata": {},
     "output_type": "display_data"
    }
   ],
   "source": [
    "df['Math'].hist()"
   ]
  },
  {
   "cell_type": "markdown",
   "metadata": {},
   "source": [
    "##### 16. Plot the Verbal distribution"
   ]
  },
  {
   "cell_type": "code",
   "execution_count": 13,
   "metadata": {
    "collapsed": false
   },
   "outputs": [
    {
     "data": {
      "text/plain": [
       "<matplotlib.axes._subplots.AxesSubplot at 0x111b02090>"
      ]
     },
     "execution_count": 13,
     "metadata": {},
     "output_type": "execute_result"
    },
    {
     "data": {
      "image/png": "[encoded data removed]",
      "text/plain": [
       "<matplotlib.figure.Figure at 0x111b0e390>"
      ]
     },
     "metadata": {},
     "output_type": "display_data"
    }
   ],
   "source": [
    "df['Verbal'].hist()"
   ]
  },
  {
   "cell_type": "markdown",
   "metadata": {},
   "source": [
    "##### 17. What is the typical assumption for data distribution?"
   ]
  },
  {
   "cell_type": "markdown",
   "metadata": {
    "collapsed": false
   },
   "source": [
    "A Bell curve."
   ]
  },
  {
   "cell_type": "markdown",
   "metadata": {},
   "source": [
    "##### 18. Does that distribution hold true for our data?"
   ]
  },
  {
   "cell_type": "markdown",
   "metadata": {
    "collapsed": false
   },
   "source": [
    "Not really. The math distribution comes the closest."
   ]
  },
  {
   "cell_type": "markdown",
   "metadata": {},
   "source": [
    "##### 19. Plot some scatterplots. **BONUS**: Use a PyPlot `figure` to present multiple plots at once."
   ]
  },
  {
   "cell_type": "code",
   "execution_count": 15,
   "metadata": {
    "collapsed": false
   },
   "outputs": [
    {
     "data": {
      "image/png": "[encoded data removed]",
      "text/plain": [
       "<matplotlib.figure.Figure at 0x11263c350>"
      ]
     },
     "metadata": {},
     "output_type": "display_data"
    }
   ],
   "source": [
    "import matplotlib.pyplot as plt\n",
    "plt.figure(figsize=(12,10))\n",
    "\n",
    "plt.subplot(311)\n",
    "plt.plot(df['Math'], df['Verbal'], 'bo')\n",
    "plt.xlabel('Math')\n",
    "plt.ylabel('Verbal')\n",
    "plt.title('Math vs Verbal')\n",
    "\n",
    "plt.subplot(312)\n",
    "plt.plot(df['Verbal'], df['Rate'], 'go')\n",
    "plt.xlabel('Verbal')\n",
    "plt.ylabel('Rate')\n",
    "plt.title('Verbal vs Rate')\n",
    "\n",
    "plt.subplot(313)\n",
    "plt.plot(df['Math'], df['Rate'], 'ro')\n",
    "plt.xlabel('Math')\n",
    "plt.ylabel('Rate')\n",
    "plt.title('Math vs Rate')\n",
    "plt.tight_layout()\n"
   ]
  },
  {
   "cell_type": "markdown",
   "metadata": {},
   "source": [
    "##### 20. Are there any interesting relationships to note?"
   ]
  },
  {
   "cell_type": "markdown",
   "metadata": {
    "collapsed": false
   },
   "source": [
    "For the most part, Math scores are correlated to Verbal scores. This would be expected. Apparently one state is average for Verbal, but terrible at Math.\n",
    "\n",
    "But more interestingly, what's going on with the higher scores when it comes to rate? This makes me question if we misinterpreted what 'Rate' means. If it truly is the participation rate of the students, it looks like some states are artificially inflating their SAT averages by only selecting the best students to participate. The highest scores are all in states with rates below 20% participation."
   ]
  },
  {
   "cell_type": "markdown",
   "metadata": {},
   "source": [
    "##### 21. Create box plots for each variable. "
   ]
  },
  {
   "cell_type": "code",
   "execution_count": 16,
   "metadata": {
    "collapsed": false
   },
   "outputs": [
    {
     "data": {
      "text/plain": [
       "<matplotlib.axes._subplots.AxesSubplot at 0x1126db050>"
      ]
     },
     "execution_count": 16,
     "metadata": {},
     "output_type": "execute_result"
    },
    {
     "data": {
      "image/png": "[encoded data removed]",
      "text/plain": [
       "<matplotlib.figure.Figure at 0x1126da510>"
      ]
     },
     "metadata": {},
     "output_type": "display_data"
    }
   ],
   "source": [
    "df.boxplot(column=\"Math\",return_type='axes')"
   ]
  },
  {
   "cell_type": "code",
   "execution_count": 17,
   "metadata": {
    "collapsed": false
   },
   "outputs": [
    {
     "data": {
      "text/plain": [
       "<matplotlib.axes._subplots.AxesSubplot at 0x112ed90d0>"
      ]
     },
     "execution_count": 17,
     "metadata": {},
     "output_type": "execute_result"
    },
    {
     "data": {
      "image/png": "[encoded data removed]",
      "text/plain": [
       "<matplotlib.figure.Figure at 0x112aed150>"
      ]
     },
     "metadata": {},
     "output_type": "display_data"
    }
   ],
   "source": [
    "df.boxplot(column=\"Verbal\",return_type='axes')"
   ]
  },
  {
   "cell_type": "code",
   "execution_count": 18,
   "metadata": {
    "collapsed": false
   },
   "outputs": [
    {
     "data": {
      "text/plain": [
       "<matplotlib.axes._subplots.AxesSubplot at 0x1134640d0>"
      ]
     },
     "execution_count": 18,
     "metadata": {},
     "output_type": "execute_result"
    },
    {
     "data": {
      "image/png": "[encoded data removed]",
      "text/plain": [
       "<matplotlib.figure.Figure at 0x113476090>"
      ]
     },
     "metadata": {},
     "output_type": "display_data"
    }
   ],
   "source": [
    "df.boxplot(column=\"Rate\",return_type='axes')"
   ]
  },
  {
   "cell_type": "markdown",
   "metadata": {},
   "source": [
    "##### BONUS: Using Tableau, create a heat map for each variable using a map of the US. "
   ]
  },
  {
   "cell_type": "code",
   "execution_count": 19,
   "metadata": {
    "collapsed": false
   },
   "outputs": [],
   "source": [
    "df.to_csv(path_or_buf='data/sat_data_for_tableau.csv')"
   ]
  },
  {
   "cell_type": "markdown",
   "metadata": {
    "collapsed": false
   },
   "source": [
    "![title](SAT_viz.png)"
   ]
  },
  {
   "cell_type": "markdown",
   "metadata": {},
   "source": [
    "I felt the primary information of interest would be the combined SAT score, a measure that most people are familiar with. \n",
    "\n",
    "This map shows the lowest combined score to the highest combined score by state. Locating a state gives a general idea of where in the spectrum (defined by the legend at bottom as 956 to 1196), that state ranks.\n",
    "\n",
    "I would have preferred the highest scores be in the lower right corner, but couldn't figure out how to reverse the order in Tableau. To be figured out later.."
   ]
  },
  {
   "cell_type": "code",
   "execution_count": null,
   "metadata": {
    "collapsed": true
   },
   "outputs": [],
   "source": []
  }
 ],
 "metadata": {
  "anaconda-cloud": {},
  "kernelspec": {
   "display_name": "Python [Root]",
   "language": "python",
   "name": "Python [Root]"
  },
  "language_info": {
   "codemirror_mode": {
    "name": "ipython",
    "version": 2
   },
   "file_extension": ".py",
   "mimetype": "text/x-python",
   "name": "python",
   "nbconvert_exporter": "python",
   "pygments_lexer": "ipython2",
   "version": "2.7.12"
  }
 },
 "nbformat": 4,
 "nbformat_minor": 0
}
