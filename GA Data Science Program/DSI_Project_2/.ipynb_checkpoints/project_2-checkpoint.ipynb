{
 "cells": [
  {
   "cell_type": "markdown",
   "metadata": {},
   "source": [
    "# Project 2:  Lucid Titanic Sleuthing"
   ]
  },
  {
   "cell_type": "markdown",
   "metadata": {},
   "source": [
    "#### Category descriptions:\n",
    "(from Kaggle description) https://www.kaggle.com/c/titanic/data  \n",
    "\n",
    "**Pclass** is a proxy for socio-economic status (SES)  \n",
    "- 1st ~ Upper; 2nd ~ Middle; 3rd ~ Lower\n",
    "\n",
    "**Age** is in Years; Fractional if Age less than One (1)\n",
    "- If the Age is Estimated, it is in the form xx.5\n",
    "\n",
    "The following are the definitions used for sibsp and parch:\n",
    "- **Sibling**:  Brother, Sister, Stepbrother, or Stepsister of Passenger Aboard Titanic\n",
    "- **Spouse**:   Husband or Wife of Passenger Aboard Titanic (Mistresses and Fiances Ignored)\n",
    "- **Parent**:   Mother or Father of Passenger Aboard Titanic\n",
    "- **Child**:    Son, Daughter, Stepson, or Stepdaughter of Passenger Aboard Titanic\n",
    "\n",
    "Other family relatives excluded from this study include cousins,\n",
    "nephews/nieces, aunts/uncles, and in-laws.  Some children travelled\n",
    "only with a nanny, therefore parch=0 for them.  As well, some\n",
    "travelled with very close friends or neighbors in a village, however,\n",
    "the definitions do not support such relations."
   ]
  },
  {
   "cell_type": "markdown",
   "metadata": {},
   "source": [
    "## Part 1: Developing an understanding of the data"
   ]
  },
  {
   "cell_type": "markdown",
   "metadata": {},
   "source": [
    "#### Based on the description of the data you read in the readme describe in your own words this data."
   ]
  },
  {
   "cell_type": "markdown",
   "metadata": {
    "collapsed": true
   },
   "source": [
    "This data describes various information about a subset of the passengers of the Titanic:\n",
    "- demographic data (e.g., age, sex, marital status)\n",
    "- relationships with other passengers (e.g., sibling, spouse, parent, child)\n",
    "- logistical (e.g., ticket number, port of embarcation, cabin)\n",
    "\n",
    "However there is one data point that is most important for our purposes:\n",
    "- survival (1=survived, 0=did not)\n",
    "\n",
    "\n",
    "\n"
   ]
  },
  {
   "cell_type": "markdown",
   "metadata": {},
   "source": [
    "#### Based on our conceptual understanding of the columns in this data set, what are the reasonable range of the values for the Sex, Age, SibSp, Parch columns?"
   ]
  },
  {
   "cell_type": "markdown",
   "metadata": {
    "collapsed": true
   },
   "source": [
    "Range of values for:  \n",
    "- Sex: Male or Female | this is a binary option\n",
    "- Age: 0 to 90 | given that this is age of humans during that time, it's unlikely anyone was over 90\n",
    "- SibSp: 1 to 5 | amount of accompanying siblings or spouse\n",
    "- Parch: 1 to 5 | amount of accompanying parents or children"
   ]
  },
  {
   "cell_type": "markdown",
   "metadata": {},
   "source": [
    "### Open the data in sublime text is there anything that jumps out to you?"
   ]
  },
  {
   "cell_type": "markdown",
   "metadata": {
    "collapsed": true
   },
   "source": [
    "#### Observations:\n",
    "- There are missing values\n",
    "- There seem to be more missing values for the lower clases, especially the 3rd class passengers\n",
    "- Although there were ~2300 passengers on the Titanic, this data only has 1309 entries"
   ]
  },
  {
   "cell_type": "markdown",
   "metadata": {},
   "source": [
    "## Part 2: reading the data in"
   ]
  },
  {
   "cell_type": "markdown",
   "metadata": {},
   "source": [
    "#### Now read the data into a Pandas DataFrame"
   ]
  },
  {
   "cell_type": "code",
   "execution_count": 2,
   "metadata": {
    "collapsed": false,
    "scrolled": true
   },
   "outputs": [
    {
     "data": {
      "text/html": [
       "<div>\n",
       "<table border=\"1\" class=\"dataframe\">\n",
       "  <thead>\n",
       "    <tr style=\"text-align: right;\">\n",
       "      <th></th>\n",
       "      <th>pclass</th>\n",
       "      <th>survived</th>\n",
       "      <th>name</th>\n",
       "      <th>sex</th>\n",
       "      <th>age</th>\n",
       "      <th>sibsp</th>\n",
       "      <th>parch</th>\n",
       "      <th>ticket</th>\n",
       "      <th>fare</th>\n",
       "      <th>cabin</th>\n",
       "      <th>embarked</th>\n",
       "      <th>boat</th>\n",
       "      <th>body</th>\n",
       "      <th>home.dest</th>\n",
       "    </tr>\n",
       "  </thead>\n",
       "  <tbody>\n",
       "    <tr>\n",
       "      <th>0</th>\n",
       "      <td>1</td>\n",
       "      <td>1</td>\n",
       "      <td>Allen, Miss. Elisabeth Walton</td>\n",
       "      <td>female</td>\n",
       "      <td>29.00</td>\n",
       "      <td>0</td>\n",
       "      <td>0</td>\n",
       "      <td>24160</td>\n",
       "      <td>211.3375</td>\n",
       "      <td>B5</td>\n",
       "      <td>S</td>\n",
       "      <td>2</td>\n",
       "      <td>NaN</td>\n",
       "      <td>St Louis, MO</td>\n",
       "    </tr>\n",
       "    <tr>\n",
       "      <th>1</th>\n",
       "      <td>1</td>\n",
       "      <td>1</td>\n",
       "      <td>Allison, Master. Hudson Trevor</td>\n",
       "      <td>male</td>\n",
       "      <td>0.92</td>\n",
       "      <td>1</td>\n",
       "      <td>2</td>\n",
       "      <td>113781</td>\n",
       "      <td>151.5500</td>\n",
       "      <td>C22 C26</td>\n",
       "      <td>S</td>\n",
       "      <td>11</td>\n",
       "      <td>NaN</td>\n",
       "      <td>Montreal, PQ / Chesterville, ON</td>\n",
       "    </tr>\n",
       "  </tbody>\n",
       "</table>\n",
       "</div>"
      ],
      "text/plain": [
       "   pclass  survived                            name     sex    age  sibsp  \\\n",
       "0       1         1   Allen, Miss. Elisabeth Walton  female  29.00      0   \n",
       "1       1         1  Allison, Master. Hudson Trevor    male   0.92      1   \n",
       "\n",
       "   parch  ticket      fare    cabin embarked boat  body  \\\n",
       "0      0   24160  211.3375       B5        S    2   NaN   \n",
       "1      2  113781  151.5500  C22 C26        S   11   NaN   \n",
       "\n",
       "                         home.dest  \n",
       "0                     St Louis, MO  \n",
       "1  Montreal, PQ / Chesterville, ON  "
      ]
     },
     "execution_count": 2,
     "metadata": {},
     "output_type": "execute_result"
    }
   ],
   "source": [
    "import pandas as pd\n",
    "import numpy as np\n",
    "df = pd.read_csv('assets/titanic.csv')\n",
    "# according to df.shape, there are 14 columns and 1309 records\n",
    "df.head(2)"
   ]
  },
  {
   "cell_type": "markdown",
   "metadata": {},
   "source": [
    "#### Check that the age column doesn't have any unreasonable values "
   ]
  },
  {
   "cell_type": "code",
   "execution_count": 9,
   "metadata": {
    "collapsed": false
   },
   "outputs": [
    {
     "name": "stdout",
     "output_type": "stream",
     "text": [
      "0.17\n",
      "80.0\n"
     ]
    }
   ],
   "source": [
    "# check min and max values for age\n",
    "print df['age'].min()\n",
    "print df['age'].max()"
   ]
  },
  {
   "cell_type": "markdown",
   "metadata": {},
   "source": [
    "#### Check for missing values.  How do you know that a value is missing?"
   ]
  },
  {
   "cell_type": "code",
   "execution_count": 8,
   "metadata": {
    "collapsed": false
   },
   "outputs": [
    {
     "data": {
      "text/plain": [
       "pclass          0\n",
       "survived        0\n",
       "name            0\n",
       "sex             0\n",
       "age           263\n",
       "sibsp           0\n",
       "parch           0\n",
       "ticket          0\n",
       "fare            1\n",
       "cabin        1014\n",
       "embarked        2\n",
       "boat          823\n",
       "body         1188\n",
       "home.dest     564\n",
       "dtype: int64"
      ]
     },
     "execution_count": 8,
     "metadata": {},
     "output_type": "execute_result"
    }
   ],
   "source": [
    "# we can do this with isnull:\n",
    "df.isnull().sum()"
   ]
  },
  {
   "cell_type": "code",
   "execution_count": 7,
   "metadata": {
    "collapsed": false
   },
   "outputs": [
    {
     "name": "stdout",
     "output_type": "stream",
     "text": [
      "<class 'pandas.core.frame.DataFrame'>\n",
      "RangeIndex: 1309 entries, 0 to 1308\n",
      "Data columns (total 14 columns):\n",
      "pclass       1309 non-null int64\n",
      "survived     1309 non-null int64\n",
      "name         1309 non-null object\n",
      "sex          1309 non-null object\n",
      "age          1046 non-null float64\n",
      "sibsp        1309 non-null int64\n",
      "parch        1309 non-null int64\n",
      "ticket       1309 non-null object\n",
      "fare         1308 non-null float64\n",
      "cabin        295 non-null object\n",
      "embarked     1307 non-null object\n",
      "boat         486 non-null object\n",
      "body         121 non-null float64\n",
      "home.dest    745 non-null object\n",
      "dtypes: float64(3), int64(4), object(7)\n",
      "memory usage: 143.2+ KB\n"
     ]
    }
   ],
   "source": [
    "# or we can do it with the info method:\n",
    "df.info()"
   ]
  },
  {
   "cell_type": "markdown",
   "metadata": {},
   "source": [
    "#### Does it makes sense to guess at the missing values?"
   ]
  },
  {
   "cell_type": "markdown",
   "metadata": {
    "collapsed": true
   },
   "source": [
    "It might be possible for age at least, given that apellations were used in many cases, which can indicate generally if someone was a young person or adult. We could insert a mean age for those.\n",
    "\n",
    "Cabin, Boat, and Body are all missing far too many values to probably be useful for any imputation."
   ]
  },
  {
   "cell_type": "markdown",
   "metadata": {},
   "source": [
    "## Part 3: data imputation"
   ]
  },
  {
   "cell_type": "markdown",
   "metadata": {},
   "source": [
    "#### Well let’s say that it does... You likely noticed that Age has some missing values. How many are missing?"
   ]
  },
  {
   "cell_type": "markdown",
   "metadata": {},
   "source": [
    "There are 263 null values in the Age column."
   ]
  },
  {
   "cell_type": "markdown",
   "metadata": {},
   "source": [
    "#### For the Age of the passangers ... how would you guess at the missing values using the other data present in the CSV."
   ]
  },
  {
   "cell_type": "markdown",
   "metadata": {},
   "source": [
    "For the missing age values for the passengers, I am sorting the passengers by their apellation, or title, then taking the mean of that title among the passengers and using that as a replacement value for the missings."
   ]
  },
  {
   "cell_type": "code",
   "execution_count": 10,
   "metadata": {
    "collapsed": false
   },
   "outputs": [
    {
     "name": "stdout",
     "output_type": "stream",
     "text": [
      "['Miss', 'Master', 'Mr', 'Mrs', 'Col', 'Mme', 'Dr', 'Major', 'Capt', 'Lady', 'Sir', 'Mlle', 'Dona', 'Jonkheer', 'the Countess', 'Don', 'Rev', 'Ms']\n",
      "18\n"
     ]
    },
    {
     "data": {
      "text/plain": [
       "[('Sir', 1),\n",
       " ('Major', 2),\n",
       " ('the Countess', 1),\n",
       " ('Don', 1),\n",
       " ('Mlle', 2),\n",
       " ('Capt', 1),\n",
       " ('Dr', 8),\n",
       " ('Lady', 1),\n",
       " ('Rev', 8),\n",
       " ('Mrs', 197),\n",
       " ('Dona', 1),\n",
       " ('Jonkheer', 1),\n",
       " ('Master', 61),\n",
       " ('Ms', 2),\n",
       " ('Mr', 757),\n",
       " ('Mme', 1),\n",
       " ('Miss', 260),\n",
       " ('Col', 4)]"
      ]
     },
     "execution_count": 10,
     "metadata": {},
     "output_type": "execute_result"
    }
   ],
   "source": [
    "# determine the different apellations used for passenger names and the amount of them\n",
    "\n",
    "apellation = []  # list of unique apellations\n",
    "apell_count = {} # count of unique apellations\n",
    "\n",
    "for i in df['name']:\n",
    "    t = i.split(',')\n",
    "    u = t[1].strip()\n",
    "    v = u.split('.')\n",
    "    w = v[0]\n",
    "    apell_count[w] = apell_count.get(w, 0) + 1  # update our dictionary count\n",
    "    if w not in apellation:\n",
    "        apellation.append(w)  # add uniques to list\n",
    "\n",
    "print apellation\n",
    "print len(apellation)\n",
    "apell_count.items()\n"
   ]
  },
  {
   "cell_type": "markdown",
   "metadata": {},
   "source": [
    "So there are:\n",
    "- 18 total unique apellations\n",
    "- many are one-offs, but we have a fairly large sample size for 'Mr' (adult male), 'Mrs' (adult female), 'Master' (young male), and 'Miss' (young female)."
   ]
  },
  {
   "cell_type": "code",
   "execution_count": 11,
   "metadata": {
    "collapsed": false
   },
   "outputs": [
    {
     "data": {
      "text/html": [
       "<div>\n",
       "<table border=\"1\" class=\"dataframe\">\n",
       "  <thead>\n",
       "    <tr style=\"text-align: right;\">\n",
       "      <th></th>\n",
       "      <th>pclass</th>\n",
       "      <th>survived</th>\n",
       "      <th>name</th>\n",
       "      <th>sex</th>\n",
       "      <th>age</th>\n",
       "      <th>sibsp</th>\n",
       "      <th>parch</th>\n",
       "      <th>ticket</th>\n",
       "      <th>fare</th>\n",
       "      <th>cabin</th>\n",
       "      <th>embarked</th>\n",
       "      <th>boat</th>\n",
       "      <th>body</th>\n",
       "      <th>home.dest</th>\n",
       "      <th>apell</th>\n",
       "    </tr>\n",
       "  </thead>\n",
       "  <tbody>\n",
       "    <tr>\n",
       "      <th>0</th>\n",
       "      <td>1</td>\n",
       "      <td>1</td>\n",
       "      <td>Allen, Miss. Elisabeth Walton</td>\n",
       "      <td>female</td>\n",
       "      <td>29.0</td>\n",
       "      <td>0</td>\n",
       "      <td>0</td>\n",
       "      <td>24160</td>\n",
       "      <td>211.3375</td>\n",
       "      <td>B5</td>\n",
       "      <td>S</td>\n",
       "      <td>2</td>\n",
       "      <td>NaN</td>\n",
       "      <td>St Louis, MO</td>\n",
       "      <td>Miss</td>\n",
       "    </tr>\n",
       "  </tbody>\n",
       "</table>\n",
       "</div>"
      ],
      "text/plain": [
       "   pclass  survived                           name     sex   age  sibsp  \\\n",
       "0       1         1  Allen, Miss. Elisabeth Walton  female  29.0      0   \n",
       "\n",
       "   parch ticket      fare cabin embarked boat  body     home.dest apell  \n",
       "0      0  24160  211.3375    B5        S    2   NaN  St Louis, MO  Miss  "
      ]
     },
     "execution_count": 11,
     "metadata": {},
     "output_type": "execute_result"
    }
   ],
   "source": [
    "# create a function of our apellation discovery process so we can call it \n",
    "def find_appel(i):\n",
    "    t = i.split(',')\n",
    "    u = t[1].strip()\n",
    "    v = u.split('.')\n",
    "    w = v[0]\n",
    "    return w\n",
    "\n",
    "# add an apellation column to our dataframe\n",
    "df['apell'] = df['name'].apply(find_appel)\n",
    "df.head(1)"
   ]
  },
  {
   "cell_type": "code",
   "execution_count": 12,
   "metadata": {
    "collapsed": false
   },
   "outputs": [
    {
     "data": {
      "text/html": [
       "<div>\n",
       "<table border=\"1\" class=\"dataframe\">\n",
       "  <thead>\n",
       "    <tr style=\"text-align: right;\">\n",
       "      <th></th>\n",
       "      <th>name</th>\n",
       "      <th>age</th>\n",
       "      <th>mean_age</th>\n",
       "    </tr>\n",
       "    <tr>\n",
       "      <th>apell</th>\n",
       "      <th></th>\n",
       "      <th></th>\n",
       "      <th></th>\n",
       "    </tr>\n",
       "  </thead>\n",
       "  <tbody>\n",
       "    <tr>\n",
       "      <th>Capt</th>\n",
       "      <td>1</td>\n",
       "      <td>1</td>\n",
       "      <td>70.000000</td>\n",
       "    </tr>\n",
       "    <tr>\n",
       "      <th>Col</th>\n",
       "      <td>4</td>\n",
       "      <td>4</td>\n",
       "      <td>54.000000</td>\n",
       "    </tr>\n",
       "    <tr>\n",
       "      <th>Don</th>\n",
       "      <td>1</td>\n",
       "      <td>1</td>\n",
       "      <td>40.000000</td>\n",
       "    </tr>\n",
       "    <tr>\n",
       "      <th>Dona</th>\n",
       "      <td>1</td>\n",
       "      <td>1</td>\n",
       "      <td>39.000000</td>\n",
       "    </tr>\n",
       "    <tr>\n",
       "      <th>Dr</th>\n",
       "      <td>8</td>\n",
       "      <td>7</td>\n",
       "      <td>43.571429</td>\n",
       "    </tr>\n",
       "    <tr>\n",
       "      <th>Jonkheer</th>\n",
       "      <td>1</td>\n",
       "      <td>1</td>\n",
       "      <td>38.000000</td>\n",
       "    </tr>\n",
       "    <tr>\n",
       "      <th>Lady</th>\n",
       "      <td>1</td>\n",
       "      <td>1</td>\n",
       "      <td>48.000000</td>\n",
       "    </tr>\n",
       "    <tr>\n",
       "      <th>Major</th>\n",
       "      <td>2</td>\n",
       "      <td>2</td>\n",
       "      <td>48.500000</td>\n",
       "    </tr>\n",
       "    <tr>\n",
       "      <th>Master</th>\n",
       "      <td>61</td>\n",
       "      <td>53</td>\n",
       "      <td>5.482642</td>\n",
       "    </tr>\n",
       "    <tr>\n",
       "      <th>Miss</th>\n",
       "      <td>260</td>\n",
       "      <td>210</td>\n",
       "      <td>21.774238</td>\n",
       "    </tr>\n",
       "    <tr>\n",
       "      <th>Mlle</th>\n",
       "      <td>2</td>\n",
       "      <td>2</td>\n",
       "      <td>24.000000</td>\n",
       "    </tr>\n",
       "    <tr>\n",
       "      <th>Mme</th>\n",
       "      <td>1</td>\n",
       "      <td>1</td>\n",
       "      <td>24.000000</td>\n",
       "    </tr>\n",
       "    <tr>\n",
       "      <th>Mr</th>\n",
       "      <td>757</td>\n",
       "      <td>581</td>\n",
       "      <td>32.252151</td>\n",
       "    </tr>\n",
       "    <tr>\n",
       "      <th>Mrs</th>\n",
       "      <td>197</td>\n",
       "      <td>170</td>\n",
       "      <td>36.994118</td>\n",
       "    </tr>\n",
       "    <tr>\n",
       "      <th>Ms</th>\n",
       "      <td>2</td>\n",
       "      <td>1</td>\n",
       "      <td>28.000000</td>\n",
       "    </tr>\n",
       "  </tbody>\n",
       "</table>\n",
       "</div>"
      ],
      "text/plain": [
       "          name  age   mean_age\n",
       "apell                         \n",
       "Capt         1    1  70.000000\n",
       "Col          4    4  54.000000\n",
       "Don          1    1  40.000000\n",
       "Dona         1    1  39.000000\n",
       "Dr           8    7  43.571429\n",
       "Jonkheer     1    1  38.000000\n",
       "Lady         1    1  48.000000\n",
       "Major        2    2  48.500000\n",
       "Master      61   53   5.482642\n",
       "Miss       260  210  21.774238\n",
       "Mlle         2    2  24.000000\n",
       "Mme          1    1  24.000000\n",
       "Mr         757  581  32.252151\n",
       "Mrs        197  170  36.994118\n",
       "Ms           2    1  28.000000"
      ]
     },
     "execution_count": 12,
     "metadata": {},
     "output_type": "execute_result"
    }
   ],
   "source": [
    "# create dataframe grouped by apellation with asssociated counts for name \n",
    "# and age and add a mean age column\n",
    "df_apell = df.groupby(\"apell\")['name', 'age'].count()   \n",
    "df_apell['mean_age'] = df.groupby(\"apell\")['age'].mean() # adds the mean_age column\n",
    "df_apell.head(15)"
   ]
  },
  {
   "cell_type": "markdown",
   "metadata": {},
   "source": [
    "#### Observations:\n",
    "- So now we see we have a mean age for each category of apellation. Of course, we should probably be more accurate and further condense these (e.g., combine \"Don\" with \"Mr\", perhaps \"Ms\" with \"Miss,\" \"Mme,\" and \"Mlle\").\n",
    "- We can also see how many of each category of appellation we are missing ages for. "
   ]
  },
  {
   "cell_type": "code",
   "execution_count": 13,
   "metadata": {
    "collapsed": false
   },
   "outputs": [
    {
     "data": {
      "text/plain": [
       "0"
      ]
     },
     "execution_count": 13,
     "metadata": {},
     "output_type": "execute_result"
    }
   ],
   "source": [
    "# use our calculation from above (with a slight modification in syntax for the fillna function),\n",
    "# to fill in the NaN values in the age column\n",
    "df['age'] = df['age'].fillna(df.groupby(\"apell\")['age'].transform(\"mean\"))\n",
    "df.age.isnull().sum()  # check that we've filled in all NaN values"
   ]
  },
  {
   "cell_type": "markdown",
   "metadata": {},
   "source": [
    "## Part 4: Group Statistics"
   ]
  },
  {
   "cell_type": "markdown",
   "metadata": {
    "collapsed": true
   },
   "source": [
    "#### Are there any groups that were especially adversely affected in the Titanic wreck? (justify your response numerically)"
   ]
  },
  {
   "cell_type": "code",
   "execution_count": 14,
   "metadata": {
    "collapsed": false,
    "scrolled": false
   },
   "outputs": [
    {
     "data": {
      "text/html": [
       "<div>\n",
       "<table border=\"1\" class=\"dataframe\">\n",
       "  <thead>\n",
       "    <tr style=\"text-align: right;\">\n",
       "      <th>survived</th>\n",
       "      <th>0</th>\n",
       "      <th>1</th>\n",
       "      <th>survival_rate</th>\n",
       "    </tr>\n",
       "    <tr>\n",
       "      <th>sex</th>\n",
       "      <th></th>\n",
       "      <th></th>\n",
       "      <th></th>\n",
       "    </tr>\n",
       "  </thead>\n",
       "  <tbody>\n",
       "    <tr>\n",
       "      <th>female</th>\n",
       "      <td>127.0</td>\n",
       "      <td>339.0</td>\n",
       "      <td>0.727468</td>\n",
       "    </tr>\n",
       "    <tr>\n",
       "      <th>male</th>\n",
       "      <td>682.0</td>\n",
       "      <td>161.0</td>\n",
       "      <td>0.190985</td>\n",
       "    </tr>\n",
       "  </tbody>\n",
       "</table>\n",
       "</div>"
      ],
      "text/plain": [
       "survived      0      1  survival_rate\n",
       "sex                                  \n",
       "female    127.0  339.0       0.727468\n",
       "male      682.0  161.0       0.190985"
      ]
     },
     "execution_count": 14,
     "metadata": {},
     "output_type": "execute_result"
    }
   ],
   "source": [
    "df_sr = df.pivot_table('body', index=['sex'], columns = ['survived'], aggfunc=len)\n",
    "df_sr['survival_rate'] = df_sr[1] / (df_sr[0] + df_sr[1])\n",
    "df_sr.sort_values(by='survival_rate', ascending=False)\n",
    "df_sr"
   ]
  },
  {
   "cell_type": "markdown",
   "metadata": {},
   "source": [
    "Overall, it appears males fared far worse than females."
   ]
  },
  {
   "cell_type": "code",
   "execution_count": 15,
   "metadata": {
    "collapsed": false
   },
   "outputs": [
    {
     "data": {
      "text/html": [
       "<div>\n",
       "<table border=\"1\" class=\"dataframe\">\n",
       "  <thead>\n",
       "    <tr style=\"text-align: right;\">\n",
       "      <th>survived</th>\n",
       "      <th>0</th>\n",
       "      <th>1</th>\n",
       "      <th>survival_rate</th>\n",
       "    </tr>\n",
       "    <tr>\n",
       "      <th>pclass</th>\n",
       "      <th></th>\n",
       "      <th></th>\n",
       "      <th></th>\n",
       "    </tr>\n",
       "  </thead>\n",
       "  <tbody>\n",
       "    <tr>\n",
       "      <th>1</th>\n",
       "      <td>123.0</td>\n",
       "      <td>200.0</td>\n",
       "      <td>0.619195</td>\n",
       "    </tr>\n",
       "    <tr>\n",
       "      <th>2</th>\n",
       "      <td>158.0</td>\n",
       "      <td>119.0</td>\n",
       "      <td>0.429603</td>\n",
       "    </tr>\n",
       "    <tr>\n",
       "      <th>3</th>\n",
       "      <td>528.0</td>\n",
       "      <td>181.0</td>\n",
       "      <td>0.255289</td>\n",
       "    </tr>\n",
       "  </tbody>\n",
       "</table>\n",
       "</div>"
      ],
      "text/plain": [
       "survived      0      1  survival_rate\n",
       "pclass                               \n",
       "1         123.0  200.0       0.619195\n",
       "2         158.0  119.0       0.429603\n",
       "3         528.0  181.0       0.255289"
      ]
     },
     "execution_count": 15,
     "metadata": {},
     "output_type": "execute_result"
    }
   ],
   "source": [
    "df_sr2 = df.pivot_table('body', index=['pclass'], columns = ['survived'], aggfunc=len)\n",
    "df_sr2['survival_rate'] = df_sr2[1] / (df_sr2[0] + df_sr2[1])\n",
    "df_sr2.sort_values(by='survival_rate', ascending=False)"
   ]
  },
  {
   "cell_type": "markdown",
   "metadata": {},
   "source": [
    "And overall, it seems the 3rd class passengers failed to survive at a much higher rate than the other two."
   ]
  },
  {
   "cell_type": "code",
   "execution_count": 16,
   "metadata": {
    "collapsed": false,
    "scrolled": true
   },
   "outputs": [
    {
     "data": {
      "text/html": [
       "<div>\n",
       "<table border=\"1\" class=\"dataframe\">\n",
       "  <thead>\n",
       "    <tr style=\"text-align: right;\">\n",
       "      <th></th>\n",
       "      <th>survived</th>\n",
       "      <th>0</th>\n",
       "      <th>1</th>\n",
       "      <th>survival_rate</th>\n",
       "    </tr>\n",
       "    <tr>\n",
       "      <th>sex</th>\n",
       "      <th>pclass</th>\n",
       "      <th></th>\n",
       "      <th></th>\n",
       "      <th></th>\n",
       "    </tr>\n",
       "  </thead>\n",
       "  <tbody>\n",
       "    <tr>\n",
       "      <th rowspan=\"3\" valign=\"top\">female</th>\n",
       "      <th>1</th>\n",
       "      <td>5.0</td>\n",
       "      <td>139.0</td>\n",
       "      <td>0.965278</td>\n",
       "    </tr>\n",
       "    <tr>\n",
       "      <th>2</th>\n",
       "      <td>12.0</td>\n",
       "      <td>94.0</td>\n",
       "      <td>0.886792</td>\n",
       "    </tr>\n",
       "    <tr>\n",
       "      <th>3</th>\n",
       "      <td>110.0</td>\n",
       "      <td>106.0</td>\n",
       "      <td>0.490741</td>\n",
       "    </tr>\n",
       "    <tr>\n",
       "      <th rowspan=\"3\" valign=\"top\">male</th>\n",
       "      <th>1</th>\n",
       "      <td>118.0</td>\n",
       "      <td>61.0</td>\n",
       "      <td>0.340782</td>\n",
       "    </tr>\n",
       "    <tr>\n",
       "      <th>3</th>\n",
       "      <td>418.0</td>\n",
       "      <td>75.0</td>\n",
       "      <td>0.152130</td>\n",
       "    </tr>\n",
       "    <tr>\n",
       "      <th>2</th>\n",
       "      <td>146.0</td>\n",
       "      <td>25.0</td>\n",
       "      <td>0.146199</td>\n",
       "    </tr>\n",
       "  </tbody>\n",
       "</table>\n",
       "</div>"
      ],
      "text/plain": [
       "survived           0      1  survival_rate\n",
       "sex    pclass                             \n",
       "female 1         5.0  139.0       0.965278\n",
       "       2        12.0   94.0       0.886792\n",
       "       3       110.0  106.0       0.490741\n",
       "male   1       118.0   61.0       0.340782\n",
       "       3       418.0   75.0       0.152130\n",
       "       2       146.0   25.0       0.146199"
      ]
     },
     "execution_count": 16,
     "metadata": {},
     "output_type": "execute_result"
    }
   ],
   "source": [
    "df_sr3 = df.pivot_table('body', index=['sex', 'pclass'], columns = ['survived'], aggfunc=len)\n",
    "df_sr3['survival_rate'] = df_sr3[1] / (df_sr3[0] + df_sr3[1])\n",
    "df_sr3.sort_values(by='survival_rate', ascending=False)"
   ]
  },
  {
   "cell_type": "markdown",
   "metadata": {},
   "source": [
    "However, once we divide further, we see that the terrible survival rate for 3rd class was mostly driven by the male value. 3rd class females still managed to survive 49% of the time, versus 15% for their male counterparts.\n",
    "\n",
    "Interestingly, 2nd class males have a slightly worse survival rate than even 3rd class males."
   ]
  },
  {
   "cell_type": "code",
   "execution_count": 17,
   "metadata": {
    "collapsed": true
   },
   "outputs": [],
   "source": [
    "# create a classification table for age, divided at age 20\n",
    "df['age_group'] = np.where(df['age']<18, 'under_18', '18_and_over') "
   ]
  },
  {
   "cell_type": "code",
   "execution_count": 18,
   "metadata": {
    "collapsed": false,
    "scrolled": true
   },
   "outputs": [
    {
     "data": {
      "text/html": [
       "<div>\n",
       "<table border=\"1\" class=\"dataframe\">\n",
       "  <thead>\n",
       "    <tr style=\"text-align: right;\">\n",
       "      <th></th>\n",
       "      <th>survived</th>\n",
       "      <th>0</th>\n",
       "      <th>1</th>\n",
       "      <th>survival_rate</th>\n",
       "    </tr>\n",
       "    <tr>\n",
       "      <th>pclass</th>\n",
       "      <th>age_group</th>\n",
       "      <th></th>\n",
       "      <th></th>\n",
       "      <th></th>\n",
       "    </tr>\n",
       "  </thead>\n",
       "  <tbody>\n",
       "    <tr>\n",
       "      <th rowspan=\"2\" valign=\"top\">1</th>\n",
       "      <th>18_and_over</th>\n",
       "      <td>121.0</td>\n",
       "      <td>187.0</td>\n",
       "      <td>0.607143</td>\n",
       "    </tr>\n",
       "    <tr>\n",
       "      <th>under_18</th>\n",
       "      <td>2.0</td>\n",
       "      <td>13.0</td>\n",
       "      <td>0.866667</td>\n",
       "    </tr>\n",
       "    <tr>\n",
       "      <th rowspan=\"2\" valign=\"top\">2</th>\n",
       "      <th>18_and_over</th>\n",
       "      <td>154.0</td>\n",
       "      <td>90.0</td>\n",
       "      <td>0.368852</td>\n",
       "    </tr>\n",
       "    <tr>\n",
       "      <th>under_18</th>\n",
       "      <td>4.0</td>\n",
       "      <td>29.0</td>\n",
       "      <td>0.878788</td>\n",
       "    </tr>\n",
       "    <tr>\n",
       "      <th rowspan=\"2\" valign=\"top\">3</th>\n",
       "      <th>18_and_over</th>\n",
       "      <td>456.0</td>\n",
       "      <td>139.0</td>\n",
       "      <td>0.233613</td>\n",
       "    </tr>\n",
       "    <tr>\n",
       "      <th>under_18</th>\n",
       "      <td>72.0</td>\n",
       "      <td>42.0</td>\n",
       "      <td>0.368421</td>\n",
       "    </tr>\n",
       "  </tbody>\n",
       "</table>\n",
       "</div>"
      ],
      "text/plain": [
       "survived                0      1  survival_rate\n",
       "pclass age_group                               \n",
       "1      18_and_over  121.0  187.0       0.607143\n",
       "       under_18       2.0   13.0       0.866667\n",
       "2      18_and_over  154.0   90.0       0.368852\n",
       "       under_18       4.0   29.0       0.878788\n",
       "3      18_and_over  456.0  139.0       0.233613\n",
       "       under_18      72.0   42.0       0.368421"
      ]
     },
     "execution_count": 18,
     "metadata": {},
     "output_type": "execute_result"
    }
   ],
   "source": [
    "df_sr4 = df.pivot_table('body', index=['pclass', 'age_group'], columns = ['survived'], aggfunc=len)\n",
    "df_sr4['survival_rate'] = df_sr4[1] / (df_sr4[0] + df_sr4[1])\n",
    "df_sr4"
   ]
  },
  {
   "cell_type": "markdown",
   "metadata": {},
   "source": [
    "Regardless of class, you fared better as a child (defined as under 18), versus as an adult."
   ]
  },
  {
   "cell_type": "markdown",
   "metadata": {},
   "source": [
    "#### Are there any groups that outperformed the survival of the latter group? (justify your response numerically)\n"
   ]
  },
  {
   "cell_type": "markdown",
   "metadata": {
    "collapsed": false
   },
   "source": [
    "#### Survival rates summary\n",
    "- Males were far more likely to not survive than females\n",
    "- The only female group that had higher mortality than survival were the 3rd class female passengers\n",
    "- 3rd class passengers were more likely to perish than 1st or 2nd class\n",
    "- Worst survival rate was for male 2nd class passengers\n",
    "- Best survival rate was for female 1st class passengers"
   ]
  },
  {
   "cell_type": "markdown",
   "metadata": {
    "collapsed": true
   },
   "source": [
    "## Part 5:  Comparative Statistics:  Lusitania"
   ]
  },
  {
   "cell_type": "code",
   "execution_count": 19,
   "metadata": {
    "collapsed": false
   },
   "outputs": [
    {
     "data": {
      "text/html": [
       "<div>\n",
       "<table border=\"1\" class=\"dataframe\">\n",
       "  <thead>\n",
       "    <tr style=\"text-align: right;\">\n",
       "      <th></th>\n",
       "      <th>Family name</th>\n",
       "      <th>Title</th>\n",
       "      <th>Personal name</th>\n",
       "      <th>Fate</th>\n",
       "      <th>Age</th>\n",
       "      <th>Department/Class</th>\n",
       "      <th>Passenger/Crew</th>\n",
       "      <th>Citizenship</th>\n",
       "      <th>Position</th>\n",
       "      <th>Status</th>\n",
       "      <th>...</th>\n",
       "      <th>Country</th>\n",
       "      <th>Lifeboat</th>\n",
       "      <th>Rescue Vessel</th>\n",
       "      <th>Body No.</th>\n",
       "      <th>Ticket No.</th>\n",
       "      <th>Cabin No.</th>\n",
       "      <th>Traveling Companions and other notes</th>\n",
       "      <th>Value</th>\n",
       "      <th>Adult/Minor</th>\n",
       "      <th>Sex</th>\n",
       "    </tr>\n",
       "  </thead>\n",
       "  <tbody>\n",
       "    <tr>\n",
       "      <th>0</th>\n",
       "      <td>CAMERON</td>\n",
       "      <td>Mr.</td>\n",
       "      <td>Charles W.</td>\n",
       "      <td>Lost</td>\n",
       "      <td>38</td>\n",
       "      <td>Band</td>\n",
       "      <td>Crew</td>\n",
       "      <td>British</td>\n",
       "      <td>NaN</td>\n",
       "      <td>NaN</td>\n",
       "      <td>...</td>\n",
       "      <td>NaN</td>\n",
       "      <td>NaN</td>\n",
       "      <td>NaN</td>\n",
       "      <td>NaN</td>\n",
       "      <td>NaN</td>\n",
       "      <td>NaN</td>\n",
       "      <td>NaN</td>\n",
       "      <td>1</td>\n",
       "      <td>Adult</td>\n",
       "      <td>Male</td>\n",
       "    </tr>\n",
       "    <tr>\n",
       "      <th>1</th>\n",
       "      <td>CARR-JONES</td>\n",
       "      <td>Mr.</td>\n",
       "      <td>E.</td>\n",
       "      <td>Lost</td>\n",
       "      <td>37</td>\n",
       "      <td>Band</td>\n",
       "      <td>Crew</td>\n",
       "      <td>British</td>\n",
       "      <td>NaN</td>\n",
       "      <td>NaN</td>\n",
       "      <td>...</td>\n",
       "      <td>NaN</td>\n",
       "      <td>NaN</td>\n",
       "      <td>NaN</td>\n",
       "      <td>NaN</td>\n",
       "      <td>NaN</td>\n",
       "      <td>NaN</td>\n",
       "      <td>NaN</td>\n",
       "      <td>1</td>\n",
       "      <td>Adult</td>\n",
       "      <td>Male</td>\n",
       "    </tr>\n",
       "    <tr>\n",
       "      <th>2</th>\n",
       "      <td>DRAKEFORD</td>\n",
       "      <td>Mr.</td>\n",
       "      <td>Edward</td>\n",
       "      <td>Saved</td>\n",
       "      <td>30</td>\n",
       "      <td>Band</td>\n",
       "      <td>Crew</td>\n",
       "      <td>British</td>\n",
       "      <td>Violin</td>\n",
       "      <td>NaN</td>\n",
       "      <td>...</td>\n",
       "      <td>NaN</td>\n",
       "      <td>NaN</td>\n",
       "      <td>NaN</td>\n",
       "      <td>NaN</td>\n",
       "      <td>NaN</td>\n",
       "      <td>NaN</td>\n",
       "      <td>NaN</td>\n",
       "      <td>1</td>\n",
       "      <td>Adult</td>\n",
       "      <td>Male</td>\n",
       "    </tr>\n",
       "    <tr>\n",
       "      <th>3</th>\n",
       "      <td>HAWKINS</td>\n",
       "      <td>Mr.</td>\n",
       "      <td>Handel</td>\n",
       "      <td>Saved</td>\n",
       "      <td>25</td>\n",
       "      <td>Band</td>\n",
       "      <td>Crew</td>\n",
       "      <td>British</td>\n",
       "      <td>Cello</td>\n",
       "      <td>NaN</td>\n",
       "      <td>...</td>\n",
       "      <td>NaN</td>\n",
       "      <td>NaN</td>\n",
       "      <td>NaN</td>\n",
       "      <td>NaN</td>\n",
       "      <td>NaN</td>\n",
       "      <td>NaN</td>\n",
       "      <td>NaN</td>\n",
       "      <td>1</td>\n",
       "      <td>Adult</td>\n",
       "      <td>Male</td>\n",
       "    </tr>\n",
       "    <tr>\n",
       "      <th>4</th>\n",
       "      <td>HEMINGWAY</td>\n",
       "      <td>Mr.</td>\n",
       "      <td>John William</td>\n",
       "      <td>Saved</td>\n",
       "      <td>27</td>\n",
       "      <td>Band</td>\n",
       "      <td>Crew</td>\n",
       "      <td>British</td>\n",
       "      <td>Double Bass</td>\n",
       "      <td>NaN</td>\n",
       "      <td>...</td>\n",
       "      <td>NaN</td>\n",
       "      <td>NaN</td>\n",
       "      <td>NaN</td>\n",
       "      <td>NaN</td>\n",
       "      <td>NaN</td>\n",
       "      <td>NaN</td>\n",
       "      <td>NaN</td>\n",
       "      <td>1</td>\n",
       "      <td>Adult</td>\n",
       "      <td>Male</td>\n",
       "    </tr>\n",
       "  </tbody>\n",
       "</table>\n",
       "<p>5 rows × 23 columns</p>\n",
       "</div>"
      ],
      "text/plain": [
       "  Family name Title Personal name   Fate Age Department/Class Passenger/Crew  \\\n",
       "0     CAMERON   Mr.    Charles W.   Lost  38             Band           Crew   \n",
       "1  CARR-JONES   Mr.            E.   Lost  37             Band           Crew   \n",
       "2   DRAKEFORD   Mr.        Edward  Saved  30             Band           Crew   \n",
       "3     HAWKINS   Mr.        Handel  Saved  25             Band           Crew   \n",
       "4   HEMINGWAY   Mr.  John William  Saved  27             Band           Crew   \n",
       "\n",
       "  Citizenship     Position Status  ...  Country Lifeboat Rescue Vessel  \\\n",
       "0     British          NaN    NaN  ...      NaN      NaN           NaN   \n",
       "1     British          NaN    NaN  ...      NaN      NaN           NaN   \n",
       "2     British       Violin    NaN  ...      NaN      NaN           NaN   \n",
       "3     British        Cello    NaN  ...      NaN      NaN           NaN   \n",
       "4     British  Double Bass    NaN  ...      NaN      NaN           NaN   \n",
       "\n",
       "  Body No. Ticket No. Cabin No. Traveling Companions and other notes Value  \\\n",
       "0      NaN        NaN       NaN                                  NaN     1   \n",
       "1      NaN        NaN       NaN                                  NaN     1   \n",
       "2      NaN        NaN       NaN                                  NaN     1   \n",
       "3      NaN        NaN       NaN                                  NaN     1   \n",
       "4      NaN        NaN       NaN                                  NaN     1   \n",
       "\n",
       "  Adult/Minor   Sex  \n",
       "0       Adult  Male  \n",
       "1       Adult  Male  \n",
       "2       Adult  Male  \n",
       "3       Adult  Male  \n",
       "4       Adult  Male  \n",
       "\n",
       "[5 rows x 23 columns]"
      ]
     },
     "execution_count": 19,
     "metadata": {},
     "output_type": "execute_result"
    }
   ],
   "source": [
    "l = pd.read_csv('assets/lusitania.csv')\n",
    "l.head()"
   ]
  },
  {
   "cell_type": "markdown",
   "metadata": {},
   "source": [
    "#### Are there any groups that were especially adversely affected in the Lusitania wreck? (justify your response numerically)"
   ]
  },
  {
   "cell_type": "code",
   "execution_count": 21,
   "metadata": {
    "collapsed": false
   },
   "outputs": [
    {
     "data": {
      "text/html": [
       "<div>\n",
       "<table border=\"1\" class=\"dataframe\">\n",
       "  <thead>\n",
       "    <tr style=\"text-align: right;\">\n",
       "      <th></th>\n",
       "      <th>Family name</th>\n",
       "      <th>Title</th>\n",
       "      <th>Personal name</th>\n",
       "      <th>Fate</th>\n",
       "      <th>Age</th>\n",
       "      <th>Department/Class</th>\n",
       "      <th>Passenger/Crew</th>\n",
       "      <th>Citizenship</th>\n",
       "      <th>Position</th>\n",
       "      <th>Status</th>\n",
       "      <th>...</th>\n",
       "      <th>Country</th>\n",
       "      <th>Lifeboat</th>\n",
       "      <th>Rescue Vessel</th>\n",
       "      <th>Body No.</th>\n",
       "      <th>Ticket No.</th>\n",
       "      <th>Cabin No.</th>\n",
       "      <th>Traveling Companions and other notes</th>\n",
       "      <th>Value</th>\n",
       "      <th>Adult/Minor</th>\n",
       "      <th>Sex</th>\n",
       "    </tr>\n",
       "  </thead>\n",
       "  <tbody>\n",
       "    <tr>\n",
       "      <th>387</th>\n",
       "      <td>ADAMS</td>\n",
       "      <td>Mr.</td>\n",
       "      <td>William McMillan</td>\n",
       "      <td>Saved</td>\n",
       "      <td>19</td>\n",
       "      <td>Saloon</td>\n",
       "      <td>Passenger</td>\n",
       "      <td>USA</td>\n",
       "      <td>NaN</td>\n",
       "      <td>Single</td>\n",
       "      <td>...</td>\n",
       "      <td>England</td>\n",
       "      <td>17</td>\n",
       "      <td>NaN</td>\n",
       "      <td>NaN</td>\n",
       "      <td>46102</td>\n",
       "      <td>D 45</td>\n",
       "      <td>Arthur Adams (father)</td>\n",
       "      <td>1</td>\n",
       "      <td>Adult</td>\n",
       "      <td>Male</td>\n",
       "    </tr>\n",
       "    <tr>\n",
       "      <th>388</th>\n",
       "      <td>ADAMS</td>\n",
       "      <td>Mr.</td>\n",
       "      <td>Arthur Henry</td>\n",
       "      <td>Lost</td>\n",
       "      <td>46</td>\n",
       "      <td>Saloon</td>\n",
       "      <td>Passenger</td>\n",
       "      <td>USA</td>\n",
       "      <td>NaN</td>\n",
       "      <td>Married</td>\n",
       "      <td>...</td>\n",
       "      <td>England</td>\n",
       "      <td>17</td>\n",
       "      <td>NaN</td>\n",
       "      <td>NaN</td>\n",
       "      <td>46102</td>\n",
       "      <td>D 37</td>\n",
       "      <td>William Adams (son)</td>\n",
       "      <td>1</td>\n",
       "      <td>Adult</td>\n",
       "      <td>Male</td>\n",
       "    </tr>\n",
       "  </tbody>\n",
       "</table>\n",
       "<p>2 rows × 23 columns</p>\n",
       "</div>"
      ],
      "text/plain": [
       "    Family name Title     Personal name   Fate Age Department/Class  \\\n",
       "387       ADAMS   Mr.  William McMillan  Saved  19           Saloon   \n",
       "388       ADAMS   Mr.      Arthur Henry   Lost  46           Saloon   \n",
       "\n",
       "    Passenger/Crew Citizenship Position   Status  ...   Country Lifeboat  \\\n",
       "387      Passenger         USA      NaN   Single  ...   England       17   \n",
       "388      Passenger         USA      NaN  Married  ...   England       17   \n",
       "\n",
       "    Rescue Vessel Body No. Ticket No. Cabin No.  \\\n",
       "387           NaN      NaN      46102      D 45   \n",
       "388           NaN      NaN      46102      D 37   \n",
       "\n",
       "    Traveling Companions and other notes Value Adult/Minor   Sex  \n",
       "387                Arthur Adams (father)     1       Adult  Male  \n",
       "388                  William Adams (son)     1       Adult  Male  \n",
       "\n",
       "[2 rows x 23 columns]"
      ]
     },
     "execution_count": 21,
     "metadata": {},
     "output_type": "execute_result"
    }
   ],
   "source": [
    "# create dataframe of just 1st/2nd/3rd class passengers\n",
    "lc = l[(l['Department/Class'] == 'Saloon') | (l['Department/Class'] == 'Third') | (l['Department/Class'] == 'Second')]\n",
    "lc.head(2)"
   ]
  },
  {
   "cell_type": "code",
   "execution_count": 22,
   "metadata": {
    "collapsed": false
   },
   "outputs": [
    {
     "data": {
      "text/html": [
       "<div>\n",
       "<table border=\"1\" class=\"dataframe\">\n",
       "  <thead>\n",
       "    <tr style=\"text-align: right;\">\n",
       "      <th></th>\n",
       "      <th>Family name</th>\n",
       "      <th>Title</th>\n",
       "      <th>Personal name</th>\n",
       "      <th>Fate</th>\n",
       "      <th>Age</th>\n",
       "      <th>Department/Class</th>\n",
       "      <th>Passenger/Crew</th>\n",
       "      <th>Citizenship</th>\n",
       "      <th>Position</th>\n",
       "      <th>Status</th>\n",
       "      <th>...</th>\n",
       "      <th>Country</th>\n",
       "      <th>Lifeboat</th>\n",
       "      <th>Rescue Vessel</th>\n",
       "      <th>Body No.</th>\n",
       "      <th>Ticket No.</th>\n",
       "      <th>Cabin No.</th>\n",
       "      <th>Traveling Companions and other notes</th>\n",
       "      <th>Value</th>\n",
       "      <th>Adult/Minor</th>\n",
       "      <th>Sex</th>\n",
       "    </tr>\n",
       "  </thead>\n",
       "  <tbody>\n",
       "    <tr>\n",
       "      <th>387</th>\n",
       "      <td>ADAMS</td>\n",
       "      <td>Mr.</td>\n",
       "      <td>William McMillan</td>\n",
       "      <td>Saved</td>\n",
       "      <td>19</td>\n",
       "      <td>Saloon</td>\n",
       "      <td>Passenger</td>\n",
       "      <td>USA</td>\n",
       "      <td>NaN</td>\n",
       "      <td>Single</td>\n",
       "      <td>...</td>\n",
       "      <td>England</td>\n",
       "      <td>17</td>\n",
       "      <td>NaN</td>\n",
       "      <td>NaN</td>\n",
       "      <td>46102</td>\n",
       "      <td>D 45</td>\n",
       "      <td>Arthur Adams (father)</td>\n",
       "      <td>1</td>\n",
       "      <td>Adult</td>\n",
       "      <td>Male</td>\n",
       "    </tr>\n",
       "    <tr>\n",
       "      <th>388</th>\n",
       "      <td>ADAMS</td>\n",
       "      <td>Mr.</td>\n",
       "      <td>Arthur Henry</td>\n",
       "      <td>Lost</td>\n",
       "      <td>46</td>\n",
       "      <td>Saloon</td>\n",
       "      <td>Passenger</td>\n",
       "      <td>USA</td>\n",
       "      <td>NaN</td>\n",
       "      <td>Married</td>\n",
       "      <td>...</td>\n",
       "      <td>England</td>\n",
       "      <td>17</td>\n",
       "      <td>NaN</td>\n",
       "      <td>NaN</td>\n",
       "      <td>46102</td>\n",
       "      <td>D 37</td>\n",
       "      <td>William Adams (son)</td>\n",
       "      <td>1</td>\n",
       "      <td>Adult</td>\n",
       "      <td>Male</td>\n",
       "    </tr>\n",
       "  </tbody>\n",
       "</table>\n",
       "<p>2 rows × 23 columns</p>\n",
       "</div>"
      ],
      "text/plain": [
       "    Family name Title     Personal name   Fate Age Department/Class  \\\n",
       "387       ADAMS   Mr.  William McMillan  Saved  19           Saloon   \n",
       "388       ADAMS   Mr.      Arthur Henry   Lost  46           Saloon   \n",
       "\n",
       "    Passenger/Crew Citizenship Position   Status  ...   Country Lifeboat  \\\n",
       "387      Passenger         USA      NaN   Single  ...   England       17   \n",
       "388      Passenger         USA      NaN  Married  ...   England       17   \n",
       "\n",
       "    Rescue Vessel Body No. Ticket No. Cabin No.  \\\n",
       "387           NaN      NaN      46102      D 45   \n",
       "388           NaN      NaN      46102      D 37   \n",
       "\n",
       "    Traveling Companions and other notes Value Adult/Minor   Sex  \n",
       "387                Arthur Adams (father)     1       Adult  Male  \n",
       "388                  William Adams (son)     1       Adult  Male  \n",
       "\n",
       "[2 rows x 23 columns]"
      ]
     },
     "execution_count": 22,
     "metadata": {},
     "output_type": "execute_result"
    }
   ],
   "source": [
    "# from just the passengers, keep only 'Saved' or 'Lost'\n",
    "lf = lc[(lc['Fate'] == 'Lost') | (lc['Fate'] == 'Saved')]\n",
    "lf.head(2)"
   ]
  },
  {
   "cell_type": "code",
   "execution_count": 23,
   "metadata": {
    "collapsed": false,
    "scrolled": true
   },
   "outputs": [
    {
     "data": {
      "text/html": [
       "<div>\n",
       "<table border=\"1\" class=\"dataframe\">\n",
       "  <thead>\n",
       "    <tr style=\"text-align: right;\">\n",
       "      <th></th>\n",
       "      <th>Fate</th>\n",
       "      <th>Lost</th>\n",
       "      <th>Saved</th>\n",
       "      <th>survival_rate</th>\n",
       "    </tr>\n",
       "    <tr>\n",
       "      <th>Sex</th>\n",
       "      <th>Department/Class</th>\n",
       "      <th></th>\n",
       "      <th></th>\n",
       "      <th></th>\n",
       "    </tr>\n",
       "  </thead>\n",
       "  <tbody>\n",
       "    <tr>\n",
       "      <th rowspan=\"3\" valign=\"top\">Female</th>\n",
       "      <th>Saloon</th>\n",
       "      <td>56</td>\n",
       "      <td>34</td>\n",
       "      <td>0.377778</td>\n",
       "    </tr>\n",
       "    <tr>\n",
       "      <th>Second</th>\n",
       "      <td>185</td>\n",
       "      <td>108</td>\n",
       "      <td>0.368601</td>\n",
       "    </tr>\n",
       "    <tr>\n",
       "      <th>Third</th>\n",
       "      <td>68</td>\n",
       "      <td>40</td>\n",
       "      <td>0.370370</td>\n",
       "    </tr>\n",
       "    <tr>\n",
       "      <th rowspan=\"3\" valign=\"top\">Male</th>\n",
       "      <th>Saloon</th>\n",
       "      <td>121</td>\n",
       "      <td>78</td>\n",
       "      <td>0.391960</td>\n",
       "    </tr>\n",
       "    <tr>\n",
       "      <th>Second</th>\n",
       "      <td>187</td>\n",
       "      <td>119</td>\n",
       "      <td>0.388889</td>\n",
       "    </tr>\n",
       "    <tr>\n",
       "      <th>Third</th>\n",
       "      <td>168</td>\n",
       "      <td>94</td>\n",
       "      <td>0.358779</td>\n",
       "    </tr>\n",
       "  </tbody>\n",
       "</table>\n",
       "</div>"
      ],
      "text/plain": [
       "Fate                     Lost  Saved  survival_rate\n",
       "Sex    Department/Class                            \n",
       "Female Saloon              56     34       0.377778\n",
       "       Second             185    108       0.368601\n",
       "       Third               68     40       0.370370\n",
       "Male   Saloon             121     78       0.391960\n",
       "       Second             187    119       0.388889\n",
       "       Third              168     94       0.358779"
      ]
     },
     "execution_count": 23,
     "metadata": {},
     "output_type": "execute_result"
    }
   ],
   "source": [
    "# create pivot table for fate based on sex and class\n",
    "lf2 = lf.pivot_table('State', index=['Sex', 'Department/Class'], columns=['Fate'], aggfunc=len)\n",
    "# add column for survival rate percentage\n",
    "lf2['survival_rate'] = lf2['Saved'] / (lf2['Lost'] + lf2['Saved'])\n",
    "lf2"
   ]
  },
  {
   "cell_type": "markdown",
   "metadata": {},
   "source": [
    "From this breakdown it appears that, unlike the Titanic, the survival rates for all the classes and sexes amongst the passengers were about the same. "
   ]
  },
  {
   "cell_type": "code",
   "execution_count": 24,
   "metadata": {
    "collapsed": false
   },
   "outputs": [
    {
     "data": {
      "text/html": [
       "<div>\n",
       "<table border=\"1\" class=\"dataframe\">\n",
       "  <thead>\n",
       "    <tr style=\"text-align: right;\">\n",
       "      <th></th>\n",
       "      <th>Fate</th>\n",
       "      <th>Lost</th>\n",
       "      <th>Saved</th>\n",
       "      <th>survival_rate</th>\n",
       "    </tr>\n",
       "    <tr>\n",
       "      <th>Sex</th>\n",
       "      <th>Department/Class</th>\n",
       "      <th></th>\n",
       "      <th></th>\n",
       "      <th></th>\n",
       "    </tr>\n",
       "  </thead>\n",
       "  <tbody>\n",
       "    <tr>\n",
       "      <th rowspan=\"4\" valign=\"top\">Female</th>\n",
       "      <th>Saloon</th>\n",
       "      <td>56.0</td>\n",
       "      <td>34.0</td>\n",
       "      <td>0.377778</td>\n",
       "    </tr>\n",
       "    <tr>\n",
       "      <th>Second</th>\n",
       "      <td>185.0</td>\n",
       "      <td>108.0</td>\n",
       "      <td>0.368601</td>\n",
       "    </tr>\n",
       "    <tr>\n",
       "      <th>Third</th>\n",
       "      <td>68.0</td>\n",
       "      <td>40.0</td>\n",
       "      <td>0.370370</td>\n",
       "    </tr>\n",
       "    <tr>\n",
       "      <th>Victualling</th>\n",
       "      <td>16.0</td>\n",
       "      <td>9.0</td>\n",
       "      <td>0.360000</td>\n",
       "    </tr>\n",
       "    <tr>\n",
       "      <th rowspan=\"9\" valign=\"top\">Male</th>\n",
       "      <th>Band</th>\n",
       "      <td>2.0</td>\n",
       "      <td>3.0</td>\n",
       "      <td>0.600000</td>\n",
       "    </tr>\n",
       "    <tr>\n",
       "      <th>Deck</th>\n",
       "      <td>32.0</td>\n",
       "      <td>37.0</td>\n",
       "      <td>0.536232</td>\n",
       "    </tr>\n",
       "    <tr>\n",
       "      <th>Engineering</th>\n",
       "      <td>201.0</td>\n",
       "      <td>112.0</td>\n",
       "      <td>0.357827</td>\n",
       "    </tr>\n",
       "    <tr>\n",
       "      <th>Saloon</th>\n",
       "      <td>121.0</td>\n",
       "      <td>78.0</td>\n",
       "      <td>0.391960</td>\n",
       "    </tr>\n",
       "    <tr>\n",
       "      <th>Second</th>\n",
       "      <td>187.0</td>\n",
       "      <td>119.0</td>\n",
       "      <td>0.388889</td>\n",
       "    </tr>\n",
       "    <tr>\n",
       "      <th>Stowaway</th>\n",
       "      <td>3.0</td>\n",
       "      <td>NaN</td>\n",
       "      <td>NaN</td>\n",
       "    </tr>\n",
       "    <tr>\n",
       "      <th>Third</th>\n",
       "      <td>168.0</td>\n",
       "      <td>94.0</td>\n",
       "      <td>0.358779</td>\n",
       "    </tr>\n",
       "    <tr>\n",
       "      <th>Third (Distressed British Seaman)</th>\n",
       "      <td>3.0</td>\n",
       "      <td>NaN</td>\n",
       "      <td>NaN</td>\n",
       "    </tr>\n",
       "    <tr>\n",
       "      <th>Victualling</th>\n",
       "      <td>151.0</td>\n",
       "      <td>129.0</td>\n",
       "      <td>0.460714</td>\n",
       "    </tr>\n",
       "  </tbody>\n",
       "</table>\n",
       "</div>"
      ],
      "text/plain": [
       "Fate                                       Lost  Saved  survival_rate\n",
       "Sex    Department/Class                                              \n",
       "Female Saloon                              56.0   34.0       0.377778\n",
       "       Second                             185.0  108.0       0.368601\n",
       "       Third                               68.0   40.0       0.370370\n",
       "       Victualling                         16.0    9.0       0.360000\n",
       "Male   Band                                 2.0    3.0       0.600000\n",
       "       Deck                                32.0   37.0       0.536232\n",
       "       Engineering                        201.0  112.0       0.357827\n",
       "       Saloon                             121.0   78.0       0.391960\n",
       "       Second                             187.0  119.0       0.388889\n",
       "       Stowaway                             3.0    NaN            NaN\n",
       "       Third                              168.0   94.0       0.358779\n",
       "       Third (Distressed British Seaman)    3.0    NaN            NaN\n",
       "       Victualling                        151.0  129.0       0.460714"
      ]
     },
     "execution_count": 24,
     "metadata": {},
     "output_type": "execute_result"
    }
   ],
   "source": [
    "l_all = l[(l['Fate'] == 'Lost') | (l['Fate'] == 'Saved')]\n",
    "l_all_f = l_all.pivot_table('State', index=['Sex', 'Department/Class'], columns=['Fate'], aggfunc=len)\n",
    "l_all_f['survival_rate'] = l_all_f['Saved'] / (l_all_f['Lost'] + l_all_f['Saved'])\n",
    "\n",
    "l_all_f"
   ]
  },
  {
   "cell_type": "markdown",
   "metadata": {
    "collapsed": true
   },
   "source": [
    "#### Are there any groups that outperformed the survival of the latter group? (justify your response numerically)\n",
    "\n"
   ]
  },
  {
   "cell_type": "markdown",
   "metadata": {},
   "source": [
    "It seems that the best option for survival on the Lusitania was to be part of the crew. Most especially the band (60% - although it's a very small sample), deck hands (54%), and servers \"victualling\" (46%)."
   ]
  },
  {
   "cell_type": "markdown",
   "metadata": {},
   "source": [
    "#### What does the group-wise survival rate imply about circumstances during these two accidents?"
   ]
  },
  {
   "cell_type": "markdown",
   "metadata": {},
   "source": [
    "The Lusitania was torpedoed by a German U-boat and sunk in 20 minutes, as opposed to the 2.5 hours it took for the Titanic to sink.\n",
    "\n",
    "Since the attack took place in the afternoon, perhaps this very short time interval from strike to submergence only allowed those who were close to the decks (passengers and the crew attending them), to escape.\n",
    "\n",
    "Also, the memory of the Titanic (sunk 3 years earlier), was probably still in people's minds and perhaps guided their behavior accordingly - i.e, not so much \"women and children first\" anymore."
   ]
  },
  {
   "cell_type": "code",
   "execution_count": null,
   "metadata": {
    "collapsed": true
   },
   "outputs": [],
   "source": []
  }
 ],
 "metadata": {
  "anaconda-cloud": {},
  "kernelspec": {
   "display_name": "Python [Root]",
   "language": "python",
   "name": "Python [Root]"
  },
  "language_info": {
   "codemirror_mode": {
    "name": "ipython",
    "version": 2
   },
   "file_extension": ".py",
   "mimetype": "text/x-python",
   "name": "python",
   "nbconvert_exporter": "python",
   "pygments_lexer": "ipython2",
   "version": "2.7.12"
  }
 },
 "nbformat": 4,
 "nbformat_minor": 0
}
