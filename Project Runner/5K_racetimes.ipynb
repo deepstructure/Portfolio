{
 "cells": [
  {
   "cell_type": "markdown",
   "metadata": {},
   "source": [
    "#### Synopsis\n",
    "On September 17th, 2016 I participated in a \n",
    "[5K run](http://www.runningguru.com/EventInformation.asp?eID=26299) at [Ascot Hills Park](https://nobodyhikesinla.com/2016/01/12/ascot-hills-park/), which true to its name hosts two large hills which the race traversed. \n",
    "\n",
    "According to [this tool](https://www.daftlogic.com/sandbox-google-maps-find-altitude.htm), the starting line altitude is:  \n",
    "    \n",
    "    34.07176160781663,-118.18867295980453, 492.225ft. \n",
    "    \n",
    "And the two peaks are:   \n",
    "    \n",
    "    34.07656180268046,-118.19114863872528, 712.148ft\n",
    "    41,34.07350155462652,-118.18668007850647, 715.088ft\n",
    "    \n",
    "Which puts the total altitude difference at 223ft.\n",
    "\n",
    "The race committee released a [pdf of the race results](http://www.aztlanathletics.org/082014/results/2016/AHC2016/ascothillschallenge2016_overall_5k.pdf), which I then put through an [online pdf OCR translator](http://www.onlineocr.net), to get the data out of it. This was mostly done correctly with a few anomalies I had to fix by hand. \n",
    "\n",
    "Once complete, I saved the data out as a csv for importing via Pandas."
   ]
  },
  {
   "cell_type": "code",
   "execution_count": 35,
   "metadata": {
    "collapsed": false
   },
   "outputs": [],
   "source": [
    "import pandas as pd\n",
    "import numpy as np\n",
    "import matplotlib.pyplot as plt\n",
    "import seaborn as sb\n",
    "plt.style.use('seaborn-whitegrid')\n",
    "%matplotlib inline"
   ]
  },
  {
   "cell_type": "code",
   "execution_count": 36,
   "metadata": {
    "collapsed": true
   },
   "outputs": [],
   "source": [
    "# import previously cleaned csv file\n",
    "df = pd.read_csv(\"001_ascothillschallenge2016_overall_5k_edit.csv\")"
   ]
  },
  {
   "cell_type": "code",
   "execution_count": 37,
   "metadata": {
    "collapsed": false
   },
   "outputs": [
    {
     "data": {
      "text/html": [
       "<div>\n",
       "<table border=\"1\" class=\"dataframe\">\n",
       "  <thead>\n",
       "    <tr style=\"text-align: right;\">\n",
       "      <th></th>\n",
       "      <th>Overall</th>\n",
       "      <th>Name</th>\n",
       "      <th>Bib No</th>\n",
       "      <th>Age</th>\n",
       "      <th>Gender</th>\n",
       "      <th>AG Place</th>\n",
       "      <th>Time</th>\n",
       "      <th>Pace</th>\n",
       "      <th>Time Back</th>\n",
       "    </tr>\n",
       "  </thead>\n",
       "  <tbody>\n",
       "    <tr>\n",
       "      <th>0</th>\n",
       "      <td>1</td>\n",
       "      <td>DONOVAN ZAVALA</td>\n",
       "      <td>297</td>\n",
       "      <td>17.0</td>\n",
       "      <td>M</td>\n",
       "      <td>1 Top</td>\n",
       "      <td>18:37.8</td>\n",
       "      <td>5:59/M</td>\n",
       "      <td>NaN</td>\n",
       "    </tr>\n",
       "    <tr>\n",
       "      <th>1</th>\n",
       "      <td>2</td>\n",
       "      <td>STEVEN CELAYA</td>\n",
       "      <td>370</td>\n",
       "      <td>17.0</td>\n",
       "      <td>M</td>\n",
       "      <td>1 15-19</td>\n",
       "      <td>19:50.1</td>\n",
       "      <td>6:23/M</td>\n",
       "      <td>1:12.2</td>\n",
       "    </tr>\n",
       "    <tr>\n",
       "      <th>2</th>\n",
       "      <td>3</td>\n",
       "      <td>JOHN MARTINEZ</td>\n",
       "      <td>134</td>\n",
       "      <td>16.0</td>\n",
       "      <td>M</td>\n",
       "      <td>2 15-19</td>\n",
       "      <td>20:00.4</td>\n",
       "      <td>6:26/M</td>\n",
       "      <td>1:22.5</td>\n",
       "    </tr>\n",
       "    <tr>\n",
       "      <th>3</th>\n",
       "      <td>4</td>\n",
       "      <td>GILBERT SALAZAR</td>\n",
       "      <td>198</td>\n",
       "      <td>43.0</td>\n",
       "      <td>M</td>\n",
       "      <td>1 40-44</td>\n",
       "      <td>20:01.3</td>\n",
       "      <td>6:26/M</td>\n",
       "      <td>1:23.5</td>\n",
       "    </tr>\n",
       "    <tr>\n",
       "      <th>4</th>\n",
       "      <td>5</td>\n",
       "      <td>DUSTIN CHAN</td>\n",
       "      <td>363</td>\n",
       "      <td>16.0</td>\n",
       "      <td>M</td>\n",
       "      <td>3 15-19</td>\n",
       "      <td>20:12.7</td>\n",
       "      <td>6:30/M</td>\n",
       "      <td>1:34.9</td>\n",
       "    </tr>\n",
       "  </tbody>\n",
       "</table>\n",
       "</div>"
      ],
      "text/plain": [
       "   Overall             Name  Bib No   Age Gender AG Place     Time    Pace  \\\n",
       "0        1   DONOVAN ZAVALA     297  17.0      M    1 Top  18:37.8  5:59/M   \n",
       "1        2    STEVEN CELAYA     370  17.0      M  1 15-19  19:50.1  6:23/M   \n",
       "2        3    JOHN MARTINEZ     134  16.0      M  2 15-19  20:00.4  6:26/M   \n",
       "3        4  GILBERT SALAZAR     198  43.0      M  1 40-44  20:01.3  6:26/M   \n",
       "4        5      DUSTIN CHAN     363  16.0      M  3 15-19  20:12.7  6:30/M   \n",
       "\n",
       "  Time Back  \n",
       "0       NaN  \n",
       "1    1:12.2  \n",
       "2    1:22.5  \n",
       "3    1:23.5  \n",
       "4    1:34.9  "
      ]
     },
     "execution_count": 37,
     "metadata": {},
     "output_type": "execute_result"
    }
   ],
   "source": [
    "df.head()"
   ]
  },
  {
   "cell_type": "code",
   "execution_count": 51,
   "metadata": {
    "collapsed": false,
    "scrolled": true
   },
   "outputs": [
    {
     "data": {
      "image/png": "[encoded data removed]",
      "text/plain": [
       "<matplotlib.figure.Figure at 0x118a28690>"
      ]
     },
     "metadata": {},
     "output_type": "display_data"
    }
   ],
   "source": [
    "plt.figure(figsize=(18,6))\n",
    "plt.scatter(df['Overall'], df['Age'])\n",
    "plt.legend(loc=\"best\")\n",
    "plt.xlabel('Finish position')\n",
    "plt.ylabel('Age')\n",
    "plt.ylim(0,80)\n",
    "plt.xlim(0,280)\n",
    "plt.locator_params(nbins=20)\n",
    "plt.show()"
   ]
  },
  {
   "cell_type": "code",
   "execution_count": 40,
   "metadata": {
    "collapsed": false,
    "scrolled": true
   },
   "outputs": [
    {
     "data": {
      "image/png": "[encoded data removed]",
      "text/plain": [
       "<matplotlib.figure.Figure at 0x117336750>"
      ]
     },
     "metadata": {},
     "output_type": "display_data"
    }
   ],
   "source": [
    "sb.barplot(x='Gender', y='Overall', data=df)\n",
    "plt.show()"
   ]
  },
  {
   "cell_type": "code",
   "execution_count": 60,
   "metadata": {
    "collapsed": false
   },
   "outputs": [
    {
     "data": {
      "text/plain": [
       "Gender\n",
       "F    29.354331\n",
       "M    28.817518\n",
       "Name: Age, dtype: float64"
      ]
     },
     "execution_count": 60,
     "metadata": {},
     "output_type": "execute_result"
    }
   ],
   "source": [
    "df.groupby('Gender')['Age'].mean()"
   ]
  },
  {
   "cell_type": "code",
   "execution_count": 59,
   "metadata": {
    "collapsed": false
   },
   "outputs": [
    {
     "data": {
      "text/html": [
       "<div>\n",
       "<table border=\"1\" class=\"dataframe\">\n",
       "  <thead>\n",
       "    <tr style=\"text-align: right;\">\n",
       "      <th></th>\n",
       "      <th>Overall</th>\n",
       "      <th>Name</th>\n",
       "      <th>Bib No</th>\n",
       "      <th>Age</th>\n",
       "      <th>Gender</th>\n",
       "      <th>AG Place</th>\n",
       "      <th>Time</th>\n",
       "      <th>Pace</th>\n",
       "      <th>Time Back</th>\n",
       "    </tr>\n",
       "  </thead>\n",
       "  <tbody>\n",
       "    <tr>\n",
       "      <th>61</th>\n",
       "      <td>62</td>\n",
       "      <td>CHRISTOPHER STACK</td>\n",
       "      <td>214</td>\n",
       "      <td>49.0</td>\n",
       "      <td>M</td>\n",
       "      <td>3 45-49</td>\n",
       "      <td>29:15.6</td>\n",
       "      <td>9:24/M</td>\n",
       "      <td>10:37.8</td>\n",
       "    </tr>\n",
       "  </tbody>\n",
       "</table>\n",
       "</div>"
      ],
      "text/plain": [
       "    Overall               Name  Bib No   Age Gender AG Place     Time    Pace  \\\n",
       "61       62  CHRISTOPHER STACK     214  49.0      M  3 45-49  29:15.6  9:24/M   \n",
       "\n",
       "   Time Back  \n",
       "61   10:37.8  "
      ]
     },
     "execution_count": 59,
     "metadata": {},
     "output_type": "execute_result"
    }
   ],
   "source": [
    "# df = pd.get_dummies(df, columns=['Gender'], drop_first=True)\n",
    "df.loc[df['Name'].str.contains('CHRISTOPHER')]"
   ]
  },
  {
   "cell_type": "code",
   "execution_count": 57,
   "metadata": {
    "collapsed": false
   },
   "outputs": [
    {
     "data": {
      "text/plain": [
       "(266, 9)"
      ]
     },
     "execution_count": 57,
     "metadata": {},
     "output_type": "execute_result"
    }
   ],
   "source": [
    "df.shape"
   ]
  },
  {
   "cell_type": "code",
   "execution_count": null,
   "metadata": {
    "collapsed": true
   },
   "outputs": [],
   "source": []
  }
 ],
 "metadata": {
  "kernelspec": {
   "display_name": "Python [Root]",
   "language": "python",
   "name": "Python [Root]"
  },
  "language_info": {
   "codemirror_mode": {
    "name": "ipython",
    "version": 2
   },
   "file_extension": ".py",
   "mimetype": "text/x-python",
   "name": "python",
   "nbconvert_exporter": "python",
   "pygments_lexer": "ipython2",
   "version": "2.7.12"
  }
 },
 "nbformat": 4,
 "nbformat_minor": 0
}
