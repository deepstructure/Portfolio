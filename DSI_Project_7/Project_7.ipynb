{
 "cells": [
  {
   "cell_type": "code",
   "execution_count": 1,
   "metadata": {
    "collapsed": true
   },
   "outputs": [],
   "source": [
    "import pandas as pd \n",
    "import matplotlib.pyplot as plt\n",
    "import numpy as np\n",
    "import sklearn as sk \n",
    "import seaborn as sb\n",
    "\n",
    "pd.set_option('display.max_columns', None)\n",
    "\n",
    "%matplotlib inline"
   ]
  },
  {
   "cell_type": "markdown",
   "metadata": {},
   "source": [
    "#### Import the CSV files"
   ]
  },
  {
   "cell_type": "code",
   "execution_count": 2,
   "metadata": {
    "collapsed": false
   },
   "outputs": [],
   "source": [
    "df_raw = pd.read_csv(\"assets/airport_cancellations.csv\")\n",
    "df_cancl = df_raw.dropna()\n",
    "df_cancl.rename(columns=lambda x: x.replace(' ', '_').lower(), inplace=True)"
   ]
  },
  {
   "cell_type": "code",
   "execution_count": 3,
   "metadata": {
    "collapsed": true
   },
   "outputs": [],
   "source": [
    "df_raw2 = pd.read_csv(\"assets/airport_operations.csv\")\n",
    "df_ops = df_raw2.dropna() \n",
    "df_ops.rename(columns=lambda x: x.replace(' ', '_').lower(), inplace=True)"
   ]
  },
  {
   "cell_type": "code",
   "execution_count": null,
   "metadata": {
    "collapsed": true
   },
   "outputs": [],
   "source": [
    "sb.pairplot(df_ops)"
   ]
  },
  {
   "cell_type": "code",
   "execution_count": 8,
   "metadata": {
    "collapsed": false
   },
   "outputs": [
    {
     "name": "stderr",
     "output_type": "stream",
     "text": [
      "/Users/deepstructure/anaconda/lib/python2.7/site-packages/pandas/core/frame.py:2754: SettingWithCopyWarning: \n",
      "A value is trying to be set on a copy of a slice from a DataFrame\n",
      "\n",
      "See the caveats in the documentation: http://pandas.pydata.org/pandas-docs/stable/indexing.html#indexing-view-versus-copy\n",
      "  **kwargs)\n"
     ]
    }
   ],
   "source": [
    "df_raw3 = pd.read_csv('assets/airports.csv')\n",
    "df_ports = df_raw3.dropna()\n",
    "df_ports.rename(columns=lambda x: x.replace(' ', '_').lower(), inplace=True)"
   ]
  },
  {
   "cell_type": "markdown",
   "metadata": {},
   "source": [
    "#### Merge the CSV files"
   ]
  },
  {
   "cell_type": "code",
   "execution_count": 9,
   "metadata": {
    "collapsed": true
   },
   "outputs": [],
   "source": [
    "df_ports.rename(columns={'locid':'airport'}, inplace=True)"
   ]
  },
  {
   "cell_type": "code",
   "execution_count": 10,
   "metadata": {
    "collapsed": true
   },
   "outputs": [],
   "source": [
    "df_all = df_cancl.merge(df_ops, on=['airport', 'year'])"
   ]
  },
  {
   "cell_type": "code",
   "execution_count": 11,
   "metadata": {
    "collapsed": true
   },
   "outputs": [],
   "source": [
    "df_all = df_all.merge(df_ports, on='airport')"
   ]
  },
  {
   "cell_type": "code",
   "execution_count": 12,
   "metadata": {
    "collapsed": false
   },
   "outputs": [
    {
     "data": {
      "text/plain": [
       "airport                               0\n",
       "year                                  0\n",
       "departure_cancellations               0\n",
       "arrival_cancellations                 0\n",
       "departure_diversions                  0\n",
       "arrival_diversions                    0\n",
       "departures_for_metric_computation     0\n",
       "arrivals_for_metric_computation       0\n",
       "percent_on-time_gate_departures       0\n",
       "percent_on-time_airport_departures    0\n",
       "percent_on-time_gate_arrivals         0\n",
       "average_gate_departure_delay          0\n",
       "average_taxi_out_time                 0\n",
       "average_taxi_out_delay                0\n",
       "average_airport_departure_delay       0\n",
       "average_airborne_delay                0\n",
       "average_taxi_in_delay                 0\n",
       "average_block_delay                   0\n",
       "average_gate_arrival_delay            0\n",
       "key                                   0\n",
       "ap_name                               0\n",
       "alias                                 0\n",
       "facility_type                         0\n",
       "faa_region                            0\n",
       "county                                0\n",
       "city                                  0\n",
       "state                                 0\n",
       "ap_type                               0\n",
       "latitude                              0\n",
       "longitude                             0\n",
       "boundary_data_available               0\n",
       "dtype: int64"
      ]
     },
     "execution_count": 12,
     "metadata": {},
     "output_type": "execute_result"
    }
   ],
   "source": [
    "# make sure we did the merges without creating null values\n",
    "df_all.isnull().sum()"
   ]
  },
  {
   "cell_type": "code",
   "execution_count": 13,
   "metadata": {
    "collapsed": false
   },
   "outputs": [],
   "source": [
    "# delete unnecessary columns\n",
    "del_list = ['facility_type', 'boundary_data_available', 'ap_type', 'alias', 'key']\n",
    "for i in del_list:\n",
    "    del df_all[i]"
   ]
  },
  {
   "cell_type": "code",
   "execution_count": 14,
   "metadata": {
    "collapsed": false
   },
   "outputs": [],
   "source": [
    "# create column list of numerical value columns\n",
    "column_list = list(df_all.select_dtypes(include=['float64', 'int64']).columns)"
   ]
  },
  {
   "cell_type": "markdown",
   "metadata": {},
   "source": [
    "#### Do a grouping to find the overall worse offenders"
   ]
  },
  {
   "cell_type": "code",
   "execution_count": 15,
   "metadata": {
    "collapsed": false
   },
   "outputs": [],
   "source": [
    "# create a series where all the information for each airport has been collapsed into one row per airport\n",
    "newdf = df_all.groupby(['airport']).mean()"
   ]
  },
  {
   "cell_type": "code",
   "execution_count": 16,
   "metadata": {
    "collapsed": false
   },
   "outputs": [
    {
     "data": {
      "text/plain": [
       "(74, 20)"
      ]
     },
     "execution_count": 16,
     "metadata": {},
     "output_type": "execute_result"
    }
   ],
   "source": [
    "newdf.shape"
   ]
  },
  {
   "cell_type": "code",
   "execution_count": 17,
   "metadata": {
    "collapsed": false
   },
   "outputs": [
    {
     "data": {
      "text/html": [
       "<div>\n",
       "<table border=\"1\" class=\"dataframe\">\n",
       "  <thead>\n",
       "    <tr style=\"text-align: right;\">\n",
       "      <th></th>\n",
       "      <th>year</th>\n",
       "      <th>departure_cancellations</th>\n",
       "      <th>arrival_cancellations</th>\n",
       "      <th>departure_diversions</th>\n",
       "      <th>arrival_diversions</th>\n",
       "      <th>departures_for_metric_computation</th>\n",
       "      <th>arrivals_for_metric_computation</th>\n",
       "      <th>percent_on-time_gate_departures</th>\n",
       "      <th>percent_on-time_airport_departures</th>\n",
       "      <th>percent_on-time_gate_arrivals</th>\n",
       "      <th>average_gate_departure_delay</th>\n",
       "      <th>average_taxi_out_time</th>\n",
       "      <th>average_taxi_out_delay</th>\n",
       "      <th>average_airport_departure_delay</th>\n",
       "      <th>average_airborne_delay</th>\n",
       "      <th>average_taxi_in_delay</th>\n",
       "      <th>average_block_delay</th>\n",
       "      <th>average_gate_arrival_delay</th>\n",
       "      <th>latitude</th>\n",
       "      <th>longitude</th>\n",
       "    </tr>\n",
       "    <tr>\n",
       "      <th>airport</th>\n",
       "      <th></th>\n",
       "      <th></th>\n",
       "      <th></th>\n",
       "      <th></th>\n",
       "      <th></th>\n",
       "      <th></th>\n",
       "      <th></th>\n",
       "      <th></th>\n",
       "      <th></th>\n",
       "      <th></th>\n",
       "      <th></th>\n",
       "      <th></th>\n",
       "      <th></th>\n",
       "      <th></th>\n",
       "      <th></th>\n",
       "      <th></th>\n",
       "      <th></th>\n",
       "      <th></th>\n",
       "      <th></th>\n",
       "      <th></th>\n",
       "    </tr>\n",
       "  </thead>\n",
       "  <tbody>\n",
       "    <tr>\n",
       "      <th>ABQ</th>\n",
       "      <td>2009.0</td>\n",
       "      <td>281.545455</td>\n",
       "      <td>241.636364</td>\n",
       "      <td>73.090909</td>\n",
       "      <td>51.818182</td>\n",
       "      <td>44830.454545</td>\n",
       "      <td>44947.272727</td>\n",
       "      <td>0.801800</td>\n",
       "      <td>0.775791</td>\n",
       "      <td>0.786673</td>\n",
       "      <td>10.964545</td>\n",
       "      <td>10.211818</td>\n",
       "      <td>2.319091</td>\n",
       "      <td>12.534545</td>\n",
       "      <td>1.870000</td>\n",
       "      <td>0.955455</td>\n",
       "      <td>2.336364</td>\n",
       "      <td>11.314545</td>\n",
       "      <td>35.040194</td>\n",
       "      <td>-106.609194</td>\n",
       "    </tr>\n",
       "    <tr>\n",
       "      <th>ANC</th>\n",
       "      <td>2009.0</td>\n",
       "      <td>277.545455</td>\n",
       "      <td>340.909091</td>\n",
       "      <td>81.545455</td>\n",
       "      <td>43.090909</td>\n",
       "      <td>67627.545455</td>\n",
       "      <td>63188.454545</td>\n",
       "      <td>0.796600</td>\n",
       "      <td>0.770364</td>\n",
       "      <td>0.778991</td>\n",
       "      <td>14.769091</td>\n",
       "      <td>12.317273</td>\n",
       "      <td>1.977273</td>\n",
       "      <td>16.006364</td>\n",
       "      <td>4.100000</td>\n",
       "      <td>0.582727</td>\n",
       "      <td>4.797273</td>\n",
       "      <td>15.675455</td>\n",
       "      <td>61.174083</td>\n",
       "      <td>-149.998194</td>\n",
       "    </tr>\n",
       "    <tr>\n",
       "      <th>ATL</th>\n",
       "      <td>2009.0</td>\n",
       "      <td>6562.363636</td>\n",
       "      <td>7317.272727</td>\n",
       "      <td>884.454545</td>\n",
       "      <td>872.181818</td>\n",
       "      <td>469004.000000</td>\n",
       "      <td>465716.909091</td>\n",
       "      <td>0.771836</td>\n",
       "      <td>0.633418</td>\n",
       "      <td>0.771736</td>\n",
       "      <td>13.477273</td>\n",
       "      <td>19.768182</td>\n",
       "      <td>7.777273</td>\n",
       "      <td>20.069091</td>\n",
       "      <td>3.278182</td>\n",
       "      <td>3.586364</td>\n",
       "      <td>4.200000</td>\n",
       "      <td>14.543636</td>\n",
       "      <td>33.636700</td>\n",
       "      <td>-84.427864</td>\n",
       "    </tr>\n",
       "  </tbody>\n",
       "</table>\n",
       "</div>"
      ],
      "text/plain": [
       "           year  departure_cancellations  arrival_cancellations  \\\n",
       "airport                                                           \n",
       "ABQ      2009.0               281.545455             241.636364   \n",
       "ANC      2009.0               277.545455             340.909091   \n",
       "ATL      2009.0              6562.363636            7317.272727   \n",
       "\n",
       "         departure_diversions  arrival_diversions  \\\n",
       "airport                                             \n",
       "ABQ                 73.090909           51.818182   \n",
       "ANC                 81.545455           43.090909   \n",
       "ATL                884.454545          872.181818   \n",
       "\n",
       "         departures_for_metric_computation  arrivals_for_metric_computation  \\\n",
       "airport                                                                       \n",
       "ABQ                           44830.454545                     44947.272727   \n",
       "ANC                           67627.545455                     63188.454545   \n",
       "ATL                          469004.000000                    465716.909091   \n",
       "\n",
       "         percent_on-time_gate_departures  percent_on-time_airport_departures  \\\n",
       "airport                                                                        \n",
       "ABQ                             0.801800                            0.775791   \n",
       "ANC                             0.796600                            0.770364   \n",
       "ATL                             0.771836                            0.633418   \n",
       "\n",
       "         percent_on-time_gate_arrivals  average_gate_departure_delay  \\\n",
       "airport                                                                \n",
       "ABQ                           0.786673                     10.964545   \n",
       "ANC                           0.778991                     14.769091   \n",
       "ATL                           0.771736                     13.477273   \n",
       "\n",
       "         average_taxi_out_time  average_taxi_out_delay  \\\n",
       "airport                                                  \n",
       "ABQ                  10.211818                2.319091   \n",
       "ANC                  12.317273                1.977273   \n",
       "ATL                  19.768182                7.777273   \n",
       "\n",
       "         average_airport_departure_delay  average_airborne_delay  \\\n",
       "airport                                                            \n",
       "ABQ                            12.534545                1.870000   \n",
       "ANC                            16.006364                4.100000   \n",
       "ATL                            20.069091                3.278182   \n",
       "\n",
       "         average_taxi_in_delay  average_block_delay  \\\n",
       "airport                                               \n",
       "ABQ                   0.955455             2.336364   \n",
       "ANC                   0.582727             4.797273   \n",
       "ATL                   3.586364             4.200000   \n",
       "\n",
       "         average_gate_arrival_delay   latitude   longitude  \n",
       "airport                                                     \n",
       "ABQ                       11.314545  35.040194 -106.609194  \n",
       "ANC                       15.675455  61.174083 -149.998194  \n",
       "ATL                       14.543636  33.636700  -84.427864  "
      ]
     },
     "execution_count": 17,
     "metadata": {},
     "output_type": "execute_result"
    }
   ],
   "source": [
    "newdf.head(3)"
   ]
  },
  {
   "cell_type": "code",
   "execution_count": 18,
   "metadata": {
    "collapsed": false
   },
   "outputs": [],
   "source": [
    "# create a dataframe of the worst offfenders in each category\n",
    "newdf2 = df_all.groupby(['airport']).mean().max()\n",
    "del newdf2['year']"
   ]
  },
  {
   "cell_type": "code",
   "execution_count": 19,
   "metadata": {
    "collapsed": false
   },
   "outputs": [
    {
     "data": {
      "text/plain": [
       "departure_cancellations                10892.000000\n",
       "arrival_cancellations                  11730.454545\n",
       "departure_diversions                     884.454545\n",
       "arrival_diversions                      1221.818182\n",
       "departures_for_metric_computation     469004.000000\n",
       "arrivals_for_metric_computation       465716.909091\n",
       "percent_on-time_gate_departures            0.888100\n",
       "percent_on-time_airport_departures         0.881027\n",
       "percent_on-time_gate_arrivals              0.864709\n",
       "average_gate_departure_delay              21.885455\n",
       "average_taxi_out_time                     28.612727\n",
       "average_taxi_out_delay                    11.985455\n",
       "average_airport_departure_delay           27.867273\n",
       "average_airborne_delay                     6.354545\n",
       "average_taxi_in_delay                      4.181818\n",
       "average_block_delay                        5.265455\n",
       "average_gate_arrival_delay                22.568182\n",
       "latitude                                  61.174083\n",
       "longitude                                -66.002004\n",
       "dtype: float64"
      ]
     },
     "execution_count": 19,
     "metadata": {},
     "output_type": "execute_result"
    }
   ],
   "source": [
    "newdf2"
   ]
  },
  {
   "cell_type": "code",
   "execution_count": 20,
   "metadata": {
    "collapsed": false
   },
   "outputs": [],
   "source": [
    "# unfortunately this doesn't include which airport that value is associated with, so...\n",
    "\n",
    "worse = []\n",
    "for i, n in enumerate(newdf2):\n",
    "    worse.append((newdf[newdf[newdf2.index[i]] == n].index[0], newdf2.index[i], n))"
   ]
  },
  {
   "cell_type": "code",
   "execution_count": 21,
   "metadata": {
    "collapsed": false
   },
   "outputs": [],
   "source": [
    "worse_df = pd.DataFrame(worse, columns = ['airport', 'feature', 'value'])"
   ]
  },
  {
   "cell_type": "code",
   "execution_count": 22,
   "metadata": {
    "collapsed": false
   },
   "outputs": [
    {
     "data": {
      "text/html": [
       "<div>\n",
       "<table border=\"1\" class=\"dataframe\">\n",
       "  <thead>\n",
       "    <tr style=\"text-align: right;\">\n",
       "      <th></th>\n",
       "      <th>airport</th>\n",
       "      <th>feature</th>\n",
       "      <th>value</th>\n",
       "    </tr>\n",
       "  </thead>\n",
       "  <tbody>\n",
       "    <tr>\n",
       "      <th>0</th>\n",
       "      <td>ORD</td>\n",
       "      <td>departure_cancellations</td>\n",
       "      <td>10892.000000</td>\n",
       "    </tr>\n",
       "    <tr>\n",
       "      <th>1</th>\n",
       "      <td>ORD</td>\n",
       "      <td>arrival_cancellations</td>\n",
       "      <td>11730.454545</td>\n",
       "    </tr>\n",
       "    <tr>\n",
       "      <th>2</th>\n",
       "      <td>ATL</td>\n",
       "      <td>departure_diversions</td>\n",
       "      <td>884.454545</td>\n",
       "    </tr>\n",
       "    <tr>\n",
       "      <th>3</th>\n",
       "      <td>DFW</td>\n",
       "      <td>arrival_diversions</td>\n",
       "      <td>1221.818182</td>\n",
       "    </tr>\n",
       "    <tr>\n",
       "      <th>4</th>\n",
       "      <td>ATL</td>\n",
       "      <td>departures_for_metric_computation</td>\n",
       "      <td>469004.000000</td>\n",
       "    </tr>\n",
       "    <tr>\n",
       "      <th>5</th>\n",
       "      <td>ATL</td>\n",
       "      <td>arrivals_for_metric_computation</td>\n",
       "      <td>465716.909091</td>\n",
       "    </tr>\n",
       "    <tr>\n",
       "      <th>6</th>\n",
       "      <td>OGG</td>\n",
       "      <td>percent_on-time_gate_departures</td>\n",
       "      <td>0.888100</td>\n",
       "    </tr>\n",
       "    <tr>\n",
       "      <th>7</th>\n",
       "      <td>OGG</td>\n",
       "      <td>percent_on-time_airport_departures</td>\n",
       "      <td>0.881027</td>\n",
       "    </tr>\n",
       "    <tr>\n",
       "      <th>8</th>\n",
       "      <td>OGG</td>\n",
       "      <td>percent_on-time_gate_arrivals</td>\n",
       "      <td>0.864709</td>\n",
       "    </tr>\n",
       "    <tr>\n",
       "      <th>9</th>\n",
       "      <td>HPN</td>\n",
       "      <td>average_gate_departure_delay</td>\n",
       "      <td>21.885455</td>\n",
       "    </tr>\n",
       "    <tr>\n",
       "      <th>10</th>\n",
       "      <td>JFK</td>\n",
       "      <td>average_taxi_out_time</td>\n",
       "      <td>28.612727</td>\n",
       "    </tr>\n",
       "    <tr>\n",
       "      <th>11</th>\n",
       "      <td>LGA</td>\n",
       "      <td>average_taxi_out_delay</td>\n",
       "      <td>11.985455</td>\n",
       "    </tr>\n",
       "    <tr>\n",
       "      <th>12</th>\n",
       "      <td>EWR</td>\n",
       "      <td>average_airport_departure_delay</td>\n",
       "      <td>27.867273</td>\n",
       "    </tr>\n",
       "    <tr>\n",
       "      <th>13</th>\n",
       "      <td>PHL</td>\n",
       "      <td>average_airborne_delay</td>\n",
       "      <td>6.354545</td>\n",
       "    </tr>\n",
       "    <tr>\n",
       "      <th>14</th>\n",
       "      <td>DFW</td>\n",
       "      <td>average_taxi_in_delay</td>\n",
       "      <td>4.181818</td>\n",
       "    </tr>\n",
       "    <tr>\n",
       "      <th>15</th>\n",
       "      <td>EWR</td>\n",
       "      <td>average_block_delay</td>\n",
       "      <td>5.265455</td>\n",
       "    </tr>\n",
       "    <tr>\n",
       "      <th>16</th>\n",
       "      <td>HPN</td>\n",
       "      <td>average_gate_arrival_delay</td>\n",
       "      <td>22.568182</td>\n",
       "    </tr>\n",
       "    <tr>\n",
       "      <th>17</th>\n",
       "      <td>ANC</td>\n",
       "      <td>latitude</td>\n",
       "      <td>61.174083</td>\n",
       "    </tr>\n",
       "    <tr>\n",
       "      <th>18</th>\n",
       "      <td>SJU</td>\n",
       "      <td>longitude</td>\n",
       "      <td>-66.002004</td>\n",
       "    </tr>\n",
       "  </tbody>\n",
       "</table>\n",
       "</div>"
      ],
      "text/plain": [
       "   airport                             feature          value\n",
       "0      ORD             departure_cancellations   10892.000000\n",
       "1      ORD               arrival_cancellations   11730.454545\n",
       "2      ATL                departure_diversions     884.454545\n",
       "3      DFW                  arrival_diversions    1221.818182\n",
       "4      ATL   departures_for_metric_computation  469004.000000\n",
       "5      ATL     arrivals_for_metric_computation  465716.909091\n",
       "6      OGG     percent_on-time_gate_departures       0.888100\n",
       "7      OGG  percent_on-time_airport_departures       0.881027\n",
       "8      OGG       percent_on-time_gate_arrivals       0.864709\n",
       "9      HPN        average_gate_departure_delay      21.885455\n",
       "10     JFK               average_taxi_out_time      28.612727\n",
       "11     LGA              average_taxi_out_delay      11.985455\n",
       "12     EWR     average_airport_departure_delay      27.867273\n",
       "13     PHL              average_airborne_delay       6.354545\n",
       "14     DFW               average_taxi_in_delay       4.181818\n",
       "15     EWR                 average_block_delay       5.265455\n",
       "16     HPN          average_gate_arrival_delay      22.568182\n",
       "17     ANC                            latitude      61.174083\n",
       "18     SJU                           longitude     -66.002004"
      ]
     },
     "execution_count": 22,
     "metadata": {},
     "output_type": "execute_result"
    }
   ],
   "source": [
    "# caveat, this also includes the best of the only three positive categories:\n",
    "# percent_on-time_gate_departures            0.888100\n",
    "# percent_on-time_airport_departures         0.881027\n",
    "# percent_on-time_gate_arrivals              0.864709\n",
    "\n",
    "worse_df"
   ]
  },
  {
   "cell_type": "code",
   "execution_count": 23,
   "metadata": {
    "collapsed": false
   },
   "outputs": [
    {
     "name": "stdout",
     "output_type": "stream",
     "text": [
      "year | pvalue: 2.90654736192e-133\n",
      "departure_cancellations | pvalue: 8.25328994944e-148\n",
      "arrival_cancellations | pvalue: 7.77969960514e-147\n",
      "departure_diversions | pvalue: 8.60339395567e-74\n",
      "arrival_diversions | pvalue: 4.66736795099e-118\n",
      "departures_for_metric_computation | pvalue: 3.41513560439e-49\n",
      "arrivals_for_metric_computation | pvalue: 2.45289650928e-49\n",
      "percent_on-time_gate_departures | pvalue: 2.92555386255e-28\n",
      "percent_on-time_airport_departures | pvalue: 6.39110788886e-31\n",
      "percent_on-time_gate_arrivals | pvalue: 7.24916037647e-28\n",
      "average_gate_departure_delay | pvalue: 1.47697367715e-10\n",
      "average_taxi_out_time | pvalue: 8.3621133013e-65\n",
      "average_taxi_out_delay | pvalue: 4.29652570434e-101\n",
      "average_airport_departure_delay | pvalue: 4.9703692117e-43\n",
      "average_airborne_delay | pvalue: 9.10349823336e-32\n",
      "average_taxi_in_delay | pvalue: 6.10991883595e-56\n",
      "average_block_delay | pvalue: 8.0599290499e-25\n",
      "average_gate_arrival_delay | pvalue: 3.90214684955e-30\n"
     ]
    }
   ],
   "source": [
    "# check out distribution\n",
    "from scipy.stats import normaltest\n",
    "from sklearn.preprocessing import StandardScaler\n",
    " \n",
    "for i in column_list[:-2]:\n",
    "    b = normaltest(df_all[i])\n",
    "    print i,'| pvalue:', b[1]"
   ]
  },
  {
   "cell_type": "code",
   "execution_count": 24,
   "metadata": {
    "collapsed": false
   },
   "outputs": [
    {
     "data": {
      "image/png": "[encoded data removed]",
      "text/plain": [
       "<matplotlib.figure.Figure at 0x115ff0690>"
      ]
     },
     "metadata": {},
     "output_type": "display_data"
    },
    {
     "data": {
      "image/png": "[encoded data removed]",
      "text/plain": [
       "<matplotlib.figure.Figure at 0x115de38d0>"
      ]
     },
     "metadata": {},
     "output_type": "display_data"
    },
    {
     "data": {
      "image/png": "[encoded data removed]",
      "text/plain": [
       "<matplotlib.figure.Figure at 0x1180e0690>"
      ]
     },
     "metadata": {},
     "output_type": "display_data"
    },
    {
     "data": {
      "image/png": "[encoded data removed]",
      "text/plain": [
       "<matplotlib.figure.Figure at 0x1182e1ed0>"
      ]
     },
     "metadata": {},
     "output_type": "display_data"
    },
    {
     "data": {
      "image/png": "[encoded data removed]",
      "text/plain": [
       "<matplotlib.figure.Figure at 0x118629890>"
      ]
     },
     "metadata": {},
     "output_type": "display_data"
    },
    {
     "data": {
      "image/png": "[encoded data removed]",
      "text/plain": [
       "<matplotlib.figure.Figure at 0x1189bdc50>"
      ]
     },
     "metadata": {},
     "output_type": "display_data"
    },
    {
     "data": {
      "image/png": "[encoded data removed]",
      "text/plain": [
       "<matplotlib.figure.Figure at 0x1189bdbd0>"
      ]
     },
     "metadata": {},
     "output_type": "display_data"
    },
    {
     "data": {
      "image/png": "[encoded data removed]",
      "text/plain": [
       "<matplotlib.figure.Figure at 0x118a49a90>"
      ]
     },
     "metadata": {},
     "output_type": "display_data"
    },
    {
     "data": {
      "image/png": "[encoded data removed]",
      "text/plain": [
       "<matplotlib.figure.Figure at 0x117294650>"
      ]
     },
     "metadata": {},
     "output_type": "display_data"
    },
    {
     "data": {
      "image/png": "[encoded data removed]",
      "text/plain": [
       "<matplotlib.figure.Figure at 0x1182bfc10>"
      ]
     },
     "metadata": {},
     "output_type": "display_data"
    },
    {
     "data": {
      "image/png": "[encoded data removed]",
      "text/plain": [
       "<matplotlib.figure.Figure at 0x118435b90>"
      ]
     },
     "metadata": {},
     "output_type": "display_data"
    },
    {
     "data": {
      "image/png": "[encoded data removed]",
      "text/plain": [
       "<matplotlib.figure.Figure at 0x118055dd0>"
      ]
     },
     "metadata": {},
     "output_type": "display_data"
    },
    {
     "data": {
      "image/png": "[encoded data removed]",
      "text/plain": [
       "<matplotlib.figure.Figure at 0x118058d90>"
      ]
     },
     "metadata": {},
     "output_type": "display_data"
    },
    {
     "data": {
      "image/png": "[encoded data removed]",
      "text/plain": [
       "<matplotlib.figure.Figure at 0x118041c10>"
      ]
     },
     "metadata": {},
     "output_type": "display_data"
    },
    {
     "data": {
      "image/png": "[encoded data removed]",
      "text/plain": [
       "<matplotlib.figure.Figure at 0x118035450>"
      ]
     },
     "metadata": {},
     "output_type": "display_data"
    },
    {
     "data": {
      "image/png": "[encoded data removed]",
      "text/plain": [
       "<matplotlib.figure.Figure at 0x116874d50>"
      ]
     },
     "metadata": {},
     "output_type": "display_data"
    },
    {
     "data": {
      "image/png": "[encoded data removed]",
      "text/plain": [
       "<matplotlib.figure.Figure at 0x1182b3350>"
      ]
     },
     "metadata": {},
     "output_type": "display_data"
    },
    {
     "data": {
      "image/png": "[encoded data removed]",
      "text/plain": [
       "<matplotlib.figure.Figure at 0x1173b6d10>"
      ]
     },
     "metadata": {},
     "output_type": "display_data"
    }
   ],
   "source": [
    "# that wasn't very helpful. let's try some graphs...\n",
    "\n",
    "for i in column_list[:-2]:\n",
    "    sb.distplot(df_all[i])\n",
    "    plt.show()"
   ]
  },
  {
   "cell_type": "code",
   "execution_count": 25,
   "metadata": {
    "collapsed": false
   },
   "outputs": [],
   "source": [
    "# create dataframe of just the numerical values\n",
    "X = df_all[column_list]"
   ]
  },
  {
   "cell_type": "markdown",
   "metadata": {},
   "source": [
    "#### Experiment to see if KMeans would cluster according to the FAA regions\n",
    "- when given the same cluster amount as the regions"
   ]
  },
  {
   "cell_type": "code",
   "execution_count": 26,
   "metadata": {
    "collapsed": true
   },
   "outputs": [],
   "source": [
    "from sklearn.preprocessing import StandardScaler\n",
    "X_stand = StandardScaler().fit_transform(X)"
   ]
  },
  {
   "cell_type": "code",
   "execution_count": 27,
   "metadata": {
    "collapsed": false
   },
   "outputs": [
    {
     "data": {
      "text/plain": [
       "9"
      ]
     },
     "execution_count": 27,
     "metadata": {},
     "output_type": "execute_result"
    }
   ],
   "source": [
    "len(df_all['faa_region'].unique())"
   ]
  },
  {
   "cell_type": "code",
   "execution_count": 28,
   "metadata": {
    "collapsed": true
   },
   "outputs": [],
   "source": [
    "from sklearn.cluster import KMeans"
   ]
  },
  {
   "cell_type": "code",
   "execution_count": 29,
   "metadata": {
    "collapsed": true
   },
   "outputs": [],
   "source": [
    "km = KMeans(n_clusters=9)\n",
    "km_results = km.fit(X_stand)"
   ]
  },
  {
   "cell_type": "code",
   "execution_count": 30,
   "metadata": {
    "collapsed": false
   },
   "outputs": [
    {
     "data": {
      "text/plain": [
       "0.16332559450571618"
      ]
     },
     "execution_count": 30,
     "metadata": {},
     "output_type": "execute_result"
    }
   ],
   "source": [
    "from sklearn.metrics import adjusted_mutual_info_score\n",
    "adjusted_mutual_info_score(km.labels_, df_all['faa_region'])\n"
   ]
  },
  {
   "cell_type": "code",
   "execution_count": 31,
   "metadata": {
    "collapsed": true
   },
   "outputs": [],
   "source": [
    "# Conclusion: apparently not"
   ]
  },
  {
   "cell_type": "code",
   "execution_count": 32,
   "metadata": {
    "collapsed": true
   },
   "outputs": [],
   "source": [
    "# trying John's PCA-first methodology\n",
    "from sklearn.decomposition import PCA"
   ]
  },
  {
   "cell_type": "code",
   "execution_count": 33,
   "metadata": {
    "collapsed": false
   },
   "outputs": [
    {
     "data": {
      "text/plain": [
       "PCA(copy=True, iterated_power='auto', n_components=2, random_state=None,\n",
       "  svd_solver='auto', tol=0.0, whiten=False)"
      ]
     },
     "execution_count": 33,
     "metadata": {},
     "output_type": "execute_result"
    }
   ],
   "source": [
    "pca = PCA(n_components=2)\n",
    "pca.fit(X_stand)"
   ]
  },
  {
   "cell_type": "code",
   "execution_count": 34,
   "metadata": {
    "collapsed": false
   },
   "outputs": [
    {
     "name": "stdout",
     "output_type": "stream",
     "text": [
      "{'components_': array([[-0.04016523,  0.26280925,  0.26087892,  0.23953515,  0.24584764,\n",
      "         0.24983094,  0.24952518, -0.16915588, -0.27448352, -0.15445001,\n",
      "         0.20548373,  0.26668827,  0.27279458,  0.2816328 ,  0.20332507,\n",
      "         0.25883507,  0.21958441,  0.21472033,  0.06900428,  0.12827134],\n",
      "       [-0.00719608, -0.18548465, -0.19649746, -0.27787944, -0.21599068,\n",
      "        -0.27896041, -0.2795491 , -0.33160472, -0.21050496, -0.38148032,\n",
      "         0.3231351 , -0.04888779, -0.03111888,  0.21709254,  0.0477766 ,\n",
      "        -0.18986234,  0.09521276,  0.31409856,  0.07724844,  0.20092461]]),\n",
      " 'copy': True,\n",
      " 'explained_variance_': array([ 9.35644975,  4.33096464]),\n",
      " 'explained_variance_ratio_': array([ 0.46782249,  0.21654823]),\n",
      " 'iterated_power': 'auto',\n",
      " 'mean_': array([  7.78128778e-15,   0.00000000e+00,  -1.77858006e-17,\n",
      "         7.11432026e-17,   0.00000000e+00,  -5.33574019e-17,\n",
      "         7.11432026e-17,   1.14718414e-15,  -7.29217826e-16,\n",
      "        -3.21922992e-15,  -5.86931421e-16,  -1.60072206e-16,\n",
      "         5.33574019e-17,  -7.11432026e-17,  -3.02358611e-16,\n",
      "         2.84572810e-16,   3.37930212e-16,   4.80216617e-16,\n",
      "         5.51359820e-16,  -8.09253929e-16]),\n",
      " 'n_components': 2,\n",
      " 'n_components_': 2,\n",
      " 'n_features_': 20,\n",
      " 'n_samples_': 799,\n",
      " 'noise_variance_': 6.3125856090881847,\n",
      " 'random_state': None,\n",
      " 'svd_solver': 'auto',\n",
      " 'tol': 0.0,\n",
      " 'whiten': False}\n"
     ]
    }
   ],
   "source": [
    "from pprint import pprint\n",
    "pprint (vars(pca))"
   ]
  },
  {
   "cell_type": "code",
   "execution_count": 35,
   "metadata": {
    "collapsed": false
   },
   "outputs": [
    {
     "data": {
      "text/html": [
       "<div>\n",
       "<table border=\"1\" class=\"dataframe\">\n",
       "  <thead>\n",
       "    <tr style=\"text-align: right;\">\n",
       "      <th></th>\n",
       "      <th>0</th>\n",
       "      <th>1</th>\n",
       "    </tr>\n",
       "  </thead>\n",
       "  <tbody>\n",
       "    <tr>\n",
       "      <th>year</th>\n",
       "      <td>-0.040165</td>\n",
       "      <td>-0.007196</td>\n",
       "    </tr>\n",
       "    <tr>\n",
       "      <th>departure_cancellations</th>\n",
       "      <td>0.262809</td>\n",
       "      <td>-0.185485</td>\n",
       "    </tr>\n",
       "    <tr>\n",
       "      <th>arrival_cancellations</th>\n",
       "      <td>0.260879</td>\n",
       "      <td>-0.196497</td>\n",
       "    </tr>\n",
       "    <tr>\n",
       "      <th>departure_diversions</th>\n",
       "      <td>0.239535</td>\n",
       "      <td>-0.277879</td>\n",
       "    </tr>\n",
       "    <tr>\n",
       "      <th>arrival_diversions</th>\n",
       "      <td>0.245848</td>\n",
       "      <td>-0.215991</td>\n",
       "    </tr>\n",
       "    <tr>\n",
       "      <th>departures_for_metric_computation</th>\n",
       "      <td>0.249831</td>\n",
       "      <td>-0.278960</td>\n",
       "    </tr>\n",
       "    <tr>\n",
       "      <th>arrivals_for_metric_computation</th>\n",
       "      <td>0.249525</td>\n",
       "      <td>-0.279549</td>\n",
       "    </tr>\n",
       "    <tr>\n",
       "      <th>percent_on-time_gate_departures</th>\n",
       "      <td>-0.169156</td>\n",
       "      <td>-0.331605</td>\n",
       "    </tr>\n",
       "    <tr>\n",
       "      <th>percent_on-time_airport_departures</th>\n",
       "      <td>-0.274484</td>\n",
       "      <td>-0.210505</td>\n",
       "    </tr>\n",
       "    <tr>\n",
       "      <th>percent_on-time_gate_arrivals</th>\n",
       "      <td>-0.154450</td>\n",
       "      <td>-0.381480</td>\n",
       "    </tr>\n",
       "    <tr>\n",
       "      <th>average_gate_departure_delay</th>\n",
       "      <td>0.205484</td>\n",
       "      <td>0.323135</td>\n",
       "    </tr>\n",
       "    <tr>\n",
       "      <th>average_taxi_out_time</th>\n",
       "      <td>0.266688</td>\n",
       "      <td>-0.048888</td>\n",
       "    </tr>\n",
       "    <tr>\n",
       "      <th>average_taxi_out_delay</th>\n",
       "      <td>0.272795</td>\n",
       "      <td>-0.031119</td>\n",
       "    </tr>\n",
       "    <tr>\n",
       "      <th>average_airport_departure_delay</th>\n",
       "      <td>0.281633</td>\n",
       "      <td>0.217093</td>\n",
       "    </tr>\n",
       "    <tr>\n",
       "      <th>average_airborne_delay</th>\n",
       "      <td>0.203325</td>\n",
       "      <td>0.047777</td>\n",
       "    </tr>\n",
       "    <tr>\n",
       "      <th>average_taxi_in_delay</th>\n",
       "      <td>0.258835</td>\n",
       "      <td>-0.189862</td>\n",
       "    </tr>\n",
       "    <tr>\n",
       "      <th>average_block_delay</th>\n",
       "      <td>0.219584</td>\n",
       "      <td>0.095213</td>\n",
       "    </tr>\n",
       "    <tr>\n",
       "      <th>average_gate_arrival_delay</th>\n",
       "      <td>0.214720</td>\n",
       "      <td>0.314099</td>\n",
       "    </tr>\n",
       "    <tr>\n",
       "      <th>latitude</th>\n",
       "      <td>0.069004</td>\n",
       "      <td>0.077248</td>\n",
       "    </tr>\n",
       "    <tr>\n",
       "      <th>longitude</th>\n",
       "      <td>0.128271</td>\n",
       "      <td>0.200925</td>\n",
       "    </tr>\n",
       "  </tbody>\n",
       "</table>\n",
       "</div>"
      ],
      "text/plain": [
       "                                           0         1\n",
       "year                               -0.040165 -0.007196\n",
       "departure_cancellations             0.262809 -0.185485\n",
       "arrival_cancellations               0.260879 -0.196497\n",
       "departure_diversions                0.239535 -0.277879\n",
       "arrival_diversions                  0.245848 -0.215991\n",
       "departures_for_metric_computation   0.249831 -0.278960\n",
       "arrivals_for_metric_computation     0.249525 -0.279549\n",
       "percent_on-time_gate_departures    -0.169156 -0.331605\n",
       "percent_on-time_airport_departures -0.274484 -0.210505\n",
       "percent_on-time_gate_arrivals      -0.154450 -0.381480\n",
       "average_gate_departure_delay        0.205484  0.323135\n",
       "average_taxi_out_time               0.266688 -0.048888\n",
       "average_taxi_out_delay              0.272795 -0.031119\n",
       "average_airport_departure_delay     0.281633  0.217093\n",
       "average_airborne_delay              0.203325  0.047777\n",
       "average_taxi_in_delay               0.258835 -0.189862\n",
       "average_block_delay                 0.219584  0.095213\n",
       "average_gate_arrival_delay          0.214720  0.314099\n",
       "latitude                            0.069004  0.077248\n",
       "longitude                           0.128271  0.200925"
      ]
     },
     "execution_count": 35,
     "metadata": {},
     "output_type": "execute_result"
    }
   ],
   "source": [
    "# well this doesn't prove anything\n",
    "pd.DataFrame(pca.components_, columns=column_list).T"
   ]
  },
  {
   "cell_type": "code",
   "execution_count": 36,
   "metadata": {
    "collapsed": false
   },
   "outputs": [],
   "source": [
    "# removing the features that don't seem relevent\n",
    "remover =  ['year', 'latitude', 'longitude', 'percent_on-time_gate_arrivals',\n",
    "           'percent_on-time_airport_departures', 'percent_on-time_gate_departures']\n",
    "column_list2 = [i for i in column_list if i not in remover]"
   ]
  },
  {
   "cell_type": "code",
   "execution_count": 37,
   "metadata": {
    "collapsed": false
   },
   "outputs": [
    {
     "data": {
      "text/plain": [
       "['departure_cancellations',\n",
       " 'arrival_cancellations',\n",
       " 'departure_diversions',\n",
       " 'arrival_diversions',\n",
       " 'departures_for_metric_computation',\n",
       " 'arrivals_for_metric_computation',\n",
       " 'average_gate_departure_delay',\n",
       " 'average_taxi_out_time',\n",
       " 'average_taxi_out_delay',\n",
       " 'average_airport_departure_delay',\n",
       " 'average_airborne_delay',\n",
       " 'average_taxi_in_delay',\n",
       " 'average_block_delay',\n",
       " 'average_gate_arrival_delay']"
      ]
     },
     "execution_count": 37,
     "metadata": {},
     "output_type": "execute_result"
    }
   ],
   "source": [
    "column_list2"
   ]
  },
  {
   "cell_type": "code",
   "execution_count": 38,
   "metadata": {
    "collapsed": false
   },
   "outputs": [
    {
     "data": {
      "text/plain": [
       "PCA(copy=True, iterated_power='auto', n_components=2, random_state=None,\n",
       "  svd_solver='auto', tol=0.0, whiten=False)"
      ]
     },
     "execution_count": 38,
     "metadata": {},
     "output_type": "execute_result"
    }
   ],
   "source": [
    "X2 = df_all[column_list2]\n",
    "X2_stand = StandardScaler().fit_transform(X2)\n",
    "pca2 = PCA(n_components=2)\n",
    "pca2.fit(X2_stand)"
   ]
  },
  {
   "cell_type": "code",
   "execution_count": 39,
   "metadata": {
    "collapsed": false
   },
   "outputs": [
    {
     "data": {
      "text/html": [
       "<div>\n",
       "<table border=\"1\" class=\"dataframe\">\n",
       "  <thead>\n",
       "    <tr style=\"text-align: right;\">\n",
       "      <th></th>\n",
       "      <th>0</th>\n",
       "      <th>1</th>\n",
       "    </tr>\n",
       "  </thead>\n",
       "  <tbody>\n",
       "    <tr>\n",
       "      <th>departure_cancellations</th>\n",
       "      <td>0.302562</td>\n",
       "      <td>-0.138365</td>\n",
       "    </tr>\n",
       "    <tr>\n",
       "      <th>arrival_cancellations</th>\n",
       "      <td>0.302210</td>\n",
       "      <td>-0.154566</td>\n",
       "    </tr>\n",
       "    <tr>\n",
       "      <th>departure_diversions</th>\n",
       "      <td>0.292481</td>\n",
       "      <td>-0.268606</td>\n",
       "    </tr>\n",
       "    <tr>\n",
       "      <th>arrival_diversions</th>\n",
       "      <td>0.289626</td>\n",
       "      <td>-0.182089</td>\n",
       "    </tr>\n",
       "    <tr>\n",
       "      <th>departures_for_metric_computation</th>\n",
       "      <td>0.302891</td>\n",
       "      <td>-0.255345</td>\n",
       "    </tr>\n",
       "    <tr>\n",
       "      <th>arrivals_for_metric_computation</th>\n",
       "      <td>0.302640</td>\n",
       "      <td>-0.256646</td>\n",
       "    </tr>\n",
       "    <tr>\n",
       "      <th>average_gate_departure_delay</th>\n",
       "      <td>0.158552</td>\n",
       "      <td>0.444343</td>\n",
       "    </tr>\n",
       "    <tr>\n",
       "      <th>average_taxi_out_time</th>\n",
       "      <td>0.286629</td>\n",
       "      <td>0.106630</td>\n",
       "    </tr>\n",
       "    <tr>\n",
       "      <th>average_taxi_out_delay</th>\n",
       "      <td>0.288579</td>\n",
       "      <td>0.123655</td>\n",
       "    </tr>\n",
       "    <tr>\n",
       "      <th>average_airport_departure_delay</th>\n",
       "      <td>0.255493</td>\n",
       "      <td>0.379182</td>\n",
       "    </tr>\n",
       "    <tr>\n",
       "      <th>average_airborne_delay</th>\n",
       "      <td>0.203416</td>\n",
       "      <td>0.197965</td>\n",
       "    </tr>\n",
       "    <tr>\n",
       "      <th>average_taxi_in_delay</th>\n",
       "      <td>0.299519</td>\n",
       "      <td>-0.130730</td>\n",
       "    </tr>\n",
       "    <tr>\n",
       "      <th>average_block_delay</th>\n",
       "      <td>0.217245</td>\n",
       "      <td>0.264484</td>\n",
       "    </tr>\n",
       "    <tr>\n",
       "      <th>average_gate_arrival_delay</th>\n",
       "      <td>0.173862</td>\n",
       "      <td>0.475898</td>\n",
       "    </tr>\n",
       "  </tbody>\n",
       "</table>\n",
       "</div>"
      ],
      "text/plain": [
       "                                          0         1\n",
       "departure_cancellations            0.302562 -0.138365\n",
       "arrival_cancellations              0.302210 -0.154566\n",
       "departure_diversions               0.292481 -0.268606\n",
       "arrival_diversions                 0.289626 -0.182089\n",
       "departures_for_metric_computation  0.302891 -0.255345\n",
       "arrivals_for_metric_computation    0.302640 -0.256646\n",
       "average_gate_departure_delay       0.158552  0.444343\n",
       "average_taxi_out_time              0.286629  0.106630\n",
       "average_taxi_out_delay             0.288579  0.123655\n",
       "average_airport_departure_delay    0.255493  0.379182\n",
       "average_airborne_delay             0.203416  0.197965\n",
       "average_taxi_in_delay              0.299519 -0.130730\n",
       "average_block_delay                0.217245  0.264484\n",
       "average_gate_arrival_delay         0.173862  0.475898"
      ]
     },
     "execution_count": 39,
     "metadata": {},
     "output_type": "execute_result"
    }
   ],
   "source": [
    "# this doesn't seem any better, or I don't understand what PCA is supposed to do\n",
    "pd.DataFrame(pca2.components_, columns=column_list2).T"
   ]
  },
  {
   "cell_type": "code",
   "execution_count": 40,
   "metadata": {
    "collapsed": false
   },
   "outputs": [
    {
     "name": "stdout",
     "output_type": "stream",
     "text": [
      "pca variance ratio [ 0.46782249  0.21654823]\n",
      "pca2 variance ratio [ 0.59098436  0.19079578]\n"
     ]
    }
   ],
   "source": [
    "print 'pca variance ratio', pca.explained_variance_ratio_\n",
    "print 'pca2 variance ratio', pca2.explained_variance_ratio_"
   ]
  },
  {
   "cell_type": "code",
   "execution_count": 41,
   "metadata": {
    "collapsed": true
   },
   "outputs": [],
   "source": [
    "# I have no idea what I'm doing here...taking a guess.\n",
    "# Going to use pca2 to transform my 'X2_stand' set of data and then cluster it \n",
    "X2_pca2 = pca2.transform(X2_stand)"
   ]
  },
  {
   "cell_type": "code",
   "execution_count": 42,
   "metadata": {
    "collapsed": false
   },
   "outputs": [],
   "source": [
    "# now to cluster it via KMeans into two groups (for bad and good?)\n",
    "km2 = KMeans(n_clusters=2)\n",
    "km2_results = km2.fit(X2_pca2)\n",
    "labels = km2_results.labels_\n",
    "centroids = km2_results.cluster_centers_"
   ]
  },
  {
   "cell_type": "code",
   "execution_count": 43,
   "metadata": {
    "collapsed": false
   },
   "outputs": [
    {
     "name": "stdout",
     "output_type": "stream",
     "text": [
      "(799, 20)\n",
      "(799, 2)\n"
     ]
    }
   ],
   "source": [
    "# just checking that I have all the rows\n",
    "print X.shape\n",
    "print X2_pca2.shape"
   ]
  },
  {
   "cell_type": "code",
   "execution_count": 44,
   "metadata": {
    "collapsed": false
   },
   "outputs": [
    {
     "data": {
      "text/plain": [
       "array([0, 1], dtype=int32)"
      ]
     },
     "execution_count": 44,
     "metadata": {},
     "output_type": "execute_result"
    }
   ],
   "source": [
    "# got the right about of labels?\n",
    "np.unique(labels)"
   ]
  },
  {
   "cell_type": "code",
   "execution_count": 45,
   "metadata": {
    "collapsed": false
   },
   "outputs": [
    {
     "data": {
      "image/png": "[encoded data removed]",
      "text/plain": [
       "<matplotlib.figure.Figure at 0x115dc2f90>"
      ]
     },
     "metadata": {},
     "output_type": "display_data"
    }
   ],
   "source": [
    "# lets graph that...\n",
    "\n",
    "fig, (ax1) = plt.subplots(1, figsize=(14,5))\n",
    "\n",
    "ax1.scatter(X2_pca2[:,0], X2_pca2[:,1], s=40, c=labels, cmap=plt.cm.prism) \n",
    "ax1.set_title('K-Means Clustering Results with K=2')\n",
    "ax1.scatter(centroids[:,0], centroids[:,1], marker='+', s=100, c='k', linewidth=2)\n",
    "plt.show()"
   ]
  },
  {
   "cell_type": "code",
   "execution_count": 46,
   "metadata": {
    "collapsed": false
   },
   "outputs": [],
   "source": [
    "# original dataframe, add column for classification\n",
    "df_all['g2b'] = labels"
   ]
  },
  {
   "cell_type": "code",
   "execution_count": 47,
   "metadata": {
    "collapsed": false
   },
   "outputs": [
    {
     "data": {
      "text/html": [
       "<div>\n",
       "<table border=\"1\" class=\"dataframe\">\n",
       "  <thead>\n",
       "    <tr style=\"text-align: right;\">\n",
       "      <th></th>\n",
       "      <th>airport</th>\n",
       "      <th>feature</th>\n",
       "      <th>value</th>\n",
       "    </tr>\n",
       "  </thead>\n",
       "  <tbody>\n",
       "    <tr>\n",
       "      <th>0</th>\n",
       "      <td>ORD</td>\n",
       "      <td>departure_cancellations</td>\n",
       "      <td>10892.000000</td>\n",
       "    </tr>\n",
       "    <tr>\n",
       "      <th>1</th>\n",
       "      <td>ORD</td>\n",
       "      <td>arrival_cancellations</td>\n",
       "      <td>11730.454545</td>\n",
       "    </tr>\n",
       "    <tr>\n",
       "      <th>2</th>\n",
       "      <td>ATL</td>\n",
       "      <td>departure_diversions</td>\n",
       "      <td>884.454545</td>\n",
       "    </tr>\n",
       "    <tr>\n",
       "      <th>3</th>\n",
       "      <td>DFW</td>\n",
       "      <td>arrival_diversions</td>\n",
       "      <td>1221.818182</td>\n",
       "    </tr>\n",
       "    <tr>\n",
       "      <th>4</th>\n",
       "      <td>ATL</td>\n",
       "      <td>departures_for_metric_computation</td>\n",
       "      <td>469004.000000</td>\n",
       "    </tr>\n",
       "    <tr>\n",
       "      <th>5</th>\n",
       "      <td>ATL</td>\n",
       "      <td>arrivals_for_metric_computation</td>\n",
       "      <td>465716.909091</td>\n",
       "    </tr>\n",
       "    <tr>\n",
       "      <th>6</th>\n",
       "      <td>OGG</td>\n",
       "      <td>percent_on-time_gate_departures</td>\n",
       "      <td>0.888100</td>\n",
       "    </tr>\n",
       "    <tr>\n",
       "      <th>7</th>\n",
       "      <td>OGG</td>\n",
       "      <td>percent_on-time_airport_departures</td>\n",
       "      <td>0.881027</td>\n",
       "    </tr>\n",
       "    <tr>\n",
       "      <th>8</th>\n",
       "      <td>OGG</td>\n",
       "      <td>percent_on-time_gate_arrivals</td>\n",
       "      <td>0.864709</td>\n",
       "    </tr>\n",
       "    <tr>\n",
       "      <th>9</th>\n",
       "      <td>HPN</td>\n",
       "      <td>average_gate_departure_delay</td>\n",
       "      <td>21.885455</td>\n",
       "    </tr>\n",
       "    <tr>\n",
       "      <th>10</th>\n",
       "      <td>JFK</td>\n",
       "      <td>average_taxi_out_time</td>\n",
       "      <td>28.612727</td>\n",
       "    </tr>\n",
       "    <tr>\n",
       "      <th>11</th>\n",
       "      <td>LGA</td>\n",
       "      <td>average_taxi_out_delay</td>\n",
       "      <td>11.985455</td>\n",
       "    </tr>\n",
       "    <tr>\n",
       "      <th>12</th>\n",
       "      <td>EWR</td>\n",
       "      <td>average_airport_departure_delay</td>\n",
       "      <td>27.867273</td>\n",
       "    </tr>\n",
       "    <tr>\n",
       "      <th>13</th>\n",
       "      <td>PHL</td>\n",
       "      <td>average_airborne_delay</td>\n",
       "      <td>6.354545</td>\n",
       "    </tr>\n",
       "    <tr>\n",
       "      <th>14</th>\n",
       "      <td>DFW</td>\n",
       "      <td>average_taxi_in_delay</td>\n",
       "      <td>4.181818</td>\n",
       "    </tr>\n",
       "    <tr>\n",
       "      <th>15</th>\n",
       "      <td>EWR</td>\n",
       "      <td>average_block_delay</td>\n",
       "      <td>5.265455</td>\n",
       "    </tr>\n",
       "    <tr>\n",
       "      <th>16</th>\n",
       "      <td>HPN</td>\n",
       "      <td>average_gate_arrival_delay</td>\n",
       "      <td>22.568182</td>\n",
       "    </tr>\n",
       "    <tr>\n",
       "      <th>17</th>\n",
       "      <td>ANC</td>\n",
       "      <td>latitude</td>\n",
       "      <td>61.174083</td>\n",
       "    </tr>\n",
       "    <tr>\n",
       "      <th>18</th>\n",
       "      <td>SJU</td>\n",
       "      <td>longitude</td>\n",
       "      <td>-66.002004</td>\n",
       "    </tr>\n",
       "  </tbody>\n",
       "</table>\n",
       "</div>"
      ],
      "text/plain": [
       "   airport                             feature          value\n",
       "0      ORD             departure_cancellations   10892.000000\n",
       "1      ORD               arrival_cancellations   11730.454545\n",
       "2      ATL                departure_diversions     884.454545\n",
       "3      DFW                  arrival_diversions    1221.818182\n",
       "4      ATL   departures_for_metric_computation  469004.000000\n",
       "5      ATL     arrivals_for_metric_computation  465716.909091\n",
       "6      OGG     percent_on-time_gate_departures       0.888100\n",
       "7      OGG  percent_on-time_airport_departures       0.881027\n",
       "8      OGG       percent_on-time_gate_arrivals       0.864709\n",
       "9      HPN        average_gate_departure_delay      21.885455\n",
       "10     JFK               average_taxi_out_time      28.612727\n",
       "11     LGA              average_taxi_out_delay      11.985455\n",
       "12     EWR     average_airport_departure_delay      27.867273\n",
       "13     PHL              average_airborne_delay       6.354545\n",
       "14     DFW               average_taxi_in_delay       4.181818\n",
       "15     EWR                 average_block_delay       5.265455\n",
       "16     HPN          average_gate_arrival_delay      22.568182\n",
       "17     ANC                            latitude      61.174083\n",
       "18     SJU                           longitude     -66.002004"
      ]
     },
     "execution_count": 47,
     "metadata": {},
     "output_type": "execute_result"
    }
   ],
   "source": [
    "# what does 0 or 1 mean? Does it line up with my list of bad aiports?\n",
    "worse_df"
   ]
  },
  {
   "cell_type": "code",
   "execution_count": 48,
   "metadata": {
    "collapsed": false
   },
   "outputs": [
    {
     "data": {
      "text/html": [
       "<div>\n",
       "<table border=\"1\" class=\"dataframe\">\n",
       "  <thead>\n",
       "    <tr style=\"text-align: right;\">\n",
       "      <th></th>\n",
       "      <th>g2b</th>\n",
       "    </tr>\n",
       "    <tr>\n",
       "      <th>airport</th>\n",
       "      <th></th>\n",
       "    </tr>\n",
       "  </thead>\n",
       "  <tbody>\n",
       "    <tr>\n",
       "      <th>ORD</th>\n",
       "      <td>1.000000</td>\n",
       "    </tr>\n",
       "    <tr>\n",
       "      <th>ATL</th>\n",
       "      <td>1.000000</td>\n",
       "    </tr>\n",
       "    <tr>\n",
       "      <th>EWR</th>\n",
       "      <td>1.000000</td>\n",
       "    </tr>\n",
       "    <tr>\n",
       "      <th>DFW</th>\n",
       "      <td>1.000000</td>\n",
       "    </tr>\n",
       "    <tr>\n",
       "      <th>LGA</th>\n",
       "      <td>1.000000</td>\n",
       "    </tr>\n",
       "    <tr>\n",
       "      <th>IAH</th>\n",
       "      <td>1.000000</td>\n",
       "    </tr>\n",
       "    <tr>\n",
       "      <th>JFK</th>\n",
       "      <td>1.000000</td>\n",
       "    </tr>\n",
       "    <tr>\n",
       "      <th>PHL</th>\n",
       "      <td>0.909091</td>\n",
       "    </tr>\n",
       "    <tr>\n",
       "      <th>LAX</th>\n",
       "      <td>0.909091</td>\n",
       "    </tr>\n",
       "    <tr>\n",
       "      <th>DEN</th>\n",
       "      <td>0.818182</td>\n",
       "    </tr>\n",
       "    <tr>\n",
       "      <th>DTW</th>\n",
       "      <td>0.727273</td>\n",
       "    </tr>\n",
       "    <tr>\n",
       "      <th>BOS</th>\n",
       "      <td>0.727273</td>\n",
       "    </tr>\n",
       "    <tr>\n",
       "      <th>SFO</th>\n",
       "      <td>0.636364</td>\n",
       "    </tr>\n",
       "    <tr>\n",
       "      <th>CLT</th>\n",
       "      <td>0.636364</td>\n",
       "    </tr>\n",
       "    <tr>\n",
       "      <th>IAD</th>\n",
       "      <td>0.454545</td>\n",
       "    </tr>\n",
       "    <tr>\n",
       "      <th>MSP</th>\n",
       "      <td>0.454545</td>\n",
       "    </tr>\n",
       "    <tr>\n",
       "      <th>PHX</th>\n",
       "      <td>0.272727</td>\n",
       "    </tr>\n",
       "    <tr>\n",
       "      <th>LAS</th>\n",
       "      <td>0.272727</td>\n",
       "    </tr>\n",
       "    <tr>\n",
       "      <th>CVG</th>\n",
       "      <td>0.181818</td>\n",
       "    </tr>\n",
       "    <tr>\n",
       "      <th>HPN</th>\n",
       "      <td>0.090909</td>\n",
       "    </tr>\n",
       "    <tr>\n",
       "      <th>MEM</th>\n",
       "      <td>0.090909</td>\n",
       "    </tr>\n",
       "    <tr>\n",
       "      <th>MIA</th>\n",
       "      <td>0.090909</td>\n",
       "    </tr>\n",
       "    <tr>\n",
       "      <th>MDW</th>\n",
       "      <td>0.090909</td>\n",
       "    </tr>\n",
       "    <tr>\n",
       "      <th>DCA</th>\n",
       "      <td>0.090909</td>\n",
       "    </tr>\n",
       "    <tr>\n",
       "      <th>ONT</th>\n",
       "      <td>0.000000</td>\n",
       "    </tr>\n",
       "    <tr>\n",
       "      <th>PSP</th>\n",
       "      <td>0.000000</td>\n",
       "    </tr>\n",
       "    <tr>\n",
       "      <th>OXR</th>\n",
       "      <td>0.000000</td>\n",
       "    </tr>\n",
       "    <tr>\n",
       "      <th>PBI</th>\n",
       "      <td>0.000000</td>\n",
       "    </tr>\n",
       "    <tr>\n",
       "      <th>TPA</th>\n",
       "      <td>0.000000</td>\n",
       "    </tr>\n",
       "    <tr>\n",
       "      <th>PDX</th>\n",
       "      <td>0.000000</td>\n",
       "    </tr>\n",
       "    <tr>\n",
       "      <th>...</th>\n",
       "      <td>...</td>\n",
       "    </tr>\n",
       "    <tr>\n",
       "      <th>SDF</th>\n",
       "      <td>0.000000</td>\n",
       "    </tr>\n",
       "    <tr>\n",
       "      <th>SAN</th>\n",
       "      <td>0.000000</td>\n",
       "    </tr>\n",
       "    <tr>\n",
       "      <th>ABQ</th>\n",
       "      <td>0.000000</td>\n",
       "    </tr>\n",
       "    <tr>\n",
       "      <th>OMA</th>\n",
       "      <td>0.000000</td>\n",
       "    </tr>\n",
       "    <tr>\n",
       "      <th>HNL</th>\n",
       "      <td>0.000000</td>\n",
       "    </tr>\n",
       "    <tr>\n",
       "      <th>AUS</th>\n",
       "      <td>0.000000</td>\n",
       "    </tr>\n",
       "    <tr>\n",
       "      <th>BDL</th>\n",
       "      <td>0.000000</td>\n",
       "    </tr>\n",
       "    <tr>\n",
       "      <th>BHM</th>\n",
       "      <td>0.000000</td>\n",
       "    </tr>\n",
       "    <tr>\n",
       "      <th>BNA</th>\n",
       "      <td>0.000000</td>\n",
       "    </tr>\n",
       "    <tr>\n",
       "      <th>BUF</th>\n",
       "      <td>0.000000</td>\n",
       "    </tr>\n",
       "    <tr>\n",
       "      <th>BUR</th>\n",
       "      <td>0.000000</td>\n",
       "    </tr>\n",
       "    <tr>\n",
       "      <th>BWI</th>\n",
       "      <td>0.000000</td>\n",
       "    </tr>\n",
       "    <tr>\n",
       "      <th>CLE</th>\n",
       "      <td>0.000000</td>\n",
       "    </tr>\n",
       "    <tr>\n",
       "      <th>DAL</th>\n",
       "      <td>0.000000</td>\n",
       "    </tr>\n",
       "    <tr>\n",
       "      <th>DAY</th>\n",
       "      <td>0.000000</td>\n",
       "    </tr>\n",
       "    <tr>\n",
       "      <th>FLL</th>\n",
       "      <td>0.000000</td>\n",
       "    </tr>\n",
       "    <tr>\n",
       "      <th>HOU</th>\n",
       "      <td>0.000000</td>\n",
       "    </tr>\n",
       "    <tr>\n",
       "      <th>OGG</th>\n",
       "      <td>0.000000</td>\n",
       "    </tr>\n",
       "    <tr>\n",
       "      <th>IND</th>\n",
       "      <td>0.000000</td>\n",
       "    </tr>\n",
       "    <tr>\n",
       "      <th>ISP</th>\n",
       "      <td>0.000000</td>\n",
       "    </tr>\n",
       "    <tr>\n",
       "      <th>JAX</th>\n",
       "      <td>0.000000</td>\n",
       "    </tr>\n",
       "    <tr>\n",
       "      <th>LGB</th>\n",
       "      <td>0.000000</td>\n",
       "    </tr>\n",
       "    <tr>\n",
       "      <th>MCI</th>\n",
       "      <td>0.000000</td>\n",
       "    </tr>\n",
       "    <tr>\n",
       "      <th>MCO</th>\n",
       "      <td>0.000000</td>\n",
       "    </tr>\n",
       "    <tr>\n",
       "      <th>ANC</th>\n",
       "      <td>0.000000</td>\n",
       "    </tr>\n",
       "    <tr>\n",
       "      <th>MHT</th>\n",
       "      <td>0.000000</td>\n",
       "    </tr>\n",
       "    <tr>\n",
       "      <th>MKE</th>\n",
       "      <td>0.000000</td>\n",
       "    </tr>\n",
       "    <tr>\n",
       "      <th>MSY</th>\n",
       "      <td>0.000000</td>\n",
       "    </tr>\n",
       "    <tr>\n",
       "      <th>OAK</th>\n",
       "      <td>0.000000</td>\n",
       "    </tr>\n",
       "    <tr>\n",
       "      <th>TUS</th>\n",
       "      <td>0.000000</td>\n",
       "    </tr>\n",
       "  </tbody>\n",
       "</table>\n",
       "<p>74 rows × 1 columns</p>\n",
       "</div>"
      ],
      "text/plain": [
       "              g2b\n",
       "airport          \n",
       "ORD      1.000000\n",
       "ATL      1.000000\n",
       "EWR      1.000000\n",
       "DFW      1.000000\n",
       "LGA      1.000000\n",
       "IAH      1.000000\n",
       "JFK      1.000000\n",
       "PHL      0.909091\n",
       "LAX      0.909091\n",
       "DEN      0.818182\n",
       "DTW      0.727273\n",
       "BOS      0.727273\n",
       "SFO      0.636364\n",
       "CLT      0.636364\n",
       "IAD      0.454545\n",
       "MSP      0.454545\n",
       "PHX      0.272727\n",
       "LAS      0.272727\n",
       "CVG      0.181818\n",
       "HPN      0.090909\n",
       "MEM      0.090909\n",
       "MIA      0.090909\n",
       "MDW      0.090909\n",
       "DCA      0.090909\n",
       "ONT      0.000000\n",
       "PSP      0.000000\n",
       "OXR      0.000000\n",
       "PBI      0.000000\n",
       "TPA      0.000000\n",
       "PDX      0.000000\n",
       "...           ...\n",
       "SDF      0.000000\n",
       "SAN      0.000000\n",
       "ABQ      0.000000\n",
       "OMA      0.000000\n",
       "HNL      0.000000\n",
       "AUS      0.000000\n",
       "BDL      0.000000\n",
       "BHM      0.000000\n",
       "BNA      0.000000\n",
       "BUF      0.000000\n",
       "BUR      0.000000\n",
       "BWI      0.000000\n",
       "CLE      0.000000\n",
       "DAL      0.000000\n",
       "DAY      0.000000\n",
       "FLL      0.000000\n",
       "HOU      0.000000\n",
       "OGG      0.000000\n",
       "IND      0.000000\n",
       "ISP      0.000000\n",
       "JAX      0.000000\n",
       "LGB      0.000000\n",
       "MCI      0.000000\n",
       "MCO      0.000000\n",
       "ANC      0.000000\n",
       "MHT      0.000000\n",
       "MKE      0.000000\n",
       "MSY      0.000000\n",
       "OAK      0.000000\n",
       "TUS      0.000000\n",
       "\n",
       "[74 rows x 1 columns]"
      ]
     },
     "execution_count": 48,
     "metadata": {},
     "output_type": "execute_result"
    }
   ],
   "source": [
    "# seems to...\n",
    "# (0 = good, 1 = bad)\n",
    "# ORD, ATL, DFW, EWR, JFK and LGA were all in my worst list (worst_df)\n",
    "\n",
    "# except I forgot this was being done by year, so a few aiports were classified differently\n",
    "# on different years, thus returning a non-int value.\n",
    "\n",
    "goodness = pd.DataFrame(df_all.groupby(['airport'])['g2b'].mean()).sort_values('g2b', ascending=False)\n",
    "goodness"
   ]
  },
  {
   "cell_type": "code",
   "execution_count": 49,
   "metadata": {
    "collapsed": false
   },
   "outputs": [
    {
     "data": {
      "text/plain": [
       "17"
      ]
     },
     "execution_count": 49,
     "metadata": {},
     "output_type": "execute_result"
    }
   ],
   "source": [
    "# amount of non-int values for good/bad\n",
    "len(goodness[(goodness['g2b'] != 0) & (goodness['g2b'] != 1)])"
   ]
  },
  {
   "cell_type": "code",
   "execution_count": 50,
   "metadata": {
    "collapsed": false
   },
   "outputs": [
    {
     "data": {
      "text/html": [
       "<div>\n",
       "<table border=\"1\" class=\"dataframe\">\n",
       "  <thead>\n",
       "    <tr style=\"text-align: right;\">\n",
       "      <th></th>\n",
       "      <th>airport</th>\n",
       "      <th>g2b</th>\n",
       "      <th>year</th>\n",
       "    </tr>\n",
       "  </thead>\n",
       "  <tbody>\n",
       "    <tr>\n",
       "      <th>568</th>\n",
       "      <td>PHL</td>\n",
       "      <td>1</td>\n",
       "      <td>2004.0</td>\n",
       "    </tr>\n",
       "    <tr>\n",
       "      <th>569</th>\n",
       "      <td>PHL</td>\n",
       "      <td>1</td>\n",
       "      <td>2005.0</td>\n",
       "    </tr>\n",
       "    <tr>\n",
       "      <th>570</th>\n",
       "      <td>PHL</td>\n",
       "      <td>1</td>\n",
       "      <td>2006.0</td>\n",
       "    </tr>\n",
       "    <tr>\n",
       "      <th>571</th>\n",
       "      <td>PHL</td>\n",
       "      <td>1</td>\n",
       "      <td>2007.0</td>\n",
       "    </tr>\n",
       "    <tr>\n",
       "      <th>572</th>\n",
       "      <td>PHL</td>\n",
       "      <td>1</td>\n",
       "      <td>2008.0</td>\n",
       "    </tr>\n",
       "    <tr>\n",
       "      <th>573</th>\n",
       "      <td>PHL</td>\n",
       "      <td>1</td>\n",
       "      <td>2009.0</td>\n",
       "    </tr>\n",
       "    <tr>\n",
       "      <th>574</th>\n",
       "      <td>PHL</td>\n",
       "      <td>1</td>\n",
       "      <td>2010.0</td>\n",
       "    </tr>\n",
       "    <tr>\n",
       "      <th>575</th>\n",
       "      <td>PHL</td>\n",
       "      <td>1</td>\n",
       "      <td>2011.0</td>\n",
       "    </tr>\n",
       "    <tr>\n",
       "      <th>576</th>\n",
       "      <td>PHL</td>\n",
       "      <td>0</td>\n",
       "      <td>2012.0</td>\n",
       "    </tr>\n",
       "    <tr>\n",
       "      <th>577</th>\n",
       "      <td>PHL</td>\n",
       "      <td>1</td>\n",
       "      <td>2013.0</td>\n",
       "    </tr>\n",
       "    <tr>\n",
       "      <th>578</th>\n",
       "      <td>PHL</td>\n",
       "      <td>1</td>\n",
       "      <td>2014.0</td>\n",
       "    </tr>\n",
       "  </tbody>\n",
       "</table>\n",
       "</div>"
      ],
      "text/plain": [
       "    airport  g2b    year\n",
       "568     PHL    1  2004.0\n",
       "569     PHL    1  2005.0\n",
       "570     PHL    1  2006.0\n",
       "571     PHL    1  2007.0\n",
       "572     PHL    1  2008.0\n",
       "573     PHL    1  2009.0\n",
       "574     PHL    1  2010.0\n",
       "575     PHL    1  2011.0\n",
       "576     PHL    0  2012.0\n",
       "577     PHL    1  2013.0\n",
       "578     PHL    1  2014.0"
      ]
     },
     "execution_count": 50,
     "metadata": {},
     "output_type": "execute_result"
    }
   ],
   "source": [
    "# an example, Philidelphia, the first non-int score when the df is sorted from high to low\n",
    "# Philly had one year that wasn't classified as bad\n",
    "\n",
    "df_all[df_all['airport'] == 'PHL'][['airport', 'g2b', 'year']]"
   ]
  },
  {
   "cell_type": "code",
   "execution_count": 51,
   "metadata": {
    "collapsed": false
   },
   "outputs": [],
   "source": [
    "# now that I have a 1 or 0 classification for my dataframe, I'm going to run a logistical regression to define \n",
    "# feature importance\n",
    "from sklearn.linear_model import LogisticRegression\n",
    "from sklearn.model_selection import train_test_split"
   ]
  },
  {
   "cell_type": "code",
   "execution_count": 52,
   "metadata": {
    "collapsed": false
   },
   "outputs": [
    {
     "data": {
      "text/plain": [
       "LogisticRegression(C=1.0, class_weight=None, dual=False, fit_intercept=True,\n",
       "          intercept_scaling=1, max_iter=100, multi_class='ovr', n_jobs=1,\n",
       "          penalty='l1', random_state=None, solver='liblinear', tol=0.0001,\n",
       "          verbose=0, warm_start=False)"
      ]
     },
     "execution_count": 52,
     "metadata": {},
     "output_type": "execute_result"
    }
   ],
   "source": [
    "y = df_all['g2b']\n",
    "\n",
    "X_train, X_test, y_train, y_test = train_test_split(X_stand, y, test_size=0.3)\n",
    "\n",
    "log = LogisticRegression(penalty='l1')\n",
    "log.fit(X_train, y_train)"
   ]
  },
  {
   "cell_type": "code",
   "execution_count": 53,
   "metadata": {
    "collapsed": false
   },
   "outputs": [
    {
     "data": {
      "text/plain": [
       "0.9916666666666667"
      ]
     },
     "execution_count": 53,
     "metadata": {},
     "output_type": "execute_result"
    }
   ],
   "source": [
    "log.score(X_test, y_test)"
   ]
  },
  {
   "cell_type": "code",
   "execution_count": 54,
   "metadata": {
    "collapsed": false
   },
   "outputs": [
    {
     "data": {
      "text/plain": [
       "array([[ 0.24319633,  2.08960335,  1.37788241,  0.02877488,  0.77309519,\n",
       "         0.        ,  2.25616298,  0.        , -0.24412263,  0.        ,\n",
       "         0.        ,  0.01517877,  1.40071143,  0.4846124 ,  0.69780668,\n",
       "         1.4607824 ,  0.43291575,  0.88076624,  0.        ,  0.        ]])"
      ]
     },
     "execution_count": 54,
     "metadata": {},
     "output_type": "execute_result"
    }
   ],
   "source": [
    "log.coef_"
   ]
  },
  {
   "cell_type": "code",
   "execution_count": 55,
   "metadata": {
    "collapsed": false
   },
   "outputs": [
    {
     "data": {
      "text/plain": [
       "[(array([ 0.24319633,  2.08960335,  1.37788241,  0.02877488,  0.77309519,\n",
       "          0.        ,  2.25616298,  0.        , -0.24412263,  0.        ,\n",
       "          0.        ,  0.01517877,  1.40071143,  0.4846124 ,  0.69780668,\n",
       "          1.4607824 ,  0.43291575,  0.88076624,  0.        ,  0.        ]),\n",
       "  'year')]"
      ]
     },
     "execution_count": 55,
     "metadata": {},
     "output_type": "execute_result"
    }
   ],
   "source": [
    "zip(log.coef_, X.columns)"
   ]
  },
  {
   "cell_type": "code",
   "execution_count": 56,
   "metadata": {
    "collapsed": false
   },
   "outputs": [],
   "source": [
    "for i in log.coef_:\n",
    "    coefs = pd.DataFrame(zip(i, X.columns))"
   ]
  },
  {
   "cell_type": "code",
   "execution_count": 57,
   "metadata": {
    "collapsed": false
   },
   "outputs": [
    {
     "data": {
      "text/html": [
       "<div>\n",
       "<table border=\"1\" class=\"dataframe\">\n",
       "  <thead>\n",
       "    <tr style=\"text-align: right;\">\n",
       "      <th></th>\n",
       "      <th>0</th>\n",
       "      <th>1</th>\n",
       "    </tr>\n",
       "  </thead>\n",
       "  <tbody>\n",
       "    <tr>\n",
       "      <th>6</th>\n",
       "      <td>2.256163</td>\n",
       "      <td>arrivals_for_metric_computation</td>\n",
       "    </tr>\n",
       "    <tr>\n",
       "      <th>1</th>\n",
       "      <td>2.089603</td>\n",
       "      <td>departure_cancellations</td>\n",
       "    </tr>\n",
       "    <tr>\n",
       "      <th>15</th>\n",
       "      <td>1.460782</td>\n",
       "      <td>average_taxi_in_delay</td>\n",
       "    </tr>\n",
       "    <tr>\n",
       "      <th>12</th>\n",
       "      <td>1.400711</td>\n",
       "      <td>average_taxi_out_delay</td>\n",
       "    </tr>\n",
       "    <tr>\n",
       "      <th>2</th>\n",
       "      <td>1.377882</td>\n",
       "      <td>arrival_cancellations</td>\n",
       "    </tr>\n",
       "    <tr>\n",
       "      <th>17</th>\n",
       "      <td>0.880766</td>\n",
       "      <td>average_gate_arrival_delay</td>\n",
       "    </tr>\n",
       "    <tr>\n",
       "      <th>4</th>\n",
       "      <td>0.773095</td>\n",
       "      <td>arrival_diversions</td>\n",
       "    </tr>\n",
       "    <tr>\n",
       "      <th>14</th>\n",
       "      <td>0.697807</td>\n",
       "      <td>average_airborne_delay</td>\n",
       "    </tr>\n",
       "    <tr>\n",
       "      <th>13</th>\n",
       "      <td>0.484612</td>\n",
       "      <td>average_airport_departure_delay</td>\n",
       "    </tr>\n",
       "    <tr>\n",
       "      <th>16</th>\n",
       "      <td>0.432916</td>\n",
       "      <td>average_block_delay</td>\n",
       "    </tr>\n",
       "    <tr>\n",
       "      <th>0</th>\n",
       "      <td>0.243196</td>\n",
       "      <td>year</td>\n",
       "    </tr>\n",
       "    <tr>\n",
       "      <th>3</th>\n",
       "      <td>0.028775</td>\n",
       "      <td>departure_diversions</td>\n",
       "    </tr>\n",
       "    <tr>\n",
       "      <th>11</th>\n",
       "      <td>0.015179</td>\n",
       "      <td>average_taxi_out_time</td>\n",
       "    </tr>\n",
       "    <tr>\n",
       "      <th>18</th>\n",
       "      <td>0.000000</td>\n",
       "      <td>latitude</td>\n",
       "    </tr>\n",
       "    <tr>\n",
       "      <th>10</th>\n",
       "      <td>0.000000</td>\n",
       "      <td>average_gate_departure_delay</td>\n",
       "    </tr>\n",
       "    <tr>\n",
       "      <th>9</th>\n",
       "      <td>0.000000</td>\n",
       "      <td>percent_on-time_gate_arrivals</td>\n",
       "    </tr>\n",
       "    <tr>\n",
       "      <th>7</th>\n",
       "      <td>0.000000</td>\n",
       "      <td>percent_on-time_gate_departures</td>\n",
       "    </tr>\n",
       "    <tr>\n",
       "      <th>5</th>\n",
       "      <td>0.000000</td>\n",
       "      <td>departures_for_metric_computation</td>\n",
       "    </tr>\n",
       "    <tr>\n",
       "      <th>19</th>\n",
       "      <td>0.000000</td>\n",
       "      <td>longitude</td>\n",
       "    </tr>\n",
       "    <tr>\n",
       "      <th>8</th>\n",
       "      <td>-0.244123</td>\n",
       "      <td>percent_on-time_airport_departures</td>\n",
       "    </tr>\n",
       "  </tbody>\n",
       "</table>\n",
       "</div>"
      ],
      "text/plain": [
       "           0                                   1\n",
       "6   2.256163     arrivals_for_metric_computation\n",
       "1   2.089603             departure_cancellations\n",
       "15  1.460782               average_taxi_in_delay\n",
       "12  1.400711              average_taxi_out_delay\n",
       "2   1.377882               arrival_cancellations\n",
       "17  0.880766          average_gate_arrival_delay\n",
       "4   0.773095                  arrival_diversions\n",
       "14  0.697807              average_airborne_delay\n",
       "13  0.484612     average_airport_departure_delay\n",
       "16  0.432916                 average_block_delay\n",
       "0   0.243196                                year\n",
       "3   0.028775                departure_diversions\n",
       "11  0.015179               average_taxi_out_time\n",
       "18  0.000000                            latitude\n",
       "10  0.000000        average_gate_departure_delay\n",
       "9   0.000000       percent_on-time_gate_arrivals\n",
       "7   0.000000     percent_on-time_gate_departures\n",
       "5   0.000000   departures_for_metric_computation\n",
       "19  0.000000                           longitude\n",
       "8  -0.244123  percent_on-time_airport_departures"
      ]
     },
     "execution_count": 57,
     "metadata": {},
     "output_type": "execute_result"
    }
   ],
   "source": [
    "# hmmm....\n",
    "coefs.sort_values(0, ascending=False)"
   ]
  },
  {
   "cell_type": "markdown",
   "metadata": {},
   "source": [
    "#### In conclusion: \n",
    "I don't really know what I did here. Given the ridiculously high accuracy rate of the logistical regression I'm assuming something is wrong, but I don't know what. I also don't see, beyond the obvious fact that departure cancellations are bad and thus contribute to a 1 score for an airport, that anything useful was noted here."
   ]
  },
  {
   "cell_type": "code",
   "execution_count": null,
   "metadata": {
    "collapsed": true
   },
   "outputs": [],
   "source": []
  },
  {
   "cell_type": "code",
   "execution_count": null,
   "metadata": {
    "collapsed": true
   },
   "outputs": [],
   "source": []
  }
 ],
 "metadata": {
  "anaconda-cloud": {},
  "kernelspec": {
   "display_name": "Python [Root]",
   "language": "python",
   "name": "Python [Root]"
  },
  "language_info": {
   "codemirror_mode": {
    "name": "ipython",
    "version": 2
   },
   "file_extension": ".py",
   "mimetype": "text/x-python",
   "name": "python",
   "nbconvert_exporter": "python",
   "pygments_lexer": "ipython2",
   "version": "2.7.12"
  }
 },
 "nbformat": 4,
 "nbformat_minor": 0
}
