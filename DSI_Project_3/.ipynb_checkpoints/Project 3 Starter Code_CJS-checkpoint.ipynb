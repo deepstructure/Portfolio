{
 "cells": [
  {
   "cell_type": "markdown",
   "metadata": {},
   "source": [
    "# Getting started\n",
    "\n",
    "Once you've chosen your scenario, download the data from [the Iowa website](https://data.iowa.gov/Economy/Iowa-Liquor-Sales/m3tr-qhgy) in csv format. Start by loading the data with pandas. You may need to parse the date columns appropriately."
   ]
  },
  {
   "cell_type": "code",
   "execution_count": 192,
   "metadata": {
    "collapsed": false
   },
   "outputs": [
    {
     "data": {
      "text/plain": [
       "Date                        0\n",
       "Store Number                0\n",
       "City                        0\n",
       "Zip Code                    0\n",
       "County Number            1077\n",
       "County                   1077\n",
       "Category                   68\n",
       "Category Name             632\n",
       "Vendor Number               0\n",
       "Item Number                 0\n",
       "Item Description            0\n",
       "Bottle Volume (ml)          0\n",
       "State Bottle Cost           0\n",
       "State Bottle Retail         0\n",
       "Bottles Sold                0\n",
       "Sale (Dollars)              0\n",
       "Volume Sold (Liters)        0\n",
       "Volume Sold (Gallons)       0\n",
       "dtype: int64"
      ]
     },
     "execution_count": 192,
     "metadata": {},
     "output_type": "execute_result"
    }
   ],
   "source": [
    "import pandas as pd\n",
    "\n",
    "## Load the data into a DataFrame\n",
    "df = pd.read_csv('assets/Iowa_Liquor_sales_sample_10pct.csv')\n",
    "df.isnull().sum()"
   ]
  },
  {
   "cell_type": "code",
   "execution_count": 193,
   "metadata": {
    "collapsed": false
   },
   "outputs": [
    {
     "data": {
      "text/html": [
       "<div>\n",
       "<table border=\"1\" class=\"dataframe\">\n",
       "  <thead>\n",
       "    <tr style=\"text-align: right;\">\n",
       "      <th></th>\n",
       "      <th>Category</th>\n",
       "      <th>Category Name</th>\n",
       "    </tr>\n",
       "  </thead>\n",
       "  <tbody>\n",
       "    <tr>\n",
       "      <th>0</th>\n",
       "      <td>1051100.0</td>\n",
       "      <td>APRICOT BRANDIES</td>\n",
       "    </tr>\n",
       "    <tr>\n",
       "      <th>1</th>\n",
       "      <td>1011100.0</td>\n",
       "      <td>BLENDED WHISKIES</td>\n",
       "    </tr>\n",
       "    <tr>\n",
       "      <th>2</th>\n",
       "      <td>1011200.0</td>\n",
       "      <td>STRAIGHT BOURBON WHISKIES</td>\n",
       "    </tr>\n",
       "    <tr>\n",
       "      <th>3</th>\n",
       "      <td>1071100.0</td>\n",
       "      <td>AMERICAN COCKTAILS</td>\n",
       "    </tr>\n",
       "    <tr>\n",
       "      <th>4</th>\n",
       "      <td>1031080.0</td>\n",
       "      <td>VODKA 80 PROOF</td>\n",
       "    </tr>\n",
       "  </tbody>\n",
       "</table>\n",
       "</div>"
      ],
      "text/plain": [
       "    Category              Category Name\n",
       "0  1051100.0           APRICOT BRANDIES\n",
       "1  1011100.0           BLENDED WHISKIES\n",
       "2  1011200.0  STRAIGHT BOURBON WHISKIES\n",
       "3  1071100.0         AMERICAN COCKTAILS\n",
       "4  1031080.0             VODKA 80 PROOF"
      ]
     },
     "execution_count": 193,
     "metadata": {},
     "output_type": "execute_result"
    }
   ],
   "source": [
    "df[['Category','Category Name']].head()\n"
   ]
  },
  {
   "cell_type": "code",
   "execution_count": 243,
   "metadata": {
    "collapsed": false
   },
   "outputs": [
    {
     "data": {
      "text/plain": [
       "['APRICOT BRANDIES',\n",
       " 'BLENDED WHISKIES',\n",
       " 'STRAIGHT BOURBON WHISKIES',\n",
       " 'AMERICAN COCKTAILS',\n",
       " 'VODKA 80 PROOF',\n",
       " 'AMERICAN DRY GINS',\n",
       " 'AMERICAN GRAPE BRANDIES',\n",
       " 'CANADIAN WHISKIES',\n",
       " 'IMPORTED VODKA',\n",
       " 'CINNAMON SCHNAPPS',\n",
       " 'SINGLE BARREL BOURBON WHISKIES',\n",
       " 'PEPPERMINT SCHNAPPS',\n",
       " 'VODKA FLAVORED',\n",
       " '100 PROOF VODKA',\n",
       " 'DISTILLED SPIRITS SPECIALTY',\n",
       " 'TEQUILA',\n",
       " 'TENNESSEE WHISKIES',\n",
       " 'WHISKEY LIQUEUR',\n",
       " 'MISC. AMERICAN CORDIALS & LIQUEURS',\n",
       " 'APPLE SCHNAPPS',\n",
       " 'CHERRY BRANDIES',\n",
       " 'MISC. IMPORTED CORDIALS & LIQUEURS',\n",
       " 'IMPORTED DRY GINS',\n",
       " 'WATERMELON SCHNAPPS',\n",
       " 'BLACKBERRY BRANDIES',\n",
       " 'SINGLE MALT SCOTCH',\n",
       " 'PUERTO RICO & VIRGIN ISLANDS RUM',\n",
       " 'SPICED RUM',\n",
       " 'CREAM LIQUEURS',\n",
       " 'SCOTCH WHISKIES',\n",
       " 'IMPORTED VODKA - MISC',\n",
       " 'IRISH WHISKIES',\n",
       " 'FLAVORED RUM',\n",
       " 'IMPORTED GRAPE BRANDIES',\n",
       " 'SPEARMINT SCHNAPPS',\n",
       " 'RASPBERRY SCHNAPPS',\n",
       " 'TRIPLE SEC',\n",
       " 'AMERICAN AMARETTO',\n",
       " 'IMPORTED SCHNAPPS',\n",
       " 'STRAIGHT RYE WHISKIES',\n",
       " 'PEACH SCHNAPPS',\n",
       " 'MISCELLANEOUS  BRANDIES',\n",
       " 'STRAWBERRY SCHNAPPS',\n",
       " 'AMERICAN ALCOHOL',\n",
       " 'JAMAICA RUM',\n",
       " 'BARBADOS RUM',\n",
       " 'COFFEE LIQUEURS',\n",
       " 'ROOT BEER SCHNAPPS',\n",
       " 'DECANTERS & SPECIALTY PACKAGES',\n",
       " 'GRAPE SCHNAPPS',\n",
       " 'OTHER PROOF VODKA',\n",
       " nan,\n",
       " 'IMPORTED AMARETTO',\n",
       " 'BUTTERSCOTCH SCHNAPPS',\n",
       " 'ANISETTE',\n",
       " 'CREME DE ALMOND',\n",
       " 'ROCK & RYE',\n",
       " 'PEACH BRANDIES',\n",
       " 'FLAVORED GINS',\n",
       " 'MISCELLANEOUS SCHNAPPS',\n",
       " 'WHITE CREME DE MENTHE',\n",
       " 'WHITE CREME DE CACAO',\n",
       " 'TROPICAL FRUIT SCHNAPPS',\n",
       " 'GREEN CREME DE MENTHE',\n",
       " 'LOW PROOF VODKA',\n",
       " 'AMERICAN SLOE GINS',\n",
       " 'DARK CREME DE CACAO',\n",
       " 'JAPANESE WHISKY',\n",
       " 'BOTTLED IN BOND BOURBON',\n",
       " 'CORN WHISKIES',\n",
       " 'HIGH PROOF BEER - AMERICAN',\n",
       " 'AMARETTO - IMPORTED']"
      ]
     },
     "execution_count": 243,
     "metadata": {},
     "output_type": "execute_result"
    }
   ],
   "source": [
    "category_names = list(df['Category Name'].unique())  # create list of unique category names to compare against\n",
    "category_nums = list(df['Category'].unique()) # create list of unique category numbers\n",
    "category_names"
   ]
  },
  {
   "cell_type": "code",
   "execution_count": 246,
   "metadata": {
    "collapsed": false
   },
   "outputs": [],
   "source": [
    "# del category_names[51]"
   ]
  },
  {
   "cell_type": "code",
   "execution_count": 245,
   "metadata": {
    "collapsed": false
   },
   "outputs": [
    {
     "data": {
      "text/plain": [
       "['100 PROOF VODKA',\n",
       " 'AMARETTO - IMPORTED',\n",
       " 'AMERICAN ALCOHOL',\n",
       " 'AMERICAN AMARETTO',\n",
       " 'AMERICAN COCKTAILS',\n",
       " 'AMERICAN DRY GINS',\n",
       " 'AMERICAN GRAPE BRANDIES',\n",
       " 'AMERICAN SLOE GINS',\n",
       " 'ANISETTE',\n",
       " 'APPLE SCHNAPPS',\n",
       " 'APRICOT BRANDIES',\n",
       " 'BARBADOS RUM',\n",
       " 'BLACKBERRY BRANDIES',\n",
       " 'BLENDED WHISKIES',\n",
       " 'BOTTLED IN BOND BOURBON',\n",
       " 'BUTTERSCOTCH SCHNAPPS',\n",
       " 'CANADIAN WHISKIES',\n",
       " 'CHERRY BRANDIES',\n",
       " 'CINNAMON SCHNAPPS',\n",
       " 'COFFEE LIQUEURS',\n",
       " 'CORN WHISKIES',\n",
       " 'CREAM LIQUEURS',\n",
       " 'CREME DE ALMOND',\n",
       " 'DARK CREME DE CACAO',\n",
       " 'DECANTERS & SPECIALTY PACKAGES',\n",
       " 'DISTILLED SPIRITS SPECIALTY',\n",
       " 'FLAVORED GINS',\n",
       " 'FLAVORED RUM',\n",
       " 'GRAPE SCHNAPPS',\n",
       " 'GREEN CREME DE MENTHE',\n",
       " 'HIGH PROOF BEER - AMERICAN',\n",
       " 'IMPORTED AMARETTO',\n",
       " 'IMPORTED DRY GINS',\n",
       " 'IMPORTED GRAPE BRANDIES',\n",
       " 'IMPORTED SCHNAPPS',\n",
       " 'IMPORTED VODKA',\n",
       " 'IMPORTED VODKA - MISC',\n",
       " 'IRISH WHISKIES',\n",
       " 'JAMAICA RUM',\n",
       " 'JAPANESE WHISKY',\n",
       " 'LOW PROOF VODKA',\n",
       " 'MISC. AMERICAN CORDIALS & LIQUEURS',\n",
       " 'MISC. IMPORTED CORDIALS & LIQUEURS',\n",
       " 'MISCELLANEOUS  BRANDIES',\n",
       " 'MISCELLANEOUS SCHNAPPS',\n",
       " 'OTHER PROOF VODKA',\n",
       " 'PEACH BRANDIES',\n",
       " 'PEACH SCHNAPPS',\n",
       " 'PEPPERMINT SCHNAPPS',\n",
       " 'PUERTO RICO & VIRGIN ISLANDS RUM',\n",
       " 'RASPBERRY SCHNAPPS',\n",
       " 'ROCK & RYE',\n",
       " 'ROOT BEER SCHNAPPS',\n",
       " 'SCOTCH WHISKIES',\n",
       " 'SINGLE BARREL BOURBON WHISKIES',\n",
       " 'SINGLE MALT SCOTCH',\n",
       " 'SPEARMINT SCHNAPPS',\n",
       " 'SPICED RUM',\n",
       " 'STRAIGHT BOURBON WHISKIES',\n",
       " 'STRAIGHT RYE WHISKIES',\n",
       " 'STRAWBERRY SCHNAPPS',\n",
       " 'TENNESSEE WHISKIES',\n",
       " 'TEQUILA',\n",
       " 'TRIPLE SEC',\n",
       " 'TROPICAL FRUIT SCHNAPPS',\n",
       " 'VODKA 80 PROOF',\n",
       " 'VODKA FLAVORED',\n",
       " 'WATERMELON SCHNAPPS',\n",
       " 'WHISKEY LIQUEUR',\n",
       " 'WHITE CREME DE CACAO',\n",
       " 'WHITE CREME DE MENTHE']"
      ]
     },
     "execution_count": 245,
     "metadata": {},
     "output_type": "execute_result"
    }
   ],
   "source": [
    "sorted(category_names)"
   ]
  },
  {
   "cell_type": "code",
   "execution_count": 196,
   "metadata": {
    "collapsed": false
   },
   "outputs": [
    {
     "data": {
      "text/plain": [
       "68"
      ]
     },
     "execution_count": 196,
     "metadata": {},
     "output_type": "execute_result"
    }
   ],
   "source": [
    "# df.loc[~df['Category Name'].isin(category_names)] # just the rows that are NaN for Category Name column\n",
    "\n",
    "# amount missing both values; turns out it's exactly the same as the NaN amount for Category\n",
    "# so there are no Category nans that have a value in the Category Name; i.e, no reverse engineering there\n",
    "len(df[df['Category Name'].isnull() & (df['Category'].isnull())]) \n"
   ]
  },
  {
   "cell_type": "code",
   "execution_count": 222,
   "metadata": {
    "collapsed": false
   },
   "outputs": [],
   "source": [
    "# creates a dictionary of the unique Category items and their associated Category name\n",
    "category_dict = {}\n",
    "for i, n in enumerate (df['Category']):\n",
    "    if n not in category_dict.keys():\n",
    "        if not pd.isnull(n):\n",
    "            if not pd.isnull(df['Category Name'][i]):\n",
    "                category_dict[n] = df['Category Name'][i]"
   ]
  },
  {
   "cell_type": "code",
   "execution_count": 223,
   "metadata": {
    "collapsed": false
   },
   "outputs": [
    {
     "data": {
      "text/plain": [
       "{1011100.0: 'BLENDED WHISKIES',\n",
       " 1011200.0: 'STRAIGHT BOURBON WHISKIES',\n",
       " 1011250.0: 'SINGLE BARREL BOURBON WHISKIES',\n",
       " 1011300.0: 'TENNESSEE WHISKIES',\n",
       " 1011400.0: 'BOTTLED IN BOND BOURBON',\n",
       " 1011500.0: 'STRAIGHT RYE WHISKIES',\n",
       " 1011600.0: 'CORN WHISKIES',\n",
       " 1012100.0: 'CANADIAN WHISKIES',\n",
       " 1012200.0: 'SCOTCH WHISKIES',\n",
       " 1012210.0: 'SINGLE MALT SCOTCH',\n",
       " 1012300.0: 'IRISH WHISKIES',\n",
       " 1012400.0: 'JAPANESE WHISKY',\n",
       " 1022100.0: 'TEQUILA',\n",
       " 1031080.0: 'VODKA 80 PROOF',\n",
       " 1031090.0: 'OTHER PROOF VODKA',\n",
       " 1031100.0: '100 PROOF VODKA',\n",
       " 1031110.0: 'LOW PROOF VODKA',\n",
       " 1031200.0: 'VODKA FLAVORED',\n",
       " 1032080.0: 'IMPORTED VODKA',\n",
       " 1032200.0: 'IMPORTED VODKA - MISC',\n",
       " 1041100.0: 'AMERICAN DRY GINS',\n",
       " 1041150.0: 'FLAVORED GINS',\n",
       " 1041200.0: 'AMERICAN SLOE GINS',\n",
       " 1042100.0: 'IMPORTED DRY GINS',\n",
       " 1051010.0: 'AMERICAN GRAPE BRANDIES',\n",
       " 1051100.0: 'APRICOT BRANDIES',\n",
       " 1051110.0: 'BLACKBERRY BRANDIES',\n",
       " 1051120.0: 'CHERRY BRANDIES',\n",
       " 1051140.0: 'PEACH BRANDIES',\n",
       " 1051150.0: 'MISCELLANEOUS  BRANDIES',\n",
       " 1052010.0: 'IMPORTED GRAPE BRANDIES',\n",
       " 1062050.0: 'BARBADOS RUM',\n",
       " 1062100.0: 'JAMAICA RUM',\n",
       " 1062200.0: 'PUERTO RICO & VIRGIN ISLANDS RUM',\n",
       " 1062300.0: 'FLAVORED RUM',\n",
       " 1062310.0: 'SPICED RUM',\n",
       " 1071100.0: 'AMERICAN COCKTAILS',\n",
       " 1081010.0: 'AMERICAN AMARETTO',\n",
       " 1081015.0: 'IMPORTED AMARETTO',\n",
       " 1081020.0: 'ANISETTE',\n",
       " 1081030.0: 'COFFEE LIQUEURS',\n",
       " 1081200.0: 'CREAM LIQUEURS',\n",
       " 1081210.0: 'CREME DE ALMOND',\n",
       " 1081220.0: 'DARK CREME DE CACAO',\n",
       " 1081230.0: 'WHITE CREME DE CACAO',\n",
       " 1081240.0: 'GREEN CREME DE MENTHE',\n",
       " 1081250.0: 'WHITE CREME DE MENTHE',\n",
       " 1081300.0: 'PEPPERMINT SCHNAPPS',\n",
       " 1081305.0: 'APPLE SCHNAPPS',\n",
       " 1081312.0: 'BUTTERSCOTCH SCHNAPPS',\n",
       " 1081315.0: 'CINNAMON SCHNAPPS',\n",
       " 1081317.0: 'GRAPE SCHNAPPS',\n",
       " 1081330.0: 'PEACH SCHNAPPS',\n",
       " 1081335.0: 'RASPBERRY SCHNAPPS',\n",
       " 1081340.0: 'ROOT BEER SCHNAPPS',\n",
       " 1081350.0: 'SPEARMINT SCHNAPPS',\n",
       " 1081355.0: 'STRAWBERRY SCHNAPPS',\n",
       " 1081365.0: 'TROPICAL FRUIT SCHNAPPS',\n",
       " 1081370.0: 'WATERMELON SCHNAPPS',\n",
       " 1081380.0: 'MISCELLANEOUS SCHNAPPS',\n",
       " 1081390.0: 'IMPORTED SCHNAPPS',\n",
       " 1081400.0: 'TRIPLE SEC',\n",
       " 1081500.0: 'ROCK & RYE',\n",
       " 1081600.0: 'WHISKEY LIQUEUR',\n",
       " 1081700.0: 'DISTILLED SPIRITS SPECIALTY',\n",
       " 1081900.0: 'MISC. AMERICAN CORDIALS & LIQUEURS',\n",
       " 1082010.0: 'AMARETTO - IMPORTED',\n",
       " 1082015.0: 'IMPORTED AMARETTO',\n",
       " 1082900.0: 'MISC. IMPORTED CORDIALS & LIQUEURS',\n",
       " 1101100.0: 'AMERICAN ALCOHOL',\n",
       " 1501100.0: 'HIGH PROOF BEER - AMERICAN',\n",
       " 1701100.0: 'DECANTERS & SPECIALTY PACKAGES'}"
      ]
     },
     "execution_count": 223,
     "metadata": {},
     "output_type": "execute_result"
    }
   ],
   "source": [
    "category_dict"
   ]
  },
  {
   "cell_type": "code",
   "execution_count": 228,
   "metadata": {
    "collapsed": false
   },
   "outputs": [
    {
     "data": {
      "text/plain": [
       "1082100.0"
      ]
     },
     "execution_count": 228,
     "metadata": {},
     "output_type": "execute_result"
    }
   ],
   "source": [
    "df['Category'][22530]\n"
   ]
  },
  {
   "cell_type": "code",
   "execution_count": 230,
   "metadata": {
    "collapsed": false
   },
   "outputs": [
    {
     "name": "stdout",
     "output_type": "stream",
     "text": [
      "None\n"
     ]
    }
   ],
   "source": [
    "print category_dict.get(1082100.0, None)"
   ]
  },
  {
   "cell_type": "code",
   "execution_count": 236,
   "metadata": {
    "collapsed": false
   },
   "outputs": [],
   "source": [
    "for i, n in enumerate(df['Category Name']):\n",
    "    if pd.isnull(n):\n",
    "        x = df['Category'][i]\n",
    "        if category_dict.get(x, None):\n",
    "            print 'replace value is:', category_dict.get(x, None)\n",
    "\n",
    "# df.ix[i,'Category Name'] = \n",
    "# df.ix[197674,'Category Name']=10"
   ]
  },
  {
   "cell_type": "code",
   "execution_count": 172,
   "metadata": {
    "collapsed": false
   },
   "outputs": [
    {
     "data": {
      "text/plain": [
       "632"
      ]
     },
     "execution_count": 172,
     "metadata": {},
     "output_type": "execute_result"
    }
   ],
   "source": [
    "df['Category Name'].isnull().sum()"
   ]
  },
  {
   "cell_type": "code",
   "execution_count": 124,
   "metadata": {
    "collapsed": false
   },
   "outputs": [
    {
     "data": {
      "text/html": [
       "<div>\n",
       "<table border=\"1\" class=\"dataframe\">\n",
       "  <thead>\n",
       "    <tr style=\"text-align: right;\">\n",
       "      <th></th>\n",
       "      <th>Category Name</th>\n",
       "    </tr>\n",
       "    <tr>\n",
       "      <th>Category</th>\n",
       "      <th></th>\n",
       "    </tr>\n",
       "  </thead>\n",
       "  <tbody>\n",
       "    <tr>\n",
       "      <th>1011100.0</th>\n",
       "      <td>[BLENDED WHISKIES]</td>\n",
       "    </tr>\n",
       "    <tr>\n",
       "      <th>1011200.0</th>\n",
       "      <td>[STRAIGHT BOURBON WHISKIES]</td>\n",
       "    </tr>\n",
       "    <tr>\n",
       "      <th>1011250.0</th>\n",
       "      <td>[SINGLE BARREL BOURBON WHISKIES]</td>\n",
       "    </tr>\n",
       "    <tr>\n",
       "      <th>1011300.0</th>\n",
       "      <td>[TENNESSEE WHISKIES]</td>\n",
       "    </tr>\n",
       "    <tr>\n",
       "      <th>1011400.0</th>\n",
       "      <td>[BOTTLED IN BOND BOURBON]</td>\n",
       "    </tr>\n",
       "    <tr>\n",
       "      <th>1011500.0</th>\n",
       "      <td>[STRAIGHT RYE WHISKIES]</td>\n",
       "    </tr>\n",
       "    <tr>\n",
       "      <th>1011600.0</th>\n",
       "      <td>[CORN WHISKIES]</td>\n",
       "    </tr>\n",
       "    <tr>\n",
       "      <th>1011700.0</th>\n",
       "      <td>[nan]</td>\n",
       "    </tr>\n",
       "    <tr>\n",
       "      <th>1012100.0</th>\n",
       "      <td>[CANADIAN WHISKIES]</td>\n",
       "    </tr>\n",
       "    <tr>\n",
       "      <th>1012200.0</th>\n",
       "      <td>[SCOTCH WHISKIES]</td>\n",
       "    </tr>\n",
       "    <tr>\n",
       "      <th>1012210.0</th>\n",
       "      <td>[SINGLE MALT SCOTCH]</td>\n",
       "    </tr>\n",
       "    <tr>\n",
       "      <th>1012300.0</th>\n",
       "      <td>[IRISH WHISKIES]</td>\n",
       "    </tr>\n",
       "    <tr>\n",
       "      <th>1012400.0</th>\n",
       "      <td>[JAPANESE WHISKY]</td>\n",
       "    </tr>\n",
       "    <tr>\n",
       "      <th>1022100.0</th>\n",
       "      <td>[TEQUILA]</td>\n",
       "    </tr>\n",
       "    <tr>\n",
       "      <th>1022200.0</th>\n",
       "      <td>[nan]</td>\n",
       "    </tr>\n",
       "    <tr>\n",
       "      <th>1031080.0</th>\n",
       "      <td>[VODKA 80 PROOF]</td>\n",
       "    </tr>\n",
       "    <tr>\n",
       "      <th>1031090.0</th>\n",
       "      <td>[OTHER PROOF VODKA]</td>\n",
       "    </tr>\n",
       "    <tr>\n",
       "      <th>1031100.0</th>\n",
       "      <td>[100 PROOF VODKA]</td>\n",
       "    </tr>\n",
       "    <tr>\n",
       "      <th>1031110.0</th>\n",
       "      <td>[LOW PROOF VODKA]</td>\n",
       "    </tr>\n",
       "    <tr>\n",
       "      <th>1031200.0</th>\n",
       "      <td>[VODKA FLAVORED]</td>\n",
       "    </tr>\n",
       "    <tr>\n",
       "      <th>1032080.0</th>\n",
       "      <td>[IMPORTED VODKA]</td>\n",
       "    </tr>\n",
       "    <tr>\n",
       "      <th>1032100.0</th>\n",
       "      <td>[nan]</td>\n",
       "    </tr>\n",
       "    <tr>\n",
       "      <th>1032200.0</th>\n",
       "      <td>[IMPORTED VODKA - MISC]</td>\n",
       "    </tr>\n",
       "    <tr>\n",
       "      <th>1041100.0</th>\n",
       "      <td>[AMERICAN DRY GINS]</td>\n",
       "    </tr>\n",
       "    <tr>\n",
       "      <th>1041150.0</th>\n",
       "      <td>[FLAVORED GINS]</td>\n",
       "    </tr>\n",
       "    <tr>\n",
       "      <th>1041200.0</th>\n",
       "      <td>[AMERICAN SLOE GINS]</td>\n",
       "    </tr>\n",
       "    <tr>\n",
       "      <th>1042100.0</th>\n",
       "      <td>[IMPORTED DRY GINS]</td>\n",
       "    </tr>\n",
       "    <tr>\n",
       "      <th>1051010.0</th>\n",
       "      <td>[AMERICAN GRAPE BRANDIES]</td>\n",
       "    </tr>\n",
       "    <tr>\n",
       "      <th>1051100.0</th>\n",
       "      <td>[APRICOT BRANDIES]</td>\n",
       "    </tr>\n",
       "    <tr>\n",
       "      <th>1051110.0</th>\n",
       "      <td>[BLACKBERRY BRANDIES]</td>\n",
       "    </tr>\n",
       "    <tr>\n",
       "      <th>...</th>\n",
       "      <td>...</td>\n",
       "    </tr>\n",
       "    <tr>\n",
       "      <th>1081300.0</th>\n",
       "      <td>[PEPPERMINT SCHNAPPS]</td>\n",
       "    </tr>\n",
       "    <tr>\n",
       "      <th>1081305.0</th>\n",
       "      <td>[APPLE SCHNAPPS]</td>\n",
       "    </tr>\n",
       "    <tr>\n",
       "      <th>1081312.0</th>\n",
       "      <td>[BUTTERSCOTCH SCHNAPPS]</td>\n",
       "    </tr>\n",
       "    <tr>\n",
       "      <th>1081315.0</th>\n",
       "      <td>[CINNAMON SCHNAPPS]</td>\n",
       "    </tr>\n",
       "    <tr>\n",
       "      <th>1081317.0</th>\n",
       "      <td>[GRAPE SCHNAPPS]</td>\n",
       "    </tr>\n",
       "    <tr>\n",
       "      <th>1081330.0</th>\n",
       "      <td>[PEACH SCHNAPPS]</td>\n",
       "    </tr>\n",
       "    <tr>\n",
       "      <th>1081335.0</th>\n",
       "      <td>[RASPBERRY SCHNAPPS]</td>\n",
       "    </tr>\n",
       "    <tr>\n",
       "      <th>1081340.0</th>\n",
       "      <td>[ROOT BEER SCHNAPPS]</td>\n",
       "    </tr>\n",
       "    <tr>\n",
       "      <th>1081350.0</th>\n",
       "      <td>[SPEARMINT SCHNAPPS]</td>\n",
       "    </tr>\n",
       "    <tr>\n",
       "      <th>1081355.0</th>\n",
       "      <td>[STRAWBERRY SCHNAPPS]</td>\n",
       "    </tr>\n",
       "    <tr>\n",
       "      <th>1081365.0</th>\n",
       "      <td>[TROPICAL FRUIT SCHNAPPS]</td>\n",
       "    </tr>\n",
       "    <tr>\n",
       "      <th>1081370.0</th>\n",
       "      <td>[WATERMELON SCHNAPPS]</td>\n",
       "    </tr>\n",
       "    <tr>\n",
       "      <th>1081380.0</th>\n",
       "      <td>[MISCELLANEOUS SCHNAPPS]</td>\n",
       "    </tr>\n",
       "    <tr>\n",
       "      <th>1081390.0</th>\n",
       "      <td>[IMPORTED SCHNAPPS]</td>\n",
       "    </tr>\n",
       "    <tr>\n",
       "      <th>1081400.0</th>\n",
       "      <td>[TRIPLE SEC]</td>\n",
       "    </tr>\n",
       "    <tr>\n",
       "      <th>1081500.0</th>\n",
       "      <td>[ROCK &amp; RYE]</td>\n",
       "    </tr>\n",
       "    <tr>\n",
       "      <th>1081600.0</th>\n",
       "      <td>[WHISKEY LIQUEUR]</td>\n",
       "    </tr>\n",
       "    <tr>\n",
       "      <th>1081700.0</th>\n",
       "      <td>[DISTILLED SPIRITS SPECIALTY]</td>\n",
       "    </tr>\n",
       "    <tr>\n",
       "      <th>1081900.0</th>\n",
       "      <td>[MISC. AMERICAN CORDIALS &amp; LIQUEURS]</td>\n",
       "    </tr>\n",
       "    <tr>\n",
       "      <th>1082010.0</th>\n",
       "      <td>[AMARETTO - IMPORTED]</td>\n",
       "    </tr>\n",
       "    <tr>\n",
       "      <th>1082015.0</th>\n",
       "      <td>[IMPORTED AMARETTO]</td>\n",
       "    </tr>\n",
       "    <tr>\n",
       "      <th>1082100.0</th>\n",
       "      <td>[nan]</td>\n",
       "    </tr>\n",
       "    <tr>\n",
       "      <th>1082200.0</th>\n",
       "      <td>[nan]</td>\n",
       "    </tr>\n",
       "    <tr>\n",
       "      <th>1082900.0</th>\n",
       "      <td>[MISC. IMPORTED CORDIALS &amp; LIQUEURS]</td>\n",
       "    </tr>\n",
       "    <tr>\n",
       "      <th>1091100.0</th>\n",
       "      <td>[nan]</td>\n",
       "    </tr>\n",
       "    <tr>\n",
       "      <th>1091300.0</th>\n",
       "      <td>[nan]</td>\n",
       "    </tr>\n",
       "    <tr>\n",
       "      <th>1092100.0</th>\n",
       "      <td>[nan]</td>\n",
       "    </tr>\n",
       "    <tr>\n",
       "      <th>1101100.0</th>\n",
       "      <td>[AMERICAN ALCOHOL]</td>\n",
       "    </tr>\n",
       "    <tr>\n",
       "      <th>1501100.0</th>\n",
       "      <td>[HIGH PROOF BEER - AMERICAN]</td>\n",
       "    </tr>\n",
       "    <tr>\n",
       "      <th>1701100.0</th>\n",
       "      <td>[DECANTERS &amp; SPECIALTY PACKAGES]</td>\n",
       "    </tr>\n",
       "  </tbody>\n",
       "</table>\n",
       "<p>83 rows × 1 columns</p>\n",
       "</div>"
      ],
      "text/plain": [
       "                                  Category Name\n",
       "Category                                       \n",
       "1011100.0                    [BLENDED WHISKIES]\n",
       "1011200.0           [STRAIGHT BOURBON WHISKIES]\n",
       "1011250.0      [SINGLE BARREL BOURBON WHISKIES]\n",
       "1011300.0                  [TENNESSEE WHISKIES]\n",
       "1011400.0             [BOTTLED IN BOND BOURBON]\n",
       "1011500.0               [STRAIGHT RYE WHISKIES]\n",
       "1011600.0                       [CORN WHISKIES]\n",
       "1011700.0                                 [nan]\n",
       "1012100.0                   [CANADIAN WHISKIES]\n",
       "1012200.0                     [SCOTCH WHISKIES]\n",
       "1012210.0                  [SINGLE MALT SCOTCH]\n",
       "1012300.0                      [IRISH WHISKIES]\n",
       "1012400.0                     [JAPANESE WHISKY]\n",
       "1022100.0                             [TEQUILA]\n",
       "1022200.0                                 [nan]\n",
       "1031080.0                      [VODKA 80 PROOF]\n",
       "1031090.0                   [OTHER PROOF VODKA]\n",
       "1031100.0                     [100 PROOF VODKA]\n",
       "1031110.0                     [LOW PROOF VODKA]\n",
       "1031200.0                      [VODKA FLAVORED]\n",
       "1032080.0                      [IMPORTED VODKA]\n",
       "1032100.0                                 [nan]\n",
       "1032200.0               [IMPORTED VODKA - MISC]\n",
       "1041100.0                   [AMERICAN DRY GINS]\n",
       "1041150.0                       [FLAVORED GINS]\n",
       "1041200.0                  [AMERICAN SLOE GINS]\n",
       "1042100.0                   [IMPORTED DRY GINS]\n",
       "1051010.0             [AMERICAN GRAPE BRANDIES]\n",
       "1051100.0                    [APRICOT BRANDIES]\n",
       "1051110.0                 [BLACKBERRY BRANDIES]\n",
       "...                                         ...\n",
       "1081300.0                 [PEPPERMINT SCHNAPPS]\n",
       "1081305.0                      [APPLE SCHNAPPS]\n",
       "1081312.0               [BUTTERSCOTCH SCHNAPPS]\n",
       "1081315.0                   [CINNAMON SCHNAPPS]\n",
       "1081317.0                      [GRAPE SCHNAPPS]\n",
       "1081330.0                      [PEACH SCHNAPPS]\n",
       "1081335.0                  [RASPBERRY SCHNAPPS]\n",
       "1081340.0                  [ROOT BEER SCHNAPPS]\n",
       "1081350.0                  [SPEARMINT SCHNAPPS]\n",
       "1081355.0                 [STRAWBERRY SCHNAPPS]\n",
       "1081365.0             [TROPICAL FRUIT SCHNAPPS]\n",
       "1081370.0                 [WATERMELON SCHNAPPS]\n",
       "1081380.0              [MISCELLANEOUS SCHNAPPS]\n",
       "1081390.0                   [IMPORTED SCHNAPPS]\n",
       "1081400.0                          [TRIPLE SEC]\n",
       "1081500.0                          [ROCK & RYE]\n",
       "1081600.0                     [WHISKEY LIQUEUR]\n",
       "1081700.0         [DISTILLED SPIRITS SPECIALTY]\n",
       "1081900.0  [MISC. AMERICAN CORDIALS & LIQUEURS]\n",
       "1082010.0                 [AMARETTO - IMPORTED]\n",
       "1082015.0                   [IMPORTED AMARETTO]\n",
       "1082100.0                                 [nan]\n",
       "1082200.0                                 [nan]\n",
       "1082900.0  [MISC. IMPORTED CORDIALS & LIQUEURS]\n",
       "1091100.0                                 [nan]\n",
       "1091300.0                                 [nan]\n",
       "1092100.0                                 [nan]\n",
       "1101100.0                    [AMERICAN ALCOHOL]\n",
       "1501100.0          [HIGH PROOF BEER - AMERICAN]\n",
       "1701100.0      [DECANTERS & SPECIALTY PACKAGES]\n",
       "\n",
       "[83 rows x 1 columns]"
      ]
     },
     "execution_count": 124,
     "metadata": {},
     "output_type": "execute_result"
    }
   ],
   "source": [
    "df2 = pd.DataFrame(df.groupby('Category')['Category Name'].unique())"
   ]
  },
  {
   "cell_type": "code",
   "execution_count": 18,
   "metadata": {
    "collapsed": false
   },
   "outputs": [
    {
     "data": {
      "text/plain": [
       "0   2015-11-04\n",
       "1   2016-03-02\n",
       "2   2016-02-11\n",
       "3   2016-02-03\n",
       "4   2015-08-18\n",
       "Name: Date, dtype: datetime64[ns]"
      ]
     },
     "execution_count": 18,
     "metadata": {},
     "output_type": "execute_result"
    }
   ],
   "source": [
    "## Transform the dates if needed, e.g.\n",
    "df[\"Date\"] = pd.to_datetime(df[\"Date\"], format=\"%m/%d/%Y\")\n",
    "df['Date'].head()"
   ]
  },
  {
   "cell_type": "markdown",
   "metadata": {},
   "source": [
    "# Explore the data\n",
    "\n",
    "Perform some exploratory statistical analysis and make some plots, such as histograms of transaction totals, bottles sold, etc."
   ]
  },
  {
   "cell_type": "code",
   "execution_count": 19,
   "metadata": {
    "collapsed": true
   },
   "outputs": [],
   "source": [
    "import seaborn as sns\n",
    "import matplotlib.pyplot as plt"
   ]
  },
  {
   "cell_type": "code",
   "execution_count": 20,
   "metadata": {
    "collapsed": false
   },
   "outputs": [
    {
     "data": {
      "text/plain": [
       "array(['50674', '52807', '50613', '50010', '50421', '52402', '52501',\n",
       "       '50428', '50035', '52332', '50265', '52577', '52806', '52656',\n",
       "       '52241', '50703', '50208', '52342', '51250', '50401', '51351',\n",
       "       '52246', '51501', '50111', '52245', '52632', '50125', '50501',\n",
       "       '50311', '50317', '50124', '52804', '50320', '50651', '50129',\n",
       "       '50021', '52224', '50533', '50212', '52060', '51401', '50595',\n",
       "       '51104', '52404', '52353', '50616', '52057', '51201', '50009',\n",
       "       '50588', '52802', '51503', '50638', '51106', '51360', '52001',\n",
       "       '50250', '51461', '52641', '52303', '50115', '52144', '51301',\n",
       "       '52761', '50851', '51555', '52240', '50126', '50511', '50310',\n",
       "       '50263', '50314', '52753', '50701', '50140', '52732', '50665',\n",
       "       '52601', '712-2', '51041', '51455', '51453', '52405', '52302',\n",
       "       '50023', '50131', '50662', '52310', '50423', '52208', '52361',\n",
       "       '50201', '50003', '50315', '52136', '52544', '52556', '51334',\n",
       "       '50158', '52778', '51601', '52337', '51105', '51632', '50583',\n",
       "       '50325', '50707', '51103', '51040', '52340', '52101', '50220',\n",
       "       '52356', '52172', '52043', '50450', '50676', '50036', '52803',\n",
       "       '50028', '50112', '50219', '52205', '52317', '50644', '50441',\n",
       "       '50316', '52087', '52637', '51012', '52401', '50548', '52159',\n",
       "       '52655', '50322', '50138', '52722', '51004', '52591', '50436',\n",
       "       '51031', '50248', '51247', '51537', '50677', '50266', '50006',\n",
       "       '50619', '50213', '50171', '52003', '52228', '50163', '51331',\n",
       "       '51442', '52748', '50536', '51034', '50022', '51028', '52776',\n",
       "       '51546', '51241', '50438', '52084', '52403', '50156', '52345',\n",
       "       '52627', '52036', '52314', '51246', '50702', '50321', '50554',\n",
       "       '52033', '51025', '50667', '52301', '52772', '50801', '51054',\n",
       "       '50312', '51640', '51566', '50327', '50071', '51101', '52738',\n",
       "       '50621', '52553', '50846', '50228', '52358', '51248', '50461',\n",
       "       '50622', '52002', '50627', '51561', '50014', '50273', '50226',\n",
       "       '52411', '50647', '51237', '51023', '50628', '52537', '50049',\n",
       "       '51108', '52211', '50648', '50170', '52333', '52031', '51560',\n",
       "       '52733', '51449', '50309', '52747', '52076', '50313', '50849',\n",
       "       '50574', '52653', '50046', '52040', '51445', '50075', '52052',\n",
       "       '50076', '50060', '50472', '50211', '51245', '52151', '50142',\n",
       "       '51347', '50207', '50601', '51109', '52349', '51058', '50249',\n",
       "       '50483', '51521', '50109', '51249', '50659', '52626', '52175',\n",
       "       '50459', '51510', '52531', '50424', '52726', '50517', '56201',\n",
       "       '50636', '51577', '52037', '51551', '52233', '50107', '51534',\n",
       "       '50054', '52068', '50435', '50602', '50058', '50216', '52639',\n",
       "       '50585', '50525', '50841', '52327', '50033', '52253', '50630',\n",
       "       '50323', '52248', '50069', '50629', '52565', '51346', '50225',\n",
       "       '52213', '50563', '52623', '50597', '52227', '50135', '51355',\n",
       "       '50529', '52162', '52154', '52146', '52338', '51450', '51046',\n",
       "       '52042', '52214', '51001', '50324', '50144', '50830', '52347',\n",
       "       '51240', '50475', '50543', '51443', '50643', '52751', '50541',\n",
       "       '50675', '50833', '52142', '52554', '50276', '50658', '51559',\n",
       "       '51342', '50247', '51055', '50469', '50300', '52768', '51462',\n",
       "       '52079', '50002', '52730', '50581', '51579', '50244', '50854',\n",
       "       '50025', '50864', '50150', '50535', '50122', '51530', '50047',\n",
       "       '52728', '50020', '50682', '52625', '52053', '52324', '51027',\n",
       "       '50641', '51526', '50579', '51050', '50606', '52306', '52742',\n",
       "       '50669', '51358', '50251', '52336', '50635', '52254', '51338',\n",
       "       '50458', '50056', '50240', '50530', '52207', '50590', '50161',\n",
       "       '50048', '50072', '50044', '50261', '50680', '52316', '52571',\n",
       "       '50136', '50466', '51035', '50130', '51238', '51466', '52046',\n",
       "       '51575', '52223', '50210', '50160', '50123', '52777', '52166',\n",
       "       '50456', '51053', '50452', '50061', '50634', '52351', '52352',\n",
       "       '50569', '51002', '50514', '51553', '51653', '50540', '51005',\n",
       "       '50430', '52590', '52801', '52328', '50542', '51535', '51038',\n",
       "       '50162', '50237'], dtype=object)"
      ]
     },
     "execution_count": 20,
     "metadata": {},
     "output_type": "execute_result"
    }
   ],
   "source": [
    "df.groupby"
   ]
  },
  {
   "cell_type": "markdown",
   "metadata": {},
   "source": [
    "## Record your findings\n",
    "\n",
    "Be sure to write out anything observations from your exploratory analysis."
   ]
  },
  {
   "cell_type": "markdown",
   "metadata": {},
   "source": [
    "# Mine the data\n",
    "Now you are ready to compute the variables you will use for your regression from the data. For example, you may want to\n",
    "compute total sales per store from Jan to March of 2015, mean price per bottle, etc. Refer to the readme for more ideas appropriate to your scenario.\n",
    "\n",
    "Pandas is your friend for this task. Take a look at the operations [here](http://pandas.pydata.org/pandas-docs/stable/groupby.html) for ideas on how to make the best use of pandas and feel free to search for blog and Stack Overflow posts to help you group data by certain variables and compute sums, means, etc. You may find it useful to create a new data frame to house this summary data."
   ]
  },
  {
   "cell_type": "markdown",
   "metadata": {},
   "source": [
    "# Refine the data\n",
    "Look for any statistical relationships, correlations, or other relevant properties of the dataset."
   ]
  },
  {
   "cell_type": "code",
   "execution_count": null,
   "metadata": {
    "collapsed": true
   },
   "outputs": [],
   "source": []
  },
  {
   "cell_type": "markdown",
   "metadata": {},
   "source": [
    "# Build your models\n",
    "\n",
    "Using scikit-learn or statsmodels, build the necessary models for your scenario. Evaluate model fit."
   ]
  },
  {
   "cell_type": "code",
   "execution_count": 6,
   "metadata": {
    "collapsed": true
   },
   "outputs": [],
   "source": [
    "from sklearn import linear_model\n"
   ]
  },
  {
   "cell_type": "markdown",
   "metadata": {},
   "source": [
    "## Plot your results\n",
    "\n",
    "Again make sure that you record any valuable information. For example, in the tax scenario, did you find the sales from the first three months of the year to be a good predictor of the total sales for the year? Plot the predictions versus the true values and discuss the successes and limitations of your models"
   ]
  },
  {
   "cell_type": "code",
   "execution_count": null,
   "metadata": {
    "collapsed": true
   },
   "outputs": [],
   "source": []
  },
  {
   "cell_type": "markdown",
   "metadata": {},
   "source": [
    "# Present the Results\n",
    "\n",
    "Present your conclusions and results. If you have more than one interesting model feel free to include more than one along with a discussion. Use your work in this notebook to prepare your write-up."
   ]
  },
  {
   "cell_type": "code",
   "execution_count": null,
   "metadata": {
    "collapsed": true
   },
   "outputs": [],
   "source": []
  }
 ],
 "metadata": {
  "anaconda-cloud": {},
  "kernelspec": {
   "display_name": "Python [Root]",
   "language": "python",
   "name": "Python [Root]"
  },
  "language_info": {
   "codemirror_mode": {
    "name": "ipython",
    "version": 2
   },
   "file_extension": ".py",
   "mimetype": "text/x-python",
   "name": "python",
   "nbconvert_exporter": "python",
   "pygments_lexer": "ipython2",
   "version": "2.7.12"
  }
 },
 "nbformat": 4,
 "nbformat_minor": 0
}
